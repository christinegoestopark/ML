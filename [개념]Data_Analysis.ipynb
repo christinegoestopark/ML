{
  "nbformat": 4,
  "nbformat_minor": 0,
  "metadata": {
    "colab": {
      "name": "[개념] Data Analysis.ipynb",
      "provenance": [],
      "toc_visible": true
    },
    "kernelspec": {
      "name": "python3",
      "display_name": "Python 3"
    }
  },
  "cells": [
    {
      "cell_type": "markdown",
      "metadata": {
        "id": "5kR8rqjxhI9C"
      },
      "source": [
        "# Numpy\n",
        "\n"
      ]
    },
    {
      "cell_type": "code",
      "metadata": {
        "id": "B1oUSzuLRIo0"
      },
      "source": [
        "#수치연산\n",
        "import numpy as np\n",
        "#data 처리\n",
        "import pandas as pd\n",
        "from pandas import DataFrame, Series\n",
        "#data visualization\n",
        "import matplotlib.pyplot as plt\n",
        "import seaborn as sns"
      ],
      "execution_count": null,
      "outputs": []
    },
    {
      "cell_type": "code",
      "metadata": {
        "colab": {
          "base_uri": "https://localhost:8080/"
        },
        "id": "8k_dJ3wFhcef",
        "outputId": "77a84075-05b5-43d8-84a1-4a2254510c2a"
      },
      "source": [
        "# 1 dimensional arrangement\n",
        "arr1 = np.array([3,4,5])\n",
        "print(arr1)\n",
        "\n",
        "# 2 dimensional arrangement\n",
        "arr2=np.array([[1.0,2,3],[4,5,6]])\n",
        "print(arr2)"
      ],
      "execution_count": null,
      "outputs": [
        {
          "output_type": "stream",
          "text": [
            "[3 4 5]\n",
            "[[1. 2. 3.]\n",
            " [4. 5. 6.]]\n"
          ],
          "name": "stdout"
        }
      ]
    },
    {
      "cell_type": "code",
      "metadata": {
        "colab": {
          "base_uri": "https://localhost:8080/"
        },
        "id": "kqz0xN_Phccl",
        "outputId": "f5eba4ac-71b0-46a0-dca4-efe5186778d2"
      },
      "source": [
        "# how to check the (1) dimension, (2) row * column, and (3)type \n",
        "#1. dimension(차원): np.ndim (RANK)\n",
        "print(np.ndim(arr1))\n",
        "print(np.ndim(arr2))\n",
        "#2. row * column (크기): np.shape\n",
        "print(np.shape(arr1)) \n",
        "print(np.shape(arr2)) #(2,3) means 2 row by 3 column\n",
        "#3. type: type (n차원의 배열)\n",
        "print(type(arr2)) #ndarray \n",
        "#4. data type: dtype. 같은 data type 으로만 저장이 가능함.\n",
        "print(arr2.dtype)"
      ],
      "execution_count": null,
      "outputs": [
        {
          "output_type": "stream",
          "text": [
            "1\n",
            "2\n",
            "(3,)\n",
            "(2, 3)\n",
            "<class 'numpy.ndarray'>\n",
            "float64\n"
          ],
          "name": "stdout"
        }
      ]
    },
    {
      "cell_type": "code",
      "metadata": {
        "id": "WUDo8B05hcac",
        "colab": {
          "base_uri": "https://localhost:8080/"
        },
        "outputId": "dfd5a2ec-95fc-44a7-c61b-786541262b04"
      },
      "source": [
        "print(np.mean(arr2, axis=0)) # 기준이 되는 축"
      ],
      "execution_count": null,
      "outputs": [
        {
          "output_type": "stream",
          "text": [
            "[2.5 3.5 4.5]\n"
          ],
          "name": "stdout"
        }
      ]
    },
    {
      "cell_type": "code",
      "metadata": {
        "id": "wKMT-8fGhcYf",
        "colab": {
          "base_uri": "https://localhost:8080/"
        },
        "outputId": "880d4983-cbcc-4eb7-e23c-735046d18d91"
      },
      "source": [
        "#numpy 배열 생성: random module 통해 make an array\n",
        "np.random.seed(1) #this returns the same value \n",
        "arr2 = np.random.randn(4,4)\n",
        "print(arr2)"
      ],
      "execution_count": null,
      "outputs": [
        {
          "output_type": "stream",
          "text": [
            "[[ 1.62434536 -0.61175641 -0.52817175 -1.07296862]\n",
            " [ 0.86540763 -2.3015387   1.74481176 -0.7612069 ]\n",
            " [ 0.3190391  -0.24937038  1.46210794 -2.06014071]\n",
            " [-0.3224172  -0.38405435  1.13376944 -1.09989127]]\n"
          ],
          "name": "stdout"
        }
      ]
    },
    {
      "cell_type": "code",
      "metadata": {
        "id": "HJfw7ar4hcWb",
        "colab": {
          "base_uri": "https://localhost:8080/"
        },
        "outputId": "9b3470d9-fa83-419b-98e2-7227d6125c72"
      },
      "source": [
        "np.random.seed(2)\n",
        "# 1 dimensional data : 1행 16열\n",
        "arr3 = np.random.randint(1,10,16) #1부터 10 까지의 값 16개가 랜덤하게 만들어진다, 1행 16열\n",
        "# use 'reshape' to change the dimension\n",
        "arr3 = arr3.reshape(4,4)\n",
        "arr3_2 = arr3.reshape(2,-1) #if you only want 2 rows 8 columns \n",
        "arr3_3 = arr3.reshape(-1,2) # this gives 8 rows 2 columns. \n",
        "arr3_1_1 = arr3.reshape(-1,4)\n",
        "print(arr3)\n",
        "print(arr3_2)\n",
        "print(arr3_3)\n",
        "print(arr3_1_1)\n"
      ],
      "execution_count": null,
      "outputs": [
        {
          "output_type": "stream",
          "text": [
            "[[9 9 7 3]\n",
            " [9 8 3 2]\n",
            " [6 5 5 6]\n",
            " [8 4 7 5]]\n",
            "[[9 9 7 3 9 8 3 2]\n",
            " [6 5 5 6 8 4 7 5]]\n",
            "[[9 9]\n",
            " [7 3]\n",
            " [9 8]\n",
            " [3 2]\n",
            " [6 5]\n",
            " [5 6]\n",
            " [8 4]\n",
            " [7 5]]\n",
            "[[9 9 7 3]\n",
            " [9 8 3 2]\n",
            " [6 5 5 6]\n",
            " [8 4 7 5]]\n"
          ],
          "name": "stdout"
        }
      ]
    },
    {
      "cell_type": "code",
      "metadata": {
        "colab": {
          "base_uri": "https://localhost:8080/"
        },
        "id": "8-ZuhDgEghfC",
        "outputId": "2f0077c3-d998-47fa-cfe7-3cada04e5c8e"
      },
      "source": [
        "# dimension, row*column, \n",
        "print('차원:', arr3.ndim)    #np.ndim(arr3)\n",
        "print('행&열:', arr3.shape)\n",
        "print('갯수:', arr3.size)\n",
        "print('data type:', arr3.dtype)\n",
        "print('transpose\\n', arr3.T) #transpose changes the row and column"
      ],
      "execution_count": null,
      "outputs": [
        {
          "output_type": "stream",
          "text": [
            "차원: 2\n",
            "행&열: (4, 4)\n",
            "갯수: 16\n",
            "data type: int64\n",
            "transpose\n",
            " [[9 9 6 8]\n",
            " [9 8 5 4]\n",
            " [7 3 5 7]\n",
            " [3 2 6 5]]\n"
          ],
          "name": "stdout"
        }
      ]
    },
    {
      "cell_type": "code",
      "metadata": {
        "colab": {
          "base_uri": "https://localhost:8080/"
        },
        "id": "LDE9TkfriLc3",
        "outputId": "7801be81-94b0-4ce2-96dc-c888783eacf1"
      },
      "source": [
        "#calculation\n",
        "arr3 * 10 # multiply each value in the dataframe by 10 \n",
        "arr3 + arr3"
      ],
      "execution_count": null,
      "outputs": [
        {
          "output_type": "execute_result",
          "data": {
            "text/plain": [
              "array([[18, 18, 14,  6],\n",
              "       [18, 16,  6,  4],\n",
              "       [12, 10, 10, 12],\n",
              "       [16,  8, 14, 10]])"
            ]
          },
          "metadata": {
            "tags": []
          },
          "execution_count": 57
        }
      ]
    },
    {
      "cell_type": "markdown",
      "metadata": {
        "id": "iUt1kMCZidc1"
      },
      "source": [
        "## Numpy Indexing & Slicing"
      ]
    },
    {
      "cell_type": "code",
      "metadata": {
        "colab": {
          "base_uri": "https://localhost:8080/"
        },
        "id": "eGbJuJgwinSt",
        "outputId": "1d9e2812-567f-4252-ca9e-069e53fb5885"
      },
      "source": [
        "# indexing: arr[행, 열] brings the value\n",
        "#slicing: arr[행:행, 열:열] - 차원 유지. but, slicing + indexing 하면 차원 감소\n",
        "\n",
        "arr3"
      ],
      "execution_count": null,
      "outputs": [
        {
          "output_type": "execute_result",
          "data": {
            "text/plain": [
              "array([[9, 9, 7, 3],\n",
              "       [9, 8, 3, 2],\n",
              "       [6, 5, 5, 6],\n",
              "       [8, 4, 7, 5]])"
            ]
          },
          "metadata": {
            "tags": []
          },
          "execution_count": 58
        }
      ]
    },
    {
      "cell_type": "code",
      "metadata": {
        "colab": {
          "base_uri": "https://localhost:8080/"
        },
        "id": "eFbrmGJuinQj",
        "outputId": "5cb5e8d5-9ec0-402c-a6f8-ce6fd66c97ea"
      },
      "source": [
        "# indexing 연습: arr[행, 열]\n",
        "np.random.seed(2)\n",
        "arr = np.random.randint(1,100,16)\n",
        "arr2 = arr.reshape(4,4)\n",
        "print(arr2)\n",
        "\n",
        "# indexing: 96, 8\n",
        "A = arr2[2,2] #3행 3열 값 가져오기\n",
        "B = arr2[1,3] #2행 4열 값 가져오기\n",
        "print(A,B)\n",
        "\n",
        "# slicing 연습\n",
        "C = arr2[:,1:2] #1~4행, 2열 값 가져오기\n",
        "print(C)\n",
        "C_new = arr2[:,1] #차원이 바뀜! change the dimension from 2 to 1\n",
        "print(C_new)\n",
        "D = arr2[1:,2:] #2~4행, 3~4열 값 가져오기\n",
        "print(D)"
      ],
      "execution_count": null,
      "outputs": [
        {
          "output_type": "stream",
          "text": [
            "[[41 16 73 23]\n",
            " [44 83 76  8]\n",
            " [35 50 96 76]\n",
            " [86 48 64 32]]\n",
            "96 8\n",
            "[[16]\n",
            " [83]\n",
            " [50]\n",
            " [48]]\n",
            "[16 83 50 48]\n",
            "[[76  8]\n",
            " [96 76]\n",
            " [64 32]]\n"
          ],
          "name": "stdout"
        }
      ]
    },
    {
      "cell_type": "markdown",
      "metadata": {
        "id": "5JzxlQRAm0IC"
      },
      "source": [
        "### 조건 검색"
      ]
    },
    {
      "cell_type": "code",
      "metadata": {
        "colab": {
          "base_uri": "https://localhost:8080/"
        },
        "id": "9GhByk20inOX",
        "outputId": "7fee19ed-9f1e-4bb9-9f12-1609bebf7359"
      },
      "source": [
        "np.random.seed(1) #this returns the same value \n",
        "arr2 = np.random.randn(4,4)\n",
        "print(arr2)"
      ],
      "execution_count": null,
      "outputs": [
        {
          "output_type": "stream",
          "text": [
            "[[ 1.62434536 -0.61175641 -0.52817175 -1.07296862]\n",
            " [ 0.86540763 -2.3015387   1.74481176 -0.7612069 ]\n",
            " [ 0.3190391  -0.24937038  1.46210794 -2.06014071]\n",
            " [-0.3224172  -0.38405435  1.13376944 -1.09989127]]\n"
          ],
          "name": "stdout"
        }
      ]
    },
    {
      "cell_type": "code",
      "metadata": {
        "colab": {
          "base_uri": "https://localhost:8080/"
        },
        "id": "opvZPOrZmy4W",
        "outputId": "91f90ce6-a9fd-4546-fcaa-4b79a71b237d"
      },
      "source": [
        "arr2 > 0 #gives boolean array \n",
        "result = arr2[arr2>0]\n",
        "print(result)\n",
        "\n",
        "arr2_ori = arr2.copy()\n",
        "#arr2에서 0보다 작은 값 모두 0으로 변환\n",
        "arr2[arr2<0] = 0\n",
        "print(arr2)"
      ],
      "execution_count": null,
      "outputs": [
        {
          "output_type": "stream",
          "text": [
            "[1.62434536 0.86540763 1.74481176 0.3190391  1.46210794 1.13376944]\n",
            "[[1.62434536 0.         0.         0.        ]\n",
            " [0.86540763 0.         1.74481176 0.        ]\n",
            " [0.3190391  0.         1.46210794 0.        ]\n",
            " [0.         0.         1.13376944 0.        ]]\n"
          ],
          "name": "stdout"
        }
      ]
    },
    {
      "cell_type": "code",
      "metadata": {
        "colab": {
          "base_uri": "https://localhost:8080/"
        },
        "id": "6UcPexvom260",
        "outputId": "931e6c4d-e5f5-4a1e-b726-279b21e244b7"
      },
      "source": [
        "# where function - 조건 만족시킨 자리에 위치 \n",
        "np.where(arr2 > 0)\n",
        "print(arr2)"
      ],
      "execution_count": null,
      "outputs": [
        {
          "output_type": "stream",
          "text": [
            "[[1.62434536 0.         0.         0.        ]\n",
            " [0.86540763 0.         1.74481176 0.        ]\n",
            " [0.3190391  0.         1.46210794 0.        ]\n",
            " [0.         0.         1.13376944 0.        ]]\n"
          ],
          "name": "stdout"
        }
      ]
    },
    {
      "cell_type": "code",
      "metadata": {
        "colab": {
          "base_uri": "https://localhost:8080/"
        },
        "id": "Zu-QYPKPmy0r",
        "outputId": "f25d5505-d454-46bd-f11b-b2672e6f3822"
      },
      "source": [
        "np.where(arr2 % 2 == 0)\n",
        "\n",
        "# column \n",
        "np.sum(arr2, axis=1)\n",
        "np.max(arr2, axis=1)"
      ],
      "execution_count": null,
      "outputs": [
        {
          "output_type": "execute_result",
          "data": {
            "text/plain": [
              "array([1.62434536, 1.74481176, 1.46210794, 1.13376944])"
            ]
          },
          "metadata": {
            "tags": []
          },
          "execution_count": 63
        }
      ]
    },
    {
      "cell_type": "code",
      "metadata": {
        "colab": {
          "base_uri": "https://localhost:8080/"
        },
        "id": "R3ZKScieinMj",
        "outputId": "c5c3bf5a-1024-44b0-ce47-2b560c00c2be"
      },
      "source": [
        "print(arr3)\n",
        "arr3.reshape(4,4)\n",
        "print(np.where(arr3==71))"
      ],
      "execution_count": null,
      "outputs": [
        {
          "output_type": "stream",
          "text": [
            "[[9 9 7 3]\n",
            " [9 8 3 2]\n",
            " [6 5 5 6]\n",
            " [8 4 7 5]]\n",
            "(array([], dtype=int64), array([], dtype=int64))\n"
          ],
          "name": "stdout"
        }
      ]
    },
    {
      "cell_type": "code",
      "metadata": {
        "colab": {
          "base_uri": "https://localhost:8080/"
        },
        "id": "Dh3KCDZsinKX",
        "outputId": "aa7d144f-90df-47d7-8489-416a319d608e"
      },
      "source": [
        "np.where(arr3>0, arr3, 0)\n",
        "arr3 = arr3.reshape(4,4)\n",
        "arr3_new=np.where(arr3>50, arr3, 0)\n",
        "print(arr3_new)"
      ],
      "execution_count": null,
      "outputs": [
        {
          "output_type": "stream",
          "text": [
            "[[0 0 0 0]\n",
            " [0 0 0 0]\n",
            " [0 0 0 0]\n",
            " [0 0 0 0]]\n"
          ],
          "name": "stdout"
        }
      ]
    },
    {
      "cell_type": "markdown",
      "metadata": {
        "id": "DbqG2lHzRCnQ"
      },
      "source": [
        "## Statistical Function"
      ]
    },
    {
      "cell_type": "code",
      "metadata": {
        "colab": {
          "base_uri": "https://localhost:8080/"
        },
        "id": "ilBIG2ngRFg0",
        "outputId": "cb703afb-9093-4392-a5a7-3b09b884bce5"
      },
      "source": [
        "#sum, mean, min, max, argmin, argmax\n",
        "np.random.seed(2)\n",
        "data1 = np.random.randint(1,100,16)\n",
        "data1 = arr.reshape(4,4)\n",
        "\n",
        "print(data1)\n",
        "# print(np.sum(data1))\n",
        "# print(np.sum(data1, axis=0))\n",
        "# print(np.max(data1, axis=1))\n",
        "\n",
        "# 최대값 또는 최소값이 제일 먼저 나오는 인덱스 값을 구할 때: argmin, argmax\n",
        "print(np.argmax(data1)) #gives the index \n",
        "print(np.argmax(data1, axis=0)) #gives the biggest number in each column \n",
        "print(np.argmin(data1))"
      ],
      "execution_count": null,
      "outputs": [
        {
          "output_type": "stream",
          "text": [
            "[[41 16 73 23]\n",
            " [44 83 76  8]\n",
            " [35 50 96 76]\n",
            " [86 48 64 32]]\n",
            "10\n",
            "[3 1 2 2]\n",
            "7\n"
          ],
          "name": "stdout"
        }
      ]
    },
    {
      "cell_type": "markdown",
      "metadata": {
        "id": "yqSqzoRaYvNw"
      },
      "source": [
        "# Pandas"
      ]
    },
    {
      "cell_type": "markdown",
      "metadata": {
        "id": "1SEa7wLxY7bF"
      },
      "source": [
        "## Pandas 자료 구조 - Series & DataFrame"
      ]
    },
    {
      "cell_type": "markdown",
      "metadata": {
        "id": "VdPdM4xukak7"
      },
      "source": [
        "### Series"
      ]
    },
    {
      "cell_type": "code",
      "metadata": {
        "colab": {
          "base_uri": "https://localhost:8080/"
        },
        "id": "9-T8YF3ZRFeW",
        "outputId": "f5929107-b9e9-4ea3-fe80-287ebd6a0a3a"
      },
      "source": [
        "import pandas as pd\n",
        "\n",
        "# Series 생성: data and index\n",
        "ser1 = Series([2,4,8,3,7], index=list('abcde'))\n",
        "ser1"
      ],
      "execution_count": null,
      "outputs": [
        {
          "output_type": "execute_result",
          "data": {
            "text/plain": [
              "a    2\n",
              "b    4\n",
              "c    8\n",
              "d    3\n",
              "e    7\n",
              "dtype: int64"
            ]
          },
          "metadata": {
            "tags": []
          },
          "execution_count": 67
        }
      ]
    },
    {
      "cell_type": "code",
      "metadata": {
        "colab": {
          "base_uri": "https://localhost:8080/"
        },
        "id": "3GP3lFdgY8zS",
        "outputId": "cecefabc-1427-4feb-917c-23553fbce1d5"
      },
      "source": [
        "# 구조 파악하기 - index, column, data 조회\n",
        "# index 조회\n",
        "print(ser1.index)\n",
        "# data 조회\n",
        "print(ser1.values)"
      ],
      "execution_count": null,
      "outputs": [
        {
          "output_type": "stream",
          "text": [
            "Index(['a', 'b', 'c', 'd', 'e'], dtype='object')\n",
            "[2 4 8 3 7]\n"
          ],
          "name": "stdout"
        }
      ]
    },
    {
      "cell_type": "code",
      "metadata": {
        "id": "ixbItlDeY8xB",
        "colab": {
          "base_uri": "https://localhost:8080/"
        },
        "outputId": "22777664-98b2-4f01-fcc6-cd124afb6250"
      },
      "source": [
        "# 각 인덱스에 해당하는 데이터 조회 - dictionary 와 같은 구조\n",
        "# 라벨 인덱스\n",
        "print(ser1['c'])\n",
        "# 정수 인덱스 \n",
        "print(ser1[2]) \n",
        "\n",
        "# slicing \n",
        "# 라벨의 경우는 마지막 값 포함\n",
        "print(ser1['b':'d'])\n",
        "# 정수의 경우에는 마지막 값 포함하지 않음 \n",
        "print(ser1[1:4])\n",
        "\n",
        "# 정수 인덱스와 슬라이싱 이용해 a,c,e 값 출력하기 \n",
        "print(ser1['a':'e':2])\n",
        "ser1_1 = (ser1[::2])"
      ],
      "execution_count": null,
      "outputs": [
        {
          "output_type": "stream",
          "text": [
            "8\n",
            "8\n",
            "b    4\n",
            "c    8\n",
            "d    3\n",
            "dtype: int64\n",
            "b    4\n",
            "c    8\n",
            "d    3\n",
            "dtype: int64\n",
            "a    2\n",
            "c    8\n",
            "e    7\n",
            "dtype: int64\n"
          ],
          "name": "stdout"
        }
      ]
    },
    {
      "cell_type": "code",
      "metadata": {
        "id": "kcOh-XGrcp2B",
        "colab": {
          "base_uri": "https://localhost:8080/"
        },
        "outputId": "0ef9b379-9849-4158-aada-9759ac89f545"
      },
      "source": [
        "# series computation\n",
        "print(ser1)\n",
        "print(ser1_1)\n",
        "ser1 + ser1_1 # 연산값 is based on the key value  "
      ],
      "execution_count": null,
      "outputs": [
        {
          "output_type": "stream",
          "text": [
            "a    2\n",
            "b    4\n",
            "c    8\n",
            "d    3\n",
            "e    7\n",
            "dtype: int64\n",
            "a    2\n",
            "c    8\n",
            "e    7\n",
            "dtype: int64\n"
          ],
          "name": "stdout"
        },
        {
          "output_type": "execute_result",
          "data": {
            "text/plain": [
              "a     4.0\n",
              "b     NaN\n",
              "c    16.0\n",
              "d     NaN\n",
              "e    14.0\n",
              "dtype: float64"
            ]
          },
          "metadata": {
            "tags": []
          },
          "execution_count": 70
        }
      ]
    },
    {
      "cell_type": "code",
      "metadata": {
        "colab": {
          "base_uri": "https://localhost:8080/"
        },
        "id": "Q_VVCPzWcpzp",
        "outputId": "4eb4df76-832e-441c-a057-c185f3d8226c"
      },
      "source": [
        "# find values bigger than 5\n",
        "ser1 > 5 # returns T / F value\n",
        "########### how to select rows from df\n",
        "ser1[ser1>5] # index the t/f value !! "
      ],
      "execution_count": null,
      "outputs": [
        {
          "output_type": "execute_result",
          "data": {
            "text/plain": [
              "c    8\n",
              "e    7\n",
              "dtype: int64"
            ]
          },
          "metadata": {
            "tags": []
          },
          "execution_count": 71
        }
      ]
    },
    {
      "cell_type": "code",
      "metadata": {
        "id": "qSFVow9cXdmd"
      },
      "source": [
        "# # count frequency of the value\n",
        "# ser1=pd.Series(draws)\n",
        "# ser1.value_counts()\n",
        "# ser1.value_counts().plot(kind='bar') #visualization!\n",
        "# plt.show()  "
      ],
      "execution_count": null,
      "outputs": []
    },
    {
      "cell_type": "markdown",
      "metadata": {
        "id": "LZGH420Okcoz"
      },
      "source": [
        "### Dataframe"
      ]
    },
    {
      "cell_type": "code",
      "metadata": {
        "colab": {
          "base_uri": "https://localhost:8080/"
        },
        "id": "9cIaATiyknd4",
        "outputId": "651045d9-e957-460e-82a1-b4f5dffd9c80"
      },
      "source": [
        "np.random.seed(10)\n",
        "arr = np.random.randint(30,100,16).reshape(4,4)\n",
        "df1 = DataFrame(arr, index=list('abcd'), columns=['x1','x2','x3','x4'])\n",
        "df1"
      ],
      "execution_count": null,
      "outputs": [
        {
          "output_type": "execute_result",
          "data": {
            "text/html": [
              "<div>\n",
              "<style scoped>\n",
              "    .dataframe tbody tr th:only-of-type {\n",
              "        vertical-align: middle;\n",
              "    }\n",
              "\n",
              "    .dataframe tbody tr th {\n",
              "        vertical-align: top;\n",
              "    }\n",
              "\n",
              "    .dataframe thead th {\n",
              "        text-align: right;\n",
              "    }\n",
              "</style>\n",
              "<table border=\"1\" class=\"dataframe\">\n",
              "  <thead>\n",
              "    <tr style=\"text-align: right;\">\n",
              "      <th></th>\n",
              "      <th>x1</th>\n",
              "      <th>x2</th>\n",
              "      <th>x3</th>\n",
              "      <th>x4</th>\n",
              "    </tr>\n",
              "  </thead>\n",
              "  <tbody>\n",
              "    <tr>\n",
              "      <th>a</th>\n",
              "      <td>39</td>\n",
              "      <td>45</td>\n",
              "      <td>94</td>\n",
              "      <td>58</td>\n",
              "    </tr>\n",
              "    <tr>\n",
              "      <th>b</th>\n",
              "      <td>59</td>\n",
              "      <td>38</td>\n",
              "      <td>30</td>\n",
              "      <td>70</td>\n",
              "    </tr>\n",
              "    <tr>\n",
              "      <th>c</th>\n",
              "      <td>66</td>\n",
              "      <td>46</td>\n",
              "      <td>41</td>\n",
              "      <td>84</td>\n",
              "    </tr>\n",
              "    <tr>\n",
              "      <th>d</th>\n",
              "      <td>92</td>\n",
              "      <td>63</td>\n",
              "      <td>79</td>\n",
              "      <td>81</td>\n",
              "    </tr>\n",
              "  </tbody>\n",
              "</table>\n",
              "</div>"
            ],
            "text/plain": [
              "   x1  x2  x3  x4\n",
              "a  39  45  94  58\n",
              "b  59  38  30  70\n",
              "c  66  46  41  84\n",
              "d  92  63  79  81"
            ]
          },
          "metadata": {
            "tags": []
          },
          "execution_count": 73
        }
      ]
    },
    {
      "cell_type": "code",
      "metadata": {
        "colab": {
          "base_uri": "https://localhost:8080/"
        },
        "id": "_f3EIn1tQN6z",
        "outputId": "bccb1687-07bd-4cef-8bec-5af75e131a78"
      },
      "source": [
        "df1_data=df1.values\n",
        "print(df1_data)\n",
        "print(type(df1_data)) #returns numpy.nddarray\n",
        "# use shape function to find out the 배열 크기\n",
        "print(np.shape(df1_data)) #returns (4*4)\n",
        "# or, use numpy to find out the 배열 크기\n",
        "print(df1_data.shape) \n"
      ],
      "execution_count": null,
      "outputs": [
        {
          "output_type": "stream",
          "text": [
            "[[39 45 94 58]\n",
            " [59 38 30 70]\n",
            " [66 46 41 84]\n",
            " [92 63 79 81]]\n",
            "<class 'numpy.ndarray'>\n",
            "(4, 4)\n",
            "(4, 4)\n"
          ],
          "name": "stdout"
        }
      ]
    },
    {
      "cell_type": "code",
      "metadata": {
        "colab": {
          "base_uri": "https://localhost:8080/"
        },
        "id": "HNOOJ261knb1",
        "outputId": "780ee7af-837d-4689-9cc5-d72641da0b9a"
      },
      "source": [
        "data = {'name':['갤럭시10', 'ZIC', '소나타', 'SmartTV'],\n",
        "        'price':[30000,50000,120000,900.4],\n",
        "        'maker': ['Samsung','SK','Hyundai','LG'],\n",
        "        'rate':[10.1,20.2,np.nan,9.4]}\n",
        "df2 =DataFrame(data, index=list('abcd'))\n",
        "df2"
      ],
      "execution_count": null,
      "outputs": [
        {
          "output_type": "execute_result",
          "data": {
            "text/html": [
              "<div>\n",
              "<style scoped>\n",
              "    .dataframe tbody tr th:only-of-type {\n",
              "        vertical-align: middle;\n",
              "    }\n",
              "\n",
              "    .dataframe tbody tr th {\n",
              "        vertical-align: top;\n",
              "    }\n",
              "\n",
              "    .dataframe thead th {\n",
              "        text-align: right;\n",
              "    }\n",
              "</style>\n",
              "<table border=\"1\" class=\"dataframe\">\n",
              "  <thead>\n",
              "    <tr style=\"text-align: right;\">\n",
              "      <th></th>\n",
              "      <th>name</th>\n",
              "      <th>price</th>\n",
              "      <th>maker</th>\n",
              "      <th>rate</th>\n",
              "    </tr>\n",
              "  </thead>\n",
              "  <tbody>\n",
              "    <tr>\n",
              "      <th>a</th>\n",
              "      <td>갤럭시10</td>\n",
              "      <td>30000.0</td>\n",
              "      <td>Samsung</td>\n",
              "      <td>10.1</td>\n",
              "    </tr>\n",
              "    <tr>\n",
              "      <th>b</th>\n",
              "      <td>ZIC</td>\n",
              "      <td>50000.0</td>\n",
              "      <td>SK</td>\n",
              "      <td>20.2</td>\n",
              "    </tr>\n",
              "    <tr>\n",
              "      <th>c</th>\n",
              "      <td>소나타</td>\n",
              "      <td>120000.0</td>\n",
              "      <td>Hyundai</td>\n",
              "      <td>NaN</td>\n",
              "    </tr>\n",
              "    <tr>\n",
              "      <th>d</th>\n",
              "      <td>SmartTV</td>\n",
              "      <td>900.4</td>\n",
              "      <td>LG</td>\n",
              "      <td>9.4</td>\n",
              "    </tr>\n",
              "  </tbody>\n",
              "</table>\n",
              "</div>"
            ],
            "text/plain": [
              "      name     price    maker  rate\n",
              "a    갤럭시10   30000.0  Samsung  10.1\n",
              "b      ZIC   50000.0       SK  20.2\n",
              "c      소나타  120000.0  Hyundai   NaN\n",
              "d  SmartTV     900.4       LG   9.4"
            ]
          },
          "metadata": {
            "tags": []
          },
          "execution_count": 75
        }
      ]
    },
    {
      "cell_type": "code",
      "metadata": {
        "colab": {
          "base_uri": "https://localhost:8080/"
        },
        "id": "ul5fT6dtknZ1",
        "outputId": "31cf065c-a151-45b5-ddeb-f582c22a2c3d"
      },
      "source": [
        "# df 정보 조회\n",
        "df2.info()\n",
        "\n",
        "print(df2.index)\n",
        "print(df2.columns)\n",
        "print(df2.values)\n",
        "print(df2.dtypes)\n"
      ],
      "execution_count": null,
      "outputs": [
        {
          "output_type": "stream",
          "text": [
            "<class 'pandas.core.frame.DataFrame'>\n",
            "Index: 4 entries, a to d\n",
            "Data columns (total 4 columns):\n",
            " #   Column  Non-Null Count  Dtype  \n",
            "---  ------  --------------  -----  \n",
            " 0   name    4 non-null      object \n",
            " 1   price   4 non-null      float64\n",
            " 2   maker   4 non-null      object \n",
            " 3   rate    3 non-null      float64\n",
            "dtypes: float64(2), object(2)\n",
            "memory usage: 160.0+ bytes\n",
            "Index(['a', 'b', 'c', 'd'], dtype='object')\n",
            "Index(['name', 'price', 'maker', 'rate'], dtype='object')\n",
            "[['갤럭시10' 30000.0 'Samsung' 10.1]\n",
            " ['ZIC' 50000.0 'SK' 20.2]\n",
            " ['소나타' 120000.0 'Hyundai' nan]\n",
            " ['SmartTV' 900.4 'LG' 9.4]]\n",
            "name      object\n",
            "price    float64\n",
            "maker     object\n",
            "rate     float64\n",
            "dtype: object\n"
          ],
          "name": "stdout"
        }
      ]
    },
    {
      "cell_type": "code",
      "metadata": {
        "colab": {
          "base_uri": "https://localhost:8080/"
        },
        "id": "N_4itys-knXc",
        "outputId": "721b56e8-d18d-45bf-9547-869eb13017de"
      },
      "source": [
        "#df. T\n",
        "df2. T #transpose"
      ],
      "execution_count": null,
      "outputs": [
        {
          "output_type": "execute_result",
          "data": {
            "text/html": [
              "<div>\n",
              "<style scoped>\n",
              "    .dataframe tbody tr th:only-of-type {\n",
              "        vertical-align: middle;\n",
              "    }\n",
              "\n",
              "    .dataframe tbody tr th {\n",
              "        vertical-align: top;\n",
              "    }\n",
              "\n",
              "    .dataframe thead th {\n",
              "        text-align: right;\n",
              "    }\n",
              "</style>\n",
              "<table border=\"1\" class=\"dataframe\">\n",
              "  <thead>\n",
              "    <tr style=\"text-align: right;\">\n",
              "      <th></th>\n",
              "      <th>a</th>\n",
              "      <th>b</th>\n",
              "      <th>c</th>\n",
              "      <th>d</th>\n",
              "    </tr>\n",
              "  </thead>\n",
              "  <tbody>\n",
              "    <tr>\n",
              "      <th>name</th>\n",
              "      <td>갤럭시10</td>\n",
              "      <td>ZIC</td>\n",
              "      <td>소나타</td>\n",
              "      <td>SmartTV</td>\n",
              "    </tr>\n",
              "    <tr>\n",
              "      <th>price</th>\n",
              "      <td>30000</td>\n",
              "      <td>50000</td>\n",
              "      <td>120000</td>\n",
              "      <td>900.4</td>\n",
              "    </tr>\n",
              "    <tr>\n",
              "      <th>maker</th>\n",
              "      <td>Samsung</td>\n",
              "      <td>SK</td>\n",
              "      <td>Hyundai</td>\n",
              "      <td>LG</td>\n",
              "    </tr>\n",
              "    <tr>\n",
              "      <th>rate</th>\n",
              "      <td>10.1</td>\n",
              "      <td>20.2</td>\n",
              "      <td>NaN</td>\n",
              "      <td>9.4</td>\n",
              "    </tr>\n",
              "  </tbody>\n",
              "</table>\n",
              "</div>"
            ],
            "text/plain": [
              "             a      b        c        d\n",
              "name     갤럭시10    ZIC      소나타  SmartTV\n",
              "price    30000  50000   120000    900.4\n",
              "maker  Samsung     SK  Hyundai       LG\n",
              "rate      10.1   20.2      NaN      9.4"
            ]
          },
          "metadata": {
            "tags": []
          },
          "execution_count": 77
        }
      ]
    },
    {
      "cell_type": "code",
      "metadata": {
        "colab": {
          "base_uri": "https://localhost:8080/"
        },
        "id": "MpobJVcGhwyT",
        "outputId": "b6c138cd-018d-4c1b-f18b-db7c41c35c99"
      },
      "source": [
        "# change the column name\n",
        "df1.head(1)\n",
        "df1.rename(columns={'x1':'data1'}) # when you don't want to modify the original data\n",
        "df1\n",
        "\n",
        "\n",
        "df1.rename(columns={'x1':'data1'}, inplace=True) #when you want to change the original data\n",
        "df1"
      ],
      "execution_count": null,
      "outputs": [
        {
          "output_type": "execute_result",
          "data": {
            "text/html": [
              "<div>\n",
              "<style scoped>\n",
              "    .dataframe tbody tr th:only-of-type {\n",
              "        vertical-align: middle;\n",
              "    }\n",
              "\n",
              "    .dataframe tbody tr th {\n",
              "        vertical-align: top;\n",
              "    }\n",
              "\n",
              "    .dataframe thead th {\n",
              "        text-align: right;\n",
              "    }\n",
              "</style>\n",
              "<table border=\"1\" class=\"dataframe\">\n",
              "  <thead>\n",
              "    <tr style=\"text-align: right;\">\n",
              "      <th></th>\n",
              "      <th>data1</th>\n",
              "      <th>x2</th>\n",
              "      <th>x3</th>\n",
              "      <th>x4</th>\n",
              "    </tr>\n",
              "  </thead>\n",
              "  <tbody>\n",
              "    <tr>\n",
              "      <th>a</th>\n",
              "      <td>39</td>\n",
              "      <td>45</td>\n",
              "      <td>94</td>\n",
              "      <td>58</td>\n",
              "    </tr>\n",
              "    <tr>\n",
              "      <th>b</th>\n",
              "      <td>59</td>\n",
              "      <td>38</td>\n",
              "      <td>30</td>\n",
              "      <td>70</td>\n",
              "    </tr>\n",
              "    <tr>\n",
              "      <th>c</th>\n",
              "      <td>66</td>\n",
              "      <td>46</td>\n",
              "      <td>41</td>\n",
              "      <td>84</td>\n",
              "    </tr>\n",
              "    <tr>\n",
              "      <th>d</th>\n",
              "      <td>92</td>\n",
              "      <td>63</td>\n",
              "      <td>79</td>\n",
              "      <td>81</td>\n",
              "    </tr>\n",
              "  </tbody>\n",
              "</table>\n",
              "</div>"
            ],
            "text/plain": [
              "   data1  x2  x3  x4\n",
              "a     39  45  94  58\n",
              "b     59  38  30  70\n",
              "c     66  46  41  84\n",
              "d     92  63  79  81"
            ]
          },
          "metadata": {
            "tags": []
          },
          "execution_count": 78
        }
      ]
    },
    {
      "cell_type": "markdown",
      "metadata": {
        "id": "PBCcXzNSphDv"
      },
      "source": [
        "### df 데이터조회 (상위, 하위, sorting)"
      ]
    },
    {
      "cell_type": "code",
      "metadata": {
        "id": "c9DETEyyY87m",
        "colab": {
          "base_uri": "https://localhost:8080/"
        },
        "outputId": "0ec9e698-b3b7-45bb-84be-92fcc77b8508"
      },
      "source": [
        "# import csv file\n",
        "!wget -N --http-user=mysuni --http-passwd=mysuni1! http://sk.jaen.kr:8080/2020/cctv_seoul.csv"
      ],
      "execution_count": null,
      "outputs": [
        {
          "output_type": "stream",
          "text": [
            "--2021-02-05 00:13:07--  http://sk.jaen.kr:8080/2020/cctv_seoul.csv\n",
            "Resolving sk.jaen.kr (sk.jaen.kr)... 49.247.134.238\n",
            "Connecting to sk.jaen.kr (sk.jaen.kr)|49.247.134.238|:8080... connected.\n",
            "HTTP request sent, awaiting response... 401 Unauthorized\n",
            "Authentication selected: Basic realm=\"Authentication required.\"\n",
            "Reusing existing connection to sk.jaen.kr:8080.\n",
            "HTTP request sent, awaiting response... 304 Not Modified\n",
            "File ‘cctv_seoul.csv’ not modified on server. Omitting download.\n",
            "\n"
          ],
          "name": "stdout"
        }
      ]
    },
    {
      "cell_type": "code",
      "metadata": {
        "id": "vs7i1m1sY83S",
        "colab": {
          "base_uri": "https://localhost:8080/"
        },
        "outputId": "cee4f267-b4b6-49f1-ff76-ae401530a78b"
      },
      "source": [
        "#dataframe 생성: data, index, column\n",
        "# import csv file (cctv_seoul)\n",
        "cctv_df = pd.read_csv('cctv_seoul.csv', encoding='utf-8')\n",
        "cctv_df"
      ],
      "execution_count": null,
      "outputs": [
        {
          "output_type": "execute_result",
          "data": {
            "text/html": [
              "<div>\n",
              "<style scoped>\n",
              "    .dataframe tbody tr th:only-of-type {\n",
              "        vertical-align: middle;\n",
              "    }\n",
              "\n",
              "    .dataframe tbody tr th {\n",
              "        vertical-align: top;\n",
              "    }\n",
              "\n",
              "    .dataframe thead th {\n",
              "        text-align: right;\n",
              "    }\n",
              "</style>\n",
              "<table border=\"1\" class=\"dataframe\">\n",
              "  <thead>\n",
              "    <tr style=\"text-align: right;\">\n",
              "      <th></th>\n",
              "      <th>기관명</th>\n",
              "      <th>소계</th>\n",
              "      <th>2013년도 이전</th>\n",
              "      <th>2014년</th>\n",
              "      <th>2015년</th>\n",
              "      <th>2016년</th>\n",
              "    </tr>\n",
              "  </thead>\n",
              "  <tbody>\n",
              "    <tr>\n",
              "      <th>0</th>\n",
              "      <td>강남구</td>\n",
              "      <td>2780</td>\n",
              "      <td>1292</td>\n",
              "      <td>430</td>\n",
              "      <td>584</td>\n",
              "      <td>932</td>\n",
              "    </tr>\n",
              "    <tr>\n",
              "      <th>1</th>\n",
              "      <td>강동구</td>\n",
              "      <td>773</td>\n",
              "      <td>379</td>\n",
              "      <td>99</td>\n",
              "      <td>155</td>\n",
              "      <td>377</td>\n",
              "    </tr>\n",
              "    <tr>\n",
              "      <th>2</th>\n",
              "      <td>강북구</td>\n",
              "      <td>748</td>\n",
              "      <td>369</td>\n",
              "      <td>120</td>\n",
              "      <td>138</td>\n",
              "      <td>204</td>\n",
              "    </tr>\n",
              "    <tr>\n",
              "      <th>3</th>\n",
              "      <td>강서구</td>\n",
              "      <td>884</td>\n",
              "      <td>388</td>\n",
              "      <td>258</td>\n",
              "      <td>184</td>\n",
              "      <td>81</td>\n",
              "    </tr>\n",
              "    <tr>\n",
              "      <th>4</th>\n",
              "      <td>관악구</td>\n",
              "      <td>1496</td>\n",
              "      <td>846</td>\n",
              "      <td>260</td>\n",
              "      <td>390</td>\n",
              "      <td>613</td>\n",
              "    </tr>\n",
              "    <tr>\n",
              "      <th>5</th>\n",
              "      <td>광진구</td>\n",
              "      <td>707</td>\n",
              "      <td>573</td>\n",
              "      <td>78</td>\n",
              "      <td>53</td>\n",
              "      <td>174</td>\n",
              "    </tr>\n",
              "    <tr>\n",
              "      <th>6</th>\n",
              "      <td>구로구</td>\n",
              "      <td>1561</td>\n",
              "      <td>1142</td>\n",
              "      <td>173</td>\n",
              "      <td>246</td>\n",
              "      <td>323</td>\n",
              "    </tr>\n",
              "    <tr>\n",
              "      <th>7</th>\n",
              "      <td>금천구</td>\n",
              "      <td>1015</td>\n",
              "      <td>674</td>\n",
              "      <td>51</td>\n",
              "      <td>269</td>\n",
              "      <td>354</td>\n",
              "    </tr>\n",
              "    <tr>\n",
              "      <th>8</th>\n",
              "      <td>노원구</td>\n",
              "      <td>1265</td>\n",
              "      <td>542</td>\n",
              "      <td>57</td>\n",
              "      <td>451</td>\n",
              "      <td>516</td>\n",
              "    </tr>\n",
              "    <tr>\n",
              "      <th>9</th>\n",
              "      <td>도봉구</td>\n",
              "      <td>485</td>\n",
              "      <td>238</td>\n",
              "      <td>159</td>\n",
              "      <td>42</td>\n",
              "      <td>386</td>\n",
              "    </tr>\n",
              "    <tr>\n",
              "      <th>10</th>\n",
              "      <td>동대문구</td>\n",
              "      <td>1294</td>\n",
              "      <td>1070</td>\n",
              "      <td>23</td>\n",
              "      <td>198</td>\n",
              "      <td>579</td>\n",
              "    </tr>\n",
              "    <tr>\n",
              "      <th>11</th>\n",
              "      <td>동작구</td>\n",
              "      <td>1091</td>\n",
              "      <td>544</td>\n",
              "      <td>341</td>\n",
              "      <td>103</td>\n",
              "      <td>314</td>\n",
              "    </tr>\n",
              "    <tr>\n",
              "      <th>12</th>\n",
              "      <td>마포구</td>\n",
              "      <td>574</td>\n",
              "      <td>314</td>\n",
              "      <td>118</td>\n",
              "      <td>169</td>\n",
              "      <td>379</td>\n",
              "    </tr>\n",
              "    <tr>\n",
              "      <th>13</th>\n",
              "      <td>서대문구</td>\n",
              "      <td>962</td>\n",
              "      <td>844</td>\n",
              "      <td>50</td>\n",
              "      <td>68</td>\n",
              "      <td>292</td>\n",
              "    </tr>\n",
              "    <tr>\n",
              "      <th>14</th>\n",
              "      <td>서초구</td>\n",
              "      <td>1930</td>\n",
              "      <td>1406</td>\n",
              "      <td>157</td>\n",
              "      <td>336</td>\n",
              "      <td>398</td>\n",
              "    </tr>\n",
              "    <tr>\n",
              "      <th>15</th>\n",
              "      <td>성동구</td>\n",
              "      <td>1062</td>\n",
              "      <td>730</td>\n",
              "      <td>91</td>\n",
              "      <td>241</td>\n",
              "      <td>265</td>\n",
              "    </tr>\n",
              "    <tr>\n",
              "      <th>16</th>\n",
              "      <td>성북구</td>\n",
              "      <td>1464</td>\n",
              "      <td>1009</td>\n",
              "      <td>78</td>\n",
              "      <td>360</td>\n",
              "      <td>204</td>\n",
              "    </tr>\n",
              "    <tr>\n",
              "      <th>17</th>\n",
              "      <td>송파구</td>\n",
              "      <td>618</td>\n",
              "      <td>529</td>\n",
              "      <td>21</td>\n",
              "      <td>68</td>\n",
              "      <td>463</td>\n",
              "    </tr>\n",
              "    <tr>\n",
              "      <th>18</th>\n",
              "      <td>양천구</td>\n",
              "      <td>2034</td>\n",
              "      <td>1843</td>\n",
              "      <td>142</td>\n",
              "      <td>30</td>\n",
              "      <td>467</td>\n",
              "    </tr>\n",
              "    <tr>\n",
              "      <th>19</th>\n",
              "      <td>영등포구</td>\n",
              "      <td>904</td>\n",
              "      <td>495</td>\n",
              "      <td>214</td>\n",
              "      <td>195</td>\n",
              "      <td>373</td>\n",
              "    </tr>\n",
              "    <tr>\n",
              "      <th>20</th>\n",
              "      <td>용산구</td>\n",
              "      <td>1624</td>\n",
              "      <td>1368</td>\n",
              "      <td>218</td>\n",
              "      <td>112</td>\n",
              "      <td>398</td>\n",
              "    </tr>\n",
              "    <tr>\n",
              "      <th>21</th>\n",
              "      <td>은평구</td>\n",
              "      <td>1873</td>\n",
              "      <td>1138</td>\n",
              "      <td>224</td>\n",
              "      <td>278</td>\n",
              "      <td>468</td>\n",
              "    </tr>\n",
              "    <tr>\n",
              "      <th>22</th>\n",
              "      <td>종로구</td>\n",
              "      <td>1002</td>\n",
              "      <td>464</td>\n",
              "      <td>314</td>\n",
              "      <td>211</td>\n",
              "      <td>630</td>\n",
              "    </tr>\n",
              "    <tr>\n",
              "      <th>23</th>\n",
              "      <td>중구</td>\n",
              "      <td>671</td>\n",
              "      <td>413</td>\n",
              "      <td>190</td>\n",
              "      <td>72</td>\n",
              "      <td>348</td>\n",
              "    </tr>\n",
              "    <tr>\n",
              "      <th>24</th>\n",
              "      <td>중랑구</td>\n",
              "      <td>660</td>\n",
              "      <td>509</td>\n",
              "      <td>121</td>\n",
              "      <td>177</td>\n",
              "      <td>109</td>\n",
              "    </tr>\n",
              "  </tbody>\n",
              "</table>\n",
              "</div>"
            ],
            "text/plain": [
              "     기관명    소계  2013년도 이전  2014년  2015년  2016년\n",
              "0    강남구  2780       1292    430    584    932\n",
              "1    강동구   773        379     99    155    377\n",
              "2    강북구   748        369    120    138    204\n",
              "3    강서구   884        388    258    184     81\n",
              "4    관악구  1496        846    260    390    613\n",
              "5    광진구   707        573     78     53    174\n",
              "6    구로구  1561       1142    173    246    323\n",
              "7    금천구  1015        674     51    269    354\n",
              "8    노원구  1265        542     57    451    516\n",
              "9    도봉구   485        238    159     42    386\n",
              "10  동대문구  1294       1070     23    198    579\n",
              "11   동작구  1091        544    341    103    314\n",
              "12   마포구   574        314    118    169    379\n",
              "13  서대문구   962        844     50     68    292\n",
              "14   서초구  1930       1406    157    336    398\n",
              "15   성동구  1062        730     91    241    265\n",
              "16   성북구  1464       1009     78    360    204\n",
              "17   송파구   618        529     21     68    463\n",
              "18   양천구  2034       1843    142     30    467\n",
              "19  영등포구   904        495    214    195    373\n",
              "20   용산구  1624       1368    218    112    398\n",
              "21   은평구  1873       1138    224    278    468\n",
              "22   종로구  1002        464    314    211    630\n",
              "23    중구   671        413    190     72    348\n",
              "24   중랑구   660        509    121    177    109"
            ]
          },
          "metadata": {
            "tags": []
          },
          "execution_count": 80
        }
      ]
    },
    {
      "cell_type": "code",
      "metadata": {
        "colab": {
          "base_uri": "https://localhost:8080/"
        },
        "id": "FTzOWwPZpb-9",
        "outputId": "32eab90a-2da9-4d75-e9d4-f8496e07949f"
      },
      "source": [
        "cctv_df"
      ],
      "execution_count": null,
      "outputs": [
        {
          "output_type": "execute_result",
          "data": {
            "text/html": [
              "<div>\n",
              "<style scoped>\n",
              "    .dataframe tbody tr th:only-of-type {\n",
              "        vertical-align: middle;\n",
              "    }\n",
              "\n",
              "    .dataframe tbody tr th {\n",
              "        vertical-align: top;\n",
              "    }\n",
              "\n",
              "    .dataframe thead th {\n",
              "        text-align: right;\n",
              "    }\n",
              "</style>\n",
              "<table border=\"1\" class=\"dataframe\">\n",
              "  <thead>\n",
              "    <tr style=\"text-align: right;\">\n",
              "      <th></th>\n",
              "      <th>기관명</th>\n",
              "      <th>소계</th>\n",
              "      <th>2013년도 이전</th>\n",
              "      <th>2014년</th>\n",
              "      <th>2015년</th>\n",
              "      <th>2016년</th>\n",
              "    </tr>\n",
              "  </thead>\n",
              "  <tbody>\n",
              "    <tr>\n",
              "      <th>0</th>\n",
              "      <td>강남구</td>\n",
              "      <td>2780</td>\n",
              "      <td>1292</td>\n",
              "      <td>430</td>\n",
              "      <td>584</td>\n",
              "      <td>932</td>\n",
              "    </tr>\n",
              "    <tr>\n",
              "      <th>1</th>\n",
              "      <td>강동구</td>\n",
              "      <td>773</td>\n",
              "      <td>379</td>\n",
              "      <td>99</td>\n",
              "      <td>155</td>\n",
              "      <td>377</td>\n",
              "    </tr>\n",
              "    <tr>\n",
              "      <th>2</th>\n",
              "      <td>강북구</td>\n",
              "      <td>748</td>\n",
              "      <td>369</td>\n",
              "      <td>120</td>\n",
              "      <td>138</td>\n",
              "      <td>204</td>\n",
              "    </tr>\n",
              "    <tr>\n",
              "      <th>3</th>\n",
              "      <td>강서구</td>\n",
              "      <td>884</td>\n",
              "      <td>388</td>\n",
              "      <td>258</td>\n",
              "      <td>184</td>\n",
              "      <td>81</td>\n",
              "    </tr>\n",
              "    <tr>\n",
              "      <th>4</th>\n",
              "      <td>관악구</td>\n",
              "      <td>1496</td>\n",
              "      <td>846</td>\n",
              "      <td>260</td>\n",
              "      <td>390</td>\n",
              "      <td>613</td>\n",
              "    </tr>\n",
              "    <tr>\n",
              "      <th>5</th>\n",
              "      <td>광진구</td>\n",
              "      <td>707</td>\n",
              "      <td>573</td>\n",
              "      <td>78</td>\n",
              "      <td>53</td>\n",
              "      <td>174</td>\n",
              "    </tr>\n",
              "    <tr>\n",
              "      <th>6</th>\n",
              "      <td>구로구</td>\n",
              "      <td>1561</td>\n",
              "      <td>1142</td>\n",
              "      <td>173</td>\n",
              "      <td>246</td>\n",
              "      <td>323</td>\n",
              "    </tr>\n",
              "    <tr>\n",
              "      <th>7</th>\n",
              "      <td>금천구</td>\n",
              "      <td>1015</td>\n",
              "      <td>674</td>\n",
              "      <td>51</td>\n",
              "      <td>269</td>\n",
              "      <td>354</td>\n",
              "    </tr>\n",
              "    <tr>\n",
              "      <th>8</th>\n",
              "      <td>노원구</td>\n",
              "      <td>1265</td>\n",
              "      <td>542</td>\n",
              "      <td>57</td>\n",
              "      <td>451</td>\n",
              "      <td>516</td>\n",
              "    </tr>\n",
              "    <tr>\n",
              "      <th>9</th>\n",
              "      <td>도봉구</td>\n",
              "      <td>485</td>\n",
              "      <td>238</td>\n",
              "      <td>159</td>\n",
              "      <td>42</td>\n",
              "      <td>386</td>\n",
              "    </tr>\n",
              "    <tr>\n",
              "      <th>10</th>\n",
              "      <td>동대문구</td>\n",
              "      <td>1294</td>\n",
              "      <td>1070</td>\n",
              "      <td>23</td>\n",
              "      <td>198</td>\n",
              "      <td>579</td>\n",
              "    </tr>\n",
              "    <tr>\n",
              "      <th>11</th>\n",
              "      <td>동작구</td>\n",
              "      <td>1091</td>\n",
              "      <td>544</td>\n",
              "      <td>341</td>\n",
              "      <td>103</td>\n",
              "      <td>314</td>\n",
              "    </tr>\n",
              "    <tr>\n",
              "      <th>12</th>\n",
              "      <td>마포구</td>\n",
              "      <td>574</td>\n",
              "      <td>314</td>\n",
              "      <td>118</td>\n",
              "      <td>169</td>\n",
              "      <td>379</td>\n",
              "    </tr>\n",
              "    <tr>\n",
              "      <th>13</th>\n",
              "      <td>서대문구</td>\n",
              "      <td>962</td>\n",
              "      <td>844</td>\n",
              "      <td>50</td>\n",
              "      <td>68</td>\n",
              "      <td>292</td>\n",
              "    </tr>\n",
              "    <tr>\n",
              "      <th>14</th>\n",
              "      <td>서초구</td>\n",
              "      <td>1930</td>\n",
              "      <td>1406</td>\n",
              "      <td>157</td>\n",
              "      <td>336</td>\n",
              "      <td>398</td>\n",
              "    </tr>\n",
              "    <tr>\n",
              "      <th>15</th>\n",
              "      <td>성동구</td>\n",
              "      <td>1062</td>\n",
              "      <td>730</td>\n",
              "      <td>91</td>\n",
              "      <td>241</td>\n",
              "      <td>265</td>\n",
              "    </tr>\n",
              "    <tr>\n",
              "      <th>16</th>\n",
              "      <td>성북구</td>\n",
              "      <td>1464</td>\n",
              "      <td>1009</td>\n",
              "      <td>78</td>\n",
              "      <td>360</td>\n",
              "      <td>204</td>\n",
              "    </tr>\n",
              "    <tr>\n",
              "      <th>17</th>\n",
              "      <td>송파구</td>\n",
              "      <td>618</td>\n",
              "      <td>529</td>\n",
              "      <td>21</td>\n",
              "      <td>68</td>\n",
              "      <td>463</td>\n",
              "    </tr>\n",
              "    <tr>\n",
              "      <th>18</th>\n",
              "      <td>양천구</td>\n",
              "      <td>2034</td>\n",
              "      <td>1843</td>\n",
              "      <td>142</td>\n",
              "      <td>30</td>\n",
              "      <td>467</td>\n",
              "    </tr>\n",
              "    <tr>\n",
              "      <th>19</th>\n",
              "      <td>영등포구</td>\n",
              "      <td>904</td>\n",
              "      <td>495</td>\n",
              "      <td>214</td>\n",
              "      <td>195</td>\n",
              "      <td>373</td>\n",
              "    </tr>\n",
              "    <tr>\n",
              "      <th>20</th>\n",
              "      <td>용산구</td>\n",
              "      <td>1624</td>\n",
              "      <td>1368</td>\n",
              "      <td>218</td>\n",
              "      <td>112</td>\n",
              "      <td>398</td>\n",
              "    </tr>\n",
              "    <tr>\n",
              "      <th>21</th>\n",
              "      <td>은평구</td>\n",
              "      <td>1873</td>\n",
              "      <td>1138</td>\n",
              "      <td>224</td>\n",
              "      <td>278</td>\n",
              "      <td>468</td>\n",
              "    </tr>\n",
              "    <tr>\n",
              "      <th>22</th>\n",
              "      <td>종로구</td>\n",
              "      <td>1002</td>\n",
              "      <td>464</td>\n",
              "      <td>314</td>\n",
              "      <td>211</td>\n",
              "      <td>630</td>\n",
              "    </tr>\n",
              "    <tr>\n",
              "      <th>23</th>\n",
              "      <td>중구</td>\n",
              "      <td>671</td>\n",
              "      <td>413</td>\n",
              "      <td>190</td>\n",
              "      <td>72</td>\n",
              "      <td>348</td>\n",
              "    </tr>\n",
              "    <tr>\n",
              "      <th>24</th>\n",
              "      <td>중랑구</td>\n",
              "      <td>660</td>\n",
              "      <td>509</td>\n",
              "      <td>121</td>\n",
              "      <td>177</td>\n",
              "      <td>109</td>\n",
              "    </tr>\n",
              "  </tbody>\n",
              "</table>\n",
              "</div>"
            ],
            "text/plain": [
              "     기관명    소계  2013년도 이전  2014년  2015년  2016년\n",
              "0    강남구  2780       1292    430    584    932\n",
              "1    강동구   773        379     99    155    377\n",
              "2    강북구   748        369    120    138    204\n",
              "3    강서구   884        388    258    184     81\n",
              "4    관악구  1496        846    260    390    613\n",
              "5    광진구   707        573     78     53    174\n",
              "6    구로구  1561       1142    173    246    323\n",
              "7    금천구  1015        674     51    269    354\n",
              "8    노원구  1265        542     57    451    516\n",
              "9    도봉구   485        238    159     42    386\n",
              "10  동대문구  1294       1070     23    198    579\n",
              "11   동작구  1091        544    341    103    314\n",
              "12   마포구   574        314    118    169    379\n",
              "13  서대문구   962        844     50     68    292\n",
              "14   서초구  1930       1406    157    336    398\n",
              "15   성동구  1062        730     91    241    265\n",
              "16   성북구  1464       1009     78    360    204\n",
              "17   송파구   618        529     21     68    463\n",
              "18   양천구  2034       1843    142     30    467\n",
              "19  영등포구   904        495    214    195    373\n",
              "20   용산구  1624       1368    218    112    398\n",
              "21   은평구  1873       1138    224    278    468\n",
              "22   종로구  1002        464    314    211    630\n",
              "23    중구   671        413    190     72    348\n",
              "24   중랑구   660        509    121    177    109"
            ]
          },
          "metadata": {
            "tags": []
          },
          "execution_count": 81
        }
      ]
    },
    {
      "cell_type": "code",
      "metadata": {
        "colab": {
          "base_uri": "https://localhost:8080/"
        },
        "id": "LPRhSSjcpexR",
        "outputId": "f08cac61-f907-47ee-8b71-71036329d19a"
      },
      "source": [
        "# 상위, 하위 data 조회\n",
        "cctv_df.head(3) #상위 data 3개\n",
        "cctv_df.tail(3) #하위 data 3개\n",
        "\n",
        "# 2016년도 기준으로 sort\n",
        "cctv_df.sort_values(by=\"2016년\", ascending=True)\n"
      ],
      "execution_count": null,
      "outputs": [
        {
          "output_type": "execute_result",
          "data": {
            "text/html": [
              "<div>\n",
              "<style scoped>\n",
              "    .dataframe tbody tr th:only-of-type {\n",
              "        vertical-align: middle;\n",
              "    }\n",
              "\n",
              "    .dataframe tbody tr th {\n",
              "        vertical-align: top;\n",
              "    }\n",
              "\n",
              "    .dataframe thead th {\n",
              "        text-align: right;\n",
              "    }\n",
              "</style>\n",
              "<table border=\"1\" class=\"dataframe\">\n",
              "  <thead>\n",
              "    <tr style=\"text-align: right;\">\n",
              "      <th></th>\n",
              "      <th>기관명</th>\n",
              "      <th>소계</th>\n",
              "      <th>2013년도 이전</th>\n",
              "      <th>2014년</th>\n",
              "      <th>2015년</th>\n",
              "      <th>2016년</th>\n",
              "    </tr>\n",
              "  </thead>\n",
              "  <tbody>\n",
              "    <tr>\n",
              "      <th>3</th>\n",
              "      <td>강서구</td>\n",
              "      <td>884</td>\n",
              "      <td>388</td>\n",
              "      <td>258</td>\n",
              "      <td>184</td>\n",
              "      <td>81</td>\n",
              "    </tr>\n",
              "    <tr>\n",
              "      <th>24</th>\n",
              "      <td>중랑구</td>\n",
              "      <td>660</td>\n",
              "      <td>509</td>\n",
              "      <td>121</td>\n",
              "      <td>177</td>\n",
              "      <td>109</td>\n",
              "    </tr>\n",
              "    <tr>\n",
              "      <th>5</th>\n",
              "      <td>광진구</td>\n",
              "      <td>707</td>\n",
              "      <td>573</td>\n",
              "      <td>78</td>\n",
              "      <td>53</td>\n",
              "      <td>174</td>\n",
              "    </tr>\n",
              "    <tr>\n",
              "      <th>2</th>\n",
              "      <td>강북구</td>\n",
              "      <td>748</td>\n",
              "      <td>369</td>\n",
              "      <td>120</td>\n",
              "      <td>138</td>\n",
              "      <td>204</td>\n",
              "    </tr>\n",
              "    <tr>\n",
              "      <th>16</th>\n",
              "      <td>성북구</td>\n",
              "      <td>1464</td>\n",
              "      <td>1009</td>\n",
              "      <td>78</td>\n",
              "      <td>360</td>\n",
              "      <td>204</td>\n",
              "    </tr>\n",
              "    <tr>\n",
              "      <th>15</th>\n",
              "      <td>성동구</td>\n",
              "      <td>1062</td>\n",
              "      <td>730</td>\n",
              "      <td>91</td>\n",
              "      <td>241</td>\n",
              "      <td>265</td>\n",
              "    </tr>\n",
              "    <tr>\n",
              "      <th>13</th>\n",
              "      <td>서대문구</td>\n",
              "      <td>962</td>\n",
              "      <td>844</td>\n",
              "      <td>50</td>\n",
              "      <td>68</td>\n",
              "      <td>292</td>\n",
              "    </tr>\n",
              "    <tr>\n",
              "      <th>11</th>\n",
              "      <td>동작구</td>\n",
              "      <td>1091</td>\n",
              "      <td>544</td>\n",
              "      <td>341</td>\n",
              "      <td>103</td>\n",
              "      <td>314</td>\n",
              "    </tr>\n",
              "    <tr>\n",
              "      <th>6</th>\n",
              "      <td>구로구</td>\n",
              "      <td>1561</td>\n",
              "      <td>1142</td>\n",
              "      <td>173</td>\n",
              "      <td>246</td>\n",
              "      <td>323</td>\n",
              "    </tr>\n",
              "    <tr>\n",
              "      <th>23</th>\n",
              "      <td>중구</td>\n",
              "      <td>671</td>\n",
              "      <td>413</td>\n",
              "      <td>190</td>\n",
              "      <td>72</td>\n",
              "      <td>348</td>\n",
              "    </tr>\n",
              "    <tr>\n",
              "      <th>7</th>\n",
              "      <td>금천구</td>\n",
              "      <td>1015</td>\n",
              "      <td>674</td>\n",
              "      <td>51</td>\n",
              "      <td>269</td>\n",
              "      <td>354</td>\n",
              "    </tr>\n",
              "    <tr>\n",
              "      <th>19</th>\n",
              "      <td>영등포구</td>\n",
              "      <td>904</td>\n",
              "      <td>495</td>\n",
              "      <td>214</td>\n",
              "      <td>195</td>\n",
              "      <td>373</td>\n",
              "    </tr>\n",
              "    <tr>\n",
              "      <th>1</th>\n",
              "      <td>강동구</td>\n",
              "      <td>773</td>\n",
              "      <td>379</td>\n",
              "      <td>99</td>\n",
              "      <td>155</td>\n",
              "      <td>377</td>\n",
              "    </tr>\n",
              "    <tr>\n",
              "      <th>12</th>\n",
              "      <td>마포구</td>\n",
              "      <td>574</td>\n",
              "      <td>314</td>\n",
              "      <td>118</td>\n",
              "      <td>169</td>\n",
              "      <td>379</td>\n",
              "    </tr>\n",
              "    <tr>\n",
              "      <th>9</th>\n",
              "      <td>도봉구</td>\n",
              "      <td>485</td>\n",
              "      <td>238</td>\n",
              "      <td>159</td>\n",
              "      <td>42</td>\n",
              "      <td>386</td>\n",
              "    </tr>\n",
              "    <tr>\n",
              "      <th>14</th>\n",
              "      <td>서초구</td>\n",
              "      <td>1930</td>\n",
              "      <td>1406</td>\n",
              "      <td>157</td>\n",
              "      <td>336</td>\n",
              "      <td>398</td>\n",
              "    </tr>\n",
              "    <tr>\n",
              "      <th>20</th>\n",
              "      <td>용산구</td>\n",
              "      <td>1624</td>\n",
              "      <td>1368</td>\n",
              "      <td>218</td>\n",
              "      <td>112</td>\n",
              "      <td>398</td>\n",
              "    </tr>\n",
              "    <tr>\n",
              "      <th>17</th>\n",
              "      <td>송파구</td>\n",
              "      <td>618</td>\n",
              "      <td>529</td>\n",
              "      <td>21</td>\n",
              "      <td>68</td>\n",
              "      <td>463</td>\n",
              "    </tr>\n",
              "    <tr>\n",
              "      <th>18</th>\n",
              "      <td>양천구</td>\n",
              "      <td>2034</td>\n",
              "      <td>1843</td>\n",
              "      <td>142</td>\n",
              "      <td>30</td>\n",
              "      <td>467</td>\n",
              "    </tr>\n",
              "    <tr>\n",
              "      <th>21</th>\n",
              "      <td>은평구</td>\n",
              "      <td>1873</td>\n",
              "      <td>1138</td>\n",
              "      <td>224</td>\n",
              "      <td>278</td>\n",
              "      <td>468</td>\n",
              "    </tr>\n",
              "    <tr>\n",
              "      <th>8</th>\n",
              "      <td>노원구</td>\n",
              "      <td>1265</td>\n",
              "      <td>542</td>\n",
              "      <td>57</td>\n",
              "      <td>451</td>\n",
              "      <td>516</td>\n",
              "    </tr>\n",
              "    <tr>\n",
              "      <th>10</th>\n",
              "      <td>동대문구</td>\n",
              "      <td>1294</td>\n",
              "      <td>1070</td>\n",
              "      <td>23</td>\n",
              "      <td>198</td>\n",
              "      <td>579</td>\n",
              "    </tr>\n",
              "    <tr>\n",
              "      <th>4</th>\n",
              "      <td>관악구</td>\n",
              "      <td>1496</td>\n",
              "      <td>846</td>\n",
              "      <td>260</td>\n",
              "      <td>390</td>\n",
              "      <td>613</td>\n",
              "    </tr>\n",
              "    <tr>\n",
              "      <th>22</th>\n",
              "      <td>종로구</td>\n",
              "      <td>1002</td>\n",
              "      <td>464</td>\n",
              "      <td>314</td>\n",
              "      <td>211</td>\n",
              "      <td>630</td>\n",
              "    </tr>\n",
              "    <tr>\n",
              "      <th>0</th>\n",
              "      <td>강남구</td>\n",
              "      <td>2780</td>\n",
              "      <td>1292</td>\n",
              "      <td>430</td>\n",
              "      <td>584</td>\n",
              "      <td>932</td>\n",
              "    </tr>\n",
              "  </tbody>\n",
              "</table>\n",
              "</div>"
            ],
            "text/plain": [
              "     기관명    소계  2013년도 이전  2014년  2015년  2016년\n",
              "3    강서구   884        388    258    184     81\n",
              "24   중랑구   660        509    121    177    109\n",
              "5    광진구   707        573     78     53    174\n",
              "2    강북구   748        369    120    138    204\n",
              "16   성북구  1464       1009     78    360    204\n",
              "15   성동구  1062        730     91    241    265\n",
              "13  서대문구   962        844     50     68    292\n",
              "11   동작구  1091        544    341    103    314\n",
              "6    구로구  1561       1142    173    246    323\n",
              "23    중구   671        413    190     72    348\n",
              "7    금천구  1015        674     51    269    354\n",
              "19  영등포구   904        495    214    195    373\n",
              "1    강동구   773        379     99    155    377\n",
              "12   마포구   574        314    118    169    379\n",
              "9    도봉구   485        238    159     42    386\n",
              "14   서초구  1930       1406    157    336    398\n",
              "20   용산구  1624       1368    218    112    398\n",
              "17   송파구   618        529     21     68    463\n",
              "18   양천구  2034       1843    142     30    467\n",
              "21   은평구  1873       1138    224    278    468\n",
              "8    노원구  1265        542     57    451    516\n",
              "10  동대문구  1294       1070     23    198    579\n",
              "4    관악구  1496        846    260    390    613\n",
              "22   종로구  1002        464    314    211    630\n",
              "0    강남구  2780       1292    430    584    932"
            ]
          },
          "metadata": {
            "tags": []
          },
          "execution_count": 82
        }
      ]
    },
    {
      "cell_type": "code",
      "metadata": {
        "colab": {
          "base_uri": "https://localhost:8080/"
        },
        "id": "r1TIOmQYknVB",
        "outputId": "face09e0-dbd8-4798-b1f1-ba80fb9ea051"
      },
      "source": [
        "#2016년 기준으로 CCTV 가장 많은 구 3개.\n",
        "cctv_sort_df = cctv_df.sort_values(by=\"2016년\", ascending=False)\n",
        "cctv_sort_df.head(3)"
      ],
      "execution_count": null,
      "outputs": [
        {
          "output_type": "execute_result",
          "data": {
            "text/html": [
              "<div>\n",
              "<style scoped>\n",
              "    .dataframe tbody tr th:only-of-type {\n",
              "        vertical-align: middle;\n",
              "    }\n",
              "\n",
              "    .dataframe tbody tr th {\n",
              "        vertical-align: top;\n",
              "    }\n",
              "\n",
              "    .dataframe thead th {\n",
              "        text-align: right;\n",
              "    }\n",
              "</style>\n",
              "<table border=\"1\" class=\"dataframe\">\n",
              "  <thead>\n",
              "    <tr style=\"text-align: right;\">\n",
              "      <th></th>\n",
              "      <th>기관명</th>\n",
              "      <th>소계</th>\n",
              "      <th>2013년도 이전</th>\n",
              "      <th>2014년</th>\n",
              "      <th>2015년</th>\n",
              "      <th>2016년</th>\n",
              "    </tr>\n",
              "  </thead>\n",
              "  <tbody>\n",
              "    <tr>\n",
              "      <th>0</th>\n",
              "      <td>강남구</td>\n",
              "      <td>2780</td>\n",
              "      <td>1292</td>\n",
              "      <td>430</td>\n",
              "      <td>584</td>\n",
              "      <td>932</td>\n",
              "    </tr>\n",
              "    <tr>\n",
              "      <th>22</th>\n",
              "      <td>종로구</td>\n",
              "      <td>1002</td>\n",
              "      <td>464</td>\n",
              "      <td>314</td>\n",
              "      <td>211</td>\n",
              "      <td>630</td>\n",
              "    </tr>\n",
              "    <tr>\n",
              "      <th>4</th>\n",
              "      <td>관악구</td>\n",
              "      <td>1496</td>\n",
              "      <td>846</td>\n",
              "      <td>260</td>\n",
              "      <td>390</td>\n",
              "      <td>613</td>\n",
              "    </tr>\n",
              "  </tbody>\n",
              "</table>\n",
              "</div>"
            ],
            "text/plain": [
              "    기관명    소계  2013년도 이전  2014년  2015년  2016년\n",
              "0   강남구  2780       1292    430    584    932\n",
              "22  종로구  1002        464    314    211    630\n",
              "4   관악구  1496        846    260    390    613"
            ]
          },
          "metadata": {
            "tags": []
          },
          "execution_count": 83
        }
      ]
    },
    {
      "cell_type": "code",
      "metadata": {
        "colab": {
          "base_uri": "https://localhost:8080/"
        },
        "id": "x_OrG_dkr3ZC",
        "outputId": "7ef20bf3-dc9c-4735-bf7e-6967dfed7e2e"
      },
      "source": [
        "df2.loc['e']=['포터', 400000, 'Hyundai', 4.3]\n",
        "df2"
      ],
      "execution_count": null,
      "outputs": [
        {
          "output_type": "execute_result",
          "data": {
            "text/html": [
              "<div>\n",
              "<style scoped>\n",
              "    .dataframe tbody tr th:only-of-type {\n",
              "        vertical-align: middle;\n",
              "    }\n",
              "\n",
              "    .dataframe tbody tr th {\n",
              "        vertical-align: top;\n",
              "    }\n",
              "\n",
              "    .dataframe thead th {\n",
              "        text-align: right;\n",
              "    }\n",
              "</style>\n",
              "<table border=\"1\" class=\"dataframe\">\n",
              "  <thead>\n",
              "    <tr style=\"text-align: right;\">\n",
              "      <th></th>\n",
              "      <th>name</th>\n",
              "      <th>price</th>\n",
              "      <th>maker</th>\n",
              "      <th>rate</th>\n",
              "    </tr>\n",
              "  </thead>\n",
              "  <tbody>\n",
              "    <tr>\n",
              "      <th>a</th>\n",
              "      <td>갤럭시10</td>\n",
              "      <td>30000.0</td>\n",
              "      <td>Samsung</td>\n",
              "      <td>10.1</td>\n",
              "    </tr>\n",
              "    <tr>\n",
              "      <th>b</th>\n",
              "      <td>ZIC</td>\n",
              "      <td>50000.0</td>\n",
              "      <td>SK</td>\n",
              "      <td>20.2</td>\n",
              "    </tr>\n",
              "    <tr>\n",
              "      <th>c</th>\n",
              "      <td>소나타</td>\n",
              "      <td>120000.0</td>\n",
              "      <td>Hyundai</td>\n",
              "      <td>NaN</td>\n",
              "    </tr>\n",
              "    <tr>\n",
              "      <th>d</th>\n",
              "      <td>SmartTV</td>\n",
              "      <td>900.4</td>\n",
              "      <td>LG</td>\n",
              "      <td>9.4</td>\n",
              "    </tr>\n",
              "    <tr>\n",
              "      <th>e</th>\n",
              "      <td>포터</td>\n",
              "      <td>400000.0</td>\n",
              "      <td>Hyundai</td>\n",
              "      <td>4.3</td>\n",
              "    </tr>\n",
              "  </tbody>\n",
              "</table>\n",
              "</div>"
            ],
            "text/plain": [
              "      name     price    maker  rate\n",
              "a    갤럭시10   30000.0  Samsung  10.1\n",
              "b      ZIC   50000.0       SK  20.2\n",
              "c      소나타  120000.0  Hyundai   NaN\n",
              "d  SmartTV     900.4       LG   9.4\n",
              "e       포터  400000.0  Hyundai   4.3"
            ]
          },
          "metadata": {
            "tags": []
          },
          "execution_count": 84
        }
      ]
    },
    {
      "cell_type": "code",
      "metadata": {
        "id": "YzGvTSNur3Wr"
      },
      "source": [
        "#df2 에서 maker 오름차순, 가격 내림차순 정렬\n",
        "\n",
        "df2_sort = df2.sort_values(by=['maker', 'price'], ascending=[True, False])\n",
        "df2_sort.to_csv('result.csv')"
      ],
      "execution_count": null,
      "outputs": []
    },
    {
      "cell_type": "markdown",
      "metadata": {
        "id": "QnKYrjXNqKHL"
      },
      "source": [
        "### df 데이터 타입 변경"
      ]
    },
    {
      "cell_type": "code",
      "metadata": {
        "colab": {
          "base_uri": "https://localhost:8080/"
        },
        "id": "YMpWMkDHqJj_",
        "outputId": "7623178a-2e36-491b-9982-5c5ad3f156cd"
      },
      "source": [
        "data = {'name':['갤럭시10', 'ZIC', '소나타', 'SmartTV'],\n",
        "        'price':[30000,50000,120000,900.4],\n",
        "        'maker': ['Samsung','SK','Hyundai','LG'],\n",
        "        'rate':[10.1,20.2,np.nan,9.4]}\n",
        "df2 =DataFrame(data, index=list('abcd'))\n",
        "df2"
      ],
      "execution_count": null,
      "outputs": [
        {
          "output_type": "execute_result",
          "data": {
            "text/html": [
              "<div>\n",
              "<style scoped>\n",
              "    .dataframe tbody tr th:only-of-type {\n",
              "        vertical-align: middle;\n",
              "    }\n",
              "\n",
              "    .dataframe tbody tr th {\n",
              "        vertical-align: top;\n",
              "    }\n",
              "\n",
              "    .dataframe thead th {\n",
              "        text-align: right;\n",
              "    }\n",
              "</style>\n",
              "<table border=\"1\" class=\"dataframe\">\n",
              "  <thead>\n",
              "    <tr style=\"text-align: right;\">\n",
              "      <th></th>\n",
              "      <th>name</th>\n",
              "      <th>price</th>\n",
              "      <th>maker</th>\n",
              "      <th>rate</th>\n",
              "    </tr>\n",
              "  </thead>\n",
              "  <tbody>\n",
              "    <tr>\n",
              "      <th>a</th>\n",
              "      <td>갤럭시10</td>\n",
              "      <td>30000.0</td>\n",
              "      <td>Samsung</td>\n",
              "      <td>10.1</td>\n",
              "    </tr>\n",
              "    <tr>\n",
              "      <th>b</th>\n",
              "      <td>ZIC</td>\n",
              "      <td>50000.0</td>\n",
              "      <td>SK</td>\n",
              "      <td>20.2</td>\n",
              "    </tr>\n",
              "    <tr>\n",
              "      <th>c</th>\n",
              "      <td>소나타</td>\n",
              "      <td>120000.0</td>\n",
              "      <td>Hyundai</td>\n",
              "      <td>NaN</td>\n",
              "    </tr>\n",
              "    <tr>\n",
              "      <th>d</th>\n",
              "      <td>SmartTV</td>\n",
              "      <td>900.4</td>\n",
              "      <td>LG</td>\n",
              "      <td>9.4</td>\n",
              "    </tr>\n",
              "  </tbody>\n",
              "</table>\n",
              "</div>"
            ],
            "text/plain": [
              "      name     price    maker  rate\n",
              "a    갤럭시10   30000.0  Samsung  10.1\n",
              "b      ZIC   50000.0       SK  20.2\n",
              "c      소나타  120000.0  Hyundai   NaN\n",
              "d  SmartTV     900.4       LG   9.4"
            ]
          },
          "metadata": {
            "tags": []
          },
          "execution_count": 86
        }
      ]
    },
    {
      "cell_type": "code",
      "metadata": {
        "id": "w0-_ujWhqXmB"
      },
      "source": [
        "df2['test']=['1','2','3','4']\n",
        "df2['test2']=['1','2','3','']"
      ],
      "execution_count": null,
      "outputs": []
    },
    {
      "cell_type": "code",
      "metadata": {
        "colab": {
          "base_uri": "https://localhost:8080/"
        },
        "id": "KY2hBfQ9qXhr",
        "outputId": "8aca5d56-2d27-4c49-bbed-50fb363b645c"
      },
      "source": [
        "df2.dtypes"
      ],
      "execution_count": null,
      "outputs": [
        {
          "output_type": "execute_result",
          "data": {
            "text/plain": [
              "name      object\n",
              "price    float64\n",
              "maker     object\n",
              "rate     float64\n",
              "test      object\n",
              "test2     object\n",
              "dtype: object"
            ]
          },
          "metadata": {
            "tags": []
          },
          "execution_count": 88
        }
      ]
    },
    {
      "cell_type": "code",
      "metadata": {
        "id": "-kNz1j-oqXfA"
      },
      "source": [
        "# use astype\n",
        "df2['test']=df2['test'].astype('int') #returns as a series type"
      ],
      "execution_count": null,
      "outputs": []
    },
    {
      "cell_type": "code",
      "metadata": {
        "colab": {
          "base_uri": "https://localhost:8080/"
        },
        "id": "nYc4OsIAqXcY",
        "outputId": "add5ee9f-ec3d-4ab5-8cea-3cdbcdcc779c"
      },
      "source": [
        "# use to-numeric\n",
        "pd.to_numeric(df2.test2, errors='coerce')\n",
        "df2"
      ],
      "execution_count": null,
      "outputs": [
        {
          "output_type": "execute_result",
          "data": {
            "text/html": [
              "<div>\n",
              "<style scoped>\n",
              "    .dataframe tbody tr th:only-of-type {\n",
              "        vertical-align: middle;\n",
              "    }\n",
              "\n",
              "    .dataframe tbody tr th {\n",
              "        vertical-align: top;\n",
              "    }\n",
              "\n",
              "    .dataframe thead th {\n",
              "        text-align: right;\n",
              "    }\n",
              "</style>\n",
              "<table border=\"1\" class=\"dataframe\">\n",
              "  <thead>\n",
              "    <tr style=\"text-align: right;\">\n",
              "      <th></th>\n",
              "      <th>name</th>\n",
              "      <th>price</th>\n",
              "      <th>maker</th>\n",
              "      <th>rate</th>\n",
              "      <th>test</th>\n",
              "      <th>test2</th>\n",
              "    </tr>\n",
              "  </thead>\n",
              "  <tbody>\n",
              "    <tr>\n",
              "      <th>a</th>\n",
              "      <td>갤럭시10</td>\n",
              "      <td>30000.0</td>\n",
              "      <td>Samsung</td>\n",
              "      <td>10.1</td>\n",
              "      <td>1</td>\n",
              "      <td>1</td>\n",
              "    </tr>\n",
              "    <tr>\n",
              "      <th>b</th>\n",
              "      <td>ZIC</td>\n",
              "      <td>50000.0</td>\n",
              "      <td>SK</td>\n",
              "      <td>20.2</td>\n",
              "      <td>2</td>\n",
              "      <td>2</td>\n",
              "    </tr>\n",
              "    <tr>\n",
              "      <th>c</th>\n",
              "      <td>소나타</td>\n",
              "      <td>120000.0</td>\n",
              "      <td>Hyundai</td>\n",
              "      <td>NaN</td>\n",
              "      <td>3</td>\n",
              "      <td>3</td>\n",
              "    </tr>\n",
              "    <tr>\n",
              "      <th>d</th>\n",
              "      <td>SmartTV</td>\n",
              "      <td>900.4</td>\n",
              "      <td>LG</td>\n",
              "      <td>9.4</td>\n",
              "      <td>4</td>\n",
              "      <td></td>\n",
              "    </tr>\n",
              "  </tbody>\n",
              "</table>\n",
              "</div>"
            ],
            "text/plain": [
              "      name     price    maker  rate  test test2\n",
              "a    갤럭시10   30000.0  Samsung  10.1     1     1\n",
              "b      ZIC   50000.0       SK  20.2     2     2\n",
              "c      소나타  120000.0  Hyundai   NaN     3     3\n",
              "d  SmartTV     900.4       LG   9.4     4      "
            ]
          },
          "metadata": {
            "tags": []
          },
          "execution_count": 90
        }
      ]
    },
    {
      "cell_type": "code",
      "metadata": {
        "id": "VzzKvg6rqXZ-"
      },
      "source": [
        "#change the data type "
      ],
      "execution_count": null,
      "outputs": []
    },
    {
      "cell_type": "code",
      "metadata": {
        "id": "dg_zFLgHqXXj"
      },
      "source": [
        ""
      ],
      "execution_count": null,
      "outputs": []
    },
    {
      "cell_type": "code",
      "metadata": {
        "id": "rc-7afBaqXUw"
      },
      "source": [
        ""
      ],
      "execution_count": null,
      "outputs": []
    },
    {
      "cell_type": "markdown",
      "metadata": {
        "id": "7jiODByLkVPP"
      },
      "source": [
        "### Data selection (조건 검색)"
      ]
    },
    {
      "cell_type": "code",
      "metadata": {
        "id": "6wlcIfVtr3T8",
        "colab": {
          "base_uri": "https://localhost:8080/",
          "height": 173
        },
        "outputId": "87398132-c86d-4362-9764-9db6cc587037"
      },
      "source": [
        "# maker 컬럼 데이터 조회: df['컬럼명']\n",
        "df2\n",
        "df2['maker']\n",
        "# or same as\n",
        "df2.maker #if you want to see only one column\n",
        "# name, price 컬럼 데이터 조회\n",
        "df2[['name', 'price']]"
      ],
      "execution_count": null,
      "outputs": [
        {
          "output_type": "execute_result",
          "data": {
            "text/html": [
              "<div>\n",
              "<style scoped>\n",
              "    .dataframe tbody tr th:only-of-type {\n",
              "        vertical-align: middle;\n",
              "    }\n",
              "\n",
              "    .dataframe tbody tr th {\n",
              "        vertical-align: top;\n",
              "    }\n",
              "\n",
              "    .dataframe thead th {\n",
              "        text-align: right;\n",
              "    }\n",
              "</style>\n",
              "<table border=\"1\" class=\"dataframe\">\n",
              "  <thead>\n",
              "    <tr style=\"text-align: right;\">\n",
              "      <th></th>\n",
              "      <th>name</th>\n",
              "      <th>price</th>\n",
              "    </tr>\n",
              "  </thead>\n",
              "  <tbody>\n",
              "    <tr>\n",
              "      <th>a</th>\n",
              "      <td>갤럭시10</td>\n",
              "      <td>30000.0</td>\n",
              "    </tr>\n",
              "    <tr>\n",
              "      <th>b</th>\n",
              "      <td>ZIC</td>\n",
              "      <td>50000.0</td>\n",
              "    </tr>\n",
              "    <tr>\n",
              "      <th>c</th>\n",
              "      <td>소나타</td>\n",
              "      <td>120000.0</td>\n",
              "    </tr>\n",
              "    <tr>\n",
              "      <th>d</th>\n",
              "      <td>SmartTV</td>\n",
              "      <td>900.4</td>\n",
              "    </tr>\n",
              "  </tbody>\n",
              "</table>\n",
              "</div>"
            ],
            "text/plain": [
              "      name     price\n",
              "a    갤럭시10   30000.0\n",
              "b      ZIC   50000.0\n",
              "c      소나타  120000.0\n",
              "d  SmartTV     900.4"
            ]
          },
          "metadata": {
            "tags": []
          },
          "execution_count": 92
        }
      ]
    },
    {
      "cell_type": "code",
      "metadata": {
        "colab": {
          "base_uri": "https://localhost:8080/",
          "height": 283
        },
        "id": "yVppCDCcY81e",
        "outputId": "72313716-11b6-4eb4-af28-003fe3f3788d"
      },
      "source": [
        "### 특정 영역 선택: how to use loc[]\n",
        "# data.loc[row,column]: 라벨 기준으로 선택\n",
        "print(df2.loc[\"b\":\"c\",\"name\":\"maker\"])\n",
        "\n",
        "#data.iloc[row,column]: 인덱스 기준으로 선택\n",
        "c\n",
        "# maker column only\n",
        "# print(df2.loc[:,'maker'])  \n",
        "print(df2.iloc[:,-2])"
      ],
      "execution_count": null,
      "outputs": [
        {
          "output_type": "stream",
          "text": [
            "  name     price    maker\n",
            "b  ZIC   50000.0       SK\n",
            "c  소나타  120000.0  Hyundai\n"
          ],
          "name": "stdout"
        },
        {
          "output_type": "error",
          "ename": "NameError",
          "evalue": "ignored",
          "traceback": [
            "\u001b[0;31m---------------------------------------------------------------------------\u001b[0m",
            "\u001b[0;31mNameError\u001b[0m                                 Traceback (most recent call last)",
            "\u001b[0;32m<ipython-input-93-c0d472e6a8a6>\u001b[0m in \u001b[0;36m<module>\u001b[0;34m()\u001b[0m\n\u001b[1;32m      4\u001b[0m \u001b[0;34m\u001b[0m\u001b[0m\n\u001b[1;32m      5\u001b[0m \u001b[0;31m#data.iloc[row,column]: 인덱스 기준으로 선택\u001b[0m\u001b[0;34m\u001b[0m\u001b[0;34m\u001b[0m\u001b[0;34m\u001b[0m\u001b[0m\n\u001b[0;32m----> 6\u001b[0;31m \u001b[0mc\u001b[0m\u001b[0;34m\u001b[0m\u001b[0;34m\u001b[0m\u001b[0m\n\u001b[0m\u001b[1;32m      7\u001b[0m \u001b[0;31m# maker column only\u001b[0m\u001b[0;34m\u001b[0m\u001b[0;34m\u001b[0m\u001b[0;34m\u001b[0m\u001b[0m\n\u001b[1;32m      8\u001b[0m \u001b[0;31m# print(df2.loc[:,'maker'])\u001b[0m\u001b[0;34m\u001b[0m\u001b[0;34m\u001b[0m\u001b[0;34m\u001b[0m\u001b[0m\n",
            "\u001b[0;31mNameError\u001b[0m: name 'c' is not defined"
          ]
        }
      ]
    },
    {
      "cell_type": "code",
      "metadata": {
        "id": "Vw54y7jUcpw7"
      },
      "source": [
        "# choose one specific value: df.iat[행,열] / df.at[행,열]\n",
        "# at\n",
        "res_zic = df2.at[\"b\",\"name\"]\n",
        "# iat\n",
        "res_zic_2=df2.iat[1,0]\n",
        "print(res_zic,res_zic_2)\n",
        "\n",
        "# change 소나타 가격 to 1000\n",
        "df2\n",
        "df2.iat[2,1] = 1000 #change the value\n",
        "df2"
      ],
      "execution_count": null,
      "outputs": []
    },
    {
      "cell_type": "code",
      "metadata": {
        "id": "URFUH84ZcppS"
      },
      "source": [
        "# 조건 검색: df[조건식]\n",
        "df2[df2['price']>10000]\n",
        "\n",
        "# maker SK?\n",
        "df2[df2['maker'] == 'SK']\n",
        "\n",
        "# df2 name price column data 추출, 그 중 제품명이 ZIC인 것\n",
        "# select the new dataframe\n",
        "a = df2.iloc[:, :2]\n",
        "print(a) #double checking\n",
        "\n",
        "# select the row where name == ZIC\n",
        "a[a['name'] == \"ZIC\"]\n",
        "\n",
        "# SAME AS THIS:\n",
        "df2[['name','price']]['price']"
      ],
      "execution_count": null,
      "outputs": []
    },
    {
      "cell_type": "code",
      "metadata": {
        "id": "1HUTsqHruVD8"
      },
      "source": [
        "# 조건 검색\n",
        "# cctv_df[{cctv_df['기관명']=='강남구' | (cctv_df['기관명']=='강동구')]\n",
        "\n",
        "cctv_df[cctv_df['기관명'].isin(['강남구','강동구'])]"
      ],
      "execution_count": null,
      "outputs": []
    },
    {
      "cell_type": "markdown",
      "metadata": {
        "id": "v7rFjCfEyDIT"
      },
      "source": [
        "### Missing Data"
      ]
    },
    {
      "cell_type": "code",
      "metadata": {
        "id": "08u3cBJIuVBX"
      },
      "source": [
        "np.random.seed(10)\n",
        "df_na=DataFrame(np.random.randn(4,6), index=list('abcd'), columns=list('efghij'))\n",
        "df_na"
      ],
      "execution_count": null,
      "outputs": []
    },
    {
      "cell_type": "code",
      "metadata": {
        "id": "yaVrrxTJuU-n"
      },
      "source": [
        "df_na1=df_na[df_na>0] #changes all values that is less than 0 to NaN\n",
        "df_na1.iat[1,3] = 1.5\n",
        "df_na1\n"
      ],
      "execution_count": null,
      "outputs": []
    },
    {
      "cell_type": "code",
      "metadata": {
        "id": "wQ_Wq_9gyIQy"
      },
      "source": [
        "# Check missing values: .isna() or notna()\n",
        "df_na1.isna() #returns T / F\n",
        "\n",
        "#NaN values by (1) column and (2) row\n",
        "df_na1.isna().sum() #axis = 0 is default, so gives for each column\n",
        "df_na1.isna().sum(axis=1) #gives by each row\n",
        "\n",
        "#all NaN Values\n",
        "df_na1.isna().sum().sum() #gives all the NA values"
      ],
      "execution_count": null,
      "outputs": []
    },
    {
      "cell_type": "code",
      "metadata": {
        "id": "QuED4lEuyIOV"
      },
      "source": [
        "# Missing Data 처리\n",
        "## (1) Deletion\n",
        "df_na1.dropna() #only leaves 'b' row\n",
        "df_na1.dropna(axis=0, how='all') #delete row/column where all values are NaN\n",
        "df_na1.dropna(axis=0, thresh=4) #NaN 4개 미만 날리기\n",
        "df_na1\n",
        "\n",
        "# column data NaN 3개 미만 남기기\n",
        "df_na1.dropna(axis=1, thresh=3)"
      ],
      "execution_count": null,
      "outputs": []
    },
    {
      "cell_type": "code",
      "metadata": {
        "id": "VEtjyDNJyILD"
      },
      "source": [
        "#대체값 넣기 - Substitute: fillna\n",
        "df_na1.fillna(0).round(2) #change all NaN to 0\n",
        "\n",
        "df_na1.fillna(df_na1.mean()) #substitutate all NaN values with mean value of each column\n",
        "df_na1.fillna(method='ffill') #front fill"
      ],
      "execution_count": null,
      "outputs": []
    },
    {
      "cell_type": "code",
      "metadata": {
        "id": "_Kd-kB6NRFcV"
      },
      "source": [
        "#mean value for the column\n",
        "df2[['name','price']]['price'].mean()"
      ],
      "execution_count": null,
      "outputs": []
    },
    {
      "cell_type": "code",
      "metadata": {
        "id": "oZGAB-UOjs9k"
      },
      "source": [
        "# frequency - 빈도수 조회: value.count\n",
        "df2['maker'].value_counts()\n",
        "\n",
        "# unique values onlyd\n",
        "df2['maker'].unique()"
      ],
      "execution_count": null,
      "outputs": []
    },
    {
      "cell_type": "markdown",
      "metadata": {
        "id": "CcZKBADcWCEx"
      },
      "source": [
        "### Addition & Deletion"
      ]
    },
    {
      "cell_type": "code",
      "metadata": {
        "id": "3qV7PEf3WBuE"
      },
      "source": [
        "# how to add new column - \n",
        "df2['info']=[3.4,1.9,2.9,np.nan]\n",
        "df2"
      ],
      "execution_count": null,
      "outputs": []
    },
    {
      "cell_type": "code",
      "metadata": {
        "id": "rYYI2qm9RFaG"
      },
      "source": [
        "# how to delete columns - drop\n",
        "## (1) delete rows: axis=0\n",
        "# ex) delete row 'b' \n",
        "df2.drop('b') \n",
        "## (2) delete columns: axis=1\n",
        "# ex) delete column 'info'\n",
        "df2.drop('info', axis=1)"
      ],
      "execution_count": null,
      "outputs": []
    },
    {
      "cell_type": "markdown",
      "metadata": {
        "id": "vIbxHIiCqPi4"
      },
      "source": [
        "### Statistical Function"
      ]
    },
    {
      "cell_type": "code",
      "metadata": {
        "id": "tRw9KYewqgoP"
      },
      "source": [
        "import numpy as np\n",
        "import pandas as pd\n",
        "from pandas import Series, DataFrame\n",
        "import matplotlib.pyplot as plt\n",
        "import seaborn as sns"
      ],
      "execution_count": null,
      "outputs": []
    },
    {
      "cell_type": "code",
      "metadata": {
        "id": "uHLackE0RFXG"
      },
      "source": [
        "!wget -N --http-user=mysuni --http-passwd=mysuni1! http://sk.jaen.kr:8080/2020/tips.csv"
      ],
      "execution_count": null,
      "outputs": []
    },
    {
      "cell_type": "code",
      "metadata": {
        "id": "eQ3uVQ33Xl6O"
      },
      "source": [
        "tip_df = pd.read_csv('tips.csv', encoding='utf-8')\n",
        "tip_df"
      ],
      "execution_count": null,
      "outputs": []
    },
    {
      "cell_type": "code",
      "metadata": {
        "id": "W6a0_5ysXl26"
      },
      "source": [
        "# Describe function\n",
        "tip_df.describe()"
      ],
      "execution_count": null,
      "outputs": []
    },
    {
      "cell_type": "code",
      "metadata": {
        "id": "F-0dYNlV0JuF"
      },
      "source": [
        "#tips_pct를 구해서 tip_df에 새로운 컬럼명으로 추가하세요 (소수 둘째자리까지 반영)\n",
        "#공식 : tip / total_bill * 100의 결과를 소수 둘째자리로 변경하여 반영\n",
        "tip_df['tips_pct'] = round(tip_df['tip']/tip_df['total_bill'] * 100, 2)\n",
        "tip_df\n",
        "\n",
        "## OR\n",
        "tip_df['tips_pct'] = (tip_df['tip']/tip_df['total_bill'] * 100).round(2)\n",
        "tip_df"
      ],
      "execution_count": null,
      "outputs": []
    },
    {
      "cell_type": "markdown",
      "metadata": {
        "id": "FBoTUSqv0Ook"
      },
      "source": [
        "### Data Concat & Merge (연결, 병합)"
      ]
    },
    {
      "cell_type": "code",
      "metadata": {
        "id": "KQdhv0YnXlzY"
      },
      "source": [
        "#Sunday, Saturday information 조건 검색\n",
        "tips_sun = tip_df.loc[tip_df['day']=='Sun']\n",
        "print(tips_sun.shape)\n",
        "\n",
        "tips_sat=tip_df.loc[tip_df['day']=='Sat']\n",
        "print(tips_sat.shape)"
      ],
      "execution_count": null,
      "outputs": []
    },
    {
      "cell_type": "code",
      "metadata": {
        "id": "vYEGxYTuXltN"
      },
      "source": [
        "# use 'concat' to merge - 위 아래로\n",
        "weekend_df=pd.concat([tips_sat, tips_sun])\n",
        "print(weekend_df)\n",
        "\n",
        "# gives key value as an index\n",
        "weekend_df_i=pd.concat([tips_sat, tips_sun], keys=['sat', 'sun'])\n",
        "print(weekend_df_i)"
      ],
      "execution_count": null,
      "outputs": []
    },
    {
      "cell_type": "code",
      "metadata": {
        "id": "oL79ZQDbXlrD"
      },
      "source": [
        "# use 'merge' to merge - 좌 우로\n",
        "## new dataset\n",
        "np.random.seed(10)\n",
        "df3 = DataFrame(np.random.randint(10,100,24).reshape(4,6), \n",
        "                index=list('abcd'), columns=['id','x1','x2','x3','x4','x5'])\n",
        "df3"
      ],
      "execution_count": null,
      "outputs": []
    },
    {
      "cell_type": "code",
      "metadata": {
        "id": "jwVKi3qt26Ag"
      },
      "source": [
        "# id ~ x3 column 선택\n",
        "df3_left = df3.iloc[:,:4]\n",
        "display(df3_left)\n",
        "\n",
        "# id, x4, x5 column 선택\n",
        "df3_right = df3[['id','x4','x5']]\n",
        "### OR\n",
        "df3_right = df3.drop(['x1','x2','x3'], axis=1)\n",
        "df3_right\n",
        "display(df3_right)\n",
        "\n",
        "# # df3_left 0,0 위치 35로 변경 - use 'iat'\n",
        "df3_left.iat[0,0]  = 35\n",
        "df3_left"
      ],
      "execution_count": null,
      "outputs": []
    },
    {
      "cell_type": "code",
      "metadata": {
        "id": "Ior_waei259T"
      },
      "source": [
        "# MERGE\n",
        "## inner\n",
        "tot_df = pd.merge(df3_left, df3_right, on = 'id', how= 'inner')\n",
        "display (tot_df)\n",
        "\n",
        "## outer\n",
        "tot_df1 = pd.merge(df3_left, df3_right, on='id', how='outer')\n",
        "display (tot_df1)\n"
      ],
      "execution_count": null,
      "outputs": []
    },
    {
      "cell_type": "markdown",
      "metadata": {
        "id": "Zy9f3vhbgtFq"
      },
      "source": [
        "### Grouping, Pivoting"
      ]
    },
    {
      "cell_type": "code",
      "metadata": {
        "id": "RU9HEfqU256e"
      },
      "source": [
        "tip_df.head(2)"
      ],
      "execution_count": null,
      "outputs": []
    },
    {
      "cell_type": "code",
      "metadata": {
        "id": "AxH-LrApgwDZ"
      },
      "source": [
        "# grouping by using group-by\n",
        "tip_df.groupby(by='sex').mean() #returns mean value for each male \n",
        "tip_df.groupby(by=['sex', 'smoker'])['total_bill'].mean() #smoker mean for each female/male\n",
        "# tip_df.gropuby(by=['sex', 'smoker'])['tips_pct'].agg(['mean','sum']).round(1)"
      ],
      "execution_count": null,
      "outputs": []
    },
    {
      "cell_type": "code",
      "metadata": {
        "id": "dEY3UVBSgsie"
      },
      "source": [
        "dic = {'total_bill':'sum', 'tip':'mean','size':'count','tips_pct':'max'}\n",
        "tip_df.groupby(['sex','smoker']).agg(dic) "
      ],
      "execution_count": null,
      "outputs": []
    },
    {
      "cell_type": "code",
      "metadata": {
        "id": "po92LaEk253F"
      },
      "source": [
        "# pivot_table 연습\n",
        "tip_df.pivot_table(values = ['tips_pct'], index=['sex'], columns='smoker', aggfunc=['mean','sum'])"
      ],
      "execution_count": null,
      "outputs": []
    },
    {
      "cell_type": "code",
      "metadata": {
        "id": "A4kc8wyC25yz"
      },
      "source": [
        "#you can omit values= when using pivot table\n",
        "tip_df.pivot_table('tips_pct', index=['sex','smoker'], columns='day', aggfunc=['count'], margins=True) #margins=true include total values for each column  "
      ],
      "execution_count": null,
      "outputs": []
    },
    {
      "cell_type": "markdown",
      "metadata": {
        "id": "BX5s6UcSjTjm"
      },
      "source": [
        "### Data 처리 연습"
      ]
    },
    {
      "cell_type": "code",
      "metadata": {
        "colab": {
          "base_uri": "https://localhost:8080/"
        },
        "id": "5XcvuJkLjWO_",
        "outputId": "bbbaeae4-d139-448d-b644-034f0439f912"
      },
      "source": [
        "\n",
        "!wget -N --http-user=mysuni --http-passwd=mysuni1! http://sk.jaen.kr:8080/2020/proinfo.csv"
      ],
      "execution_count": null,
      "outputs": [
        {
          "output_type": "stream",
          "text": [
            "--2021-02-05 00:13:56--  http://sk.jaen.kr:8080/2020/proinfo.csv\n",
            "Resolving sk.jaen.kr (sk.jaen.kr)... 49.247.134.238\n",
            "Connecting to sk.jaen.kr (sk.jaen.kr)|49.247.134.238|:8080... connected.\n",
            "HTTP request sent, awaiting response... 401 Unauthorized\n",
            "Authentication selected: Basic realm=\"Authentication required.\"\n",
            "Reusing existing connection to sk.jaen.kr:8080.\n",
            "HTTP request sent, awaiting response... 200 OK\n",
            "Length: 268 [text/csv]\n",
            "Saving to: ‘proinfo.csv’\n",
            "\n",
            "proinfo.csv         100%[===================>]     268  --.-KB/s    in 0s      \n",
            "\n",
            "2021-02-05 00:13:57 (59.4 MB/s) - ‘proinfo.csv’ saved [268/268]\n",
            "\n"
          ],
          "name": "stdout"
        }
      ]
    },
    {
      "cell_type": "code",
      "metadata": {
        "colab": {
          "base_uri": "https://localhost:8080/",
          "height": 235
        },
        "id": "ZUsbKe8bjWMI",
        "outputId": "3cc3261b-799e-4408-c3f1-a0b6bd68250f"
      },
      "source": [
        "pro_df = pd.read_csv('proinfo.csv', encoding='cp949', index_col='id')\n",
        "pro_df"
      ],
      "execution_count": null,
      "outputs": [
        {
          "output_type": "execute_result",
          "data": {
            "text/html": [
              "<div>\n",
              "<style scoped>\n",
              "    .dataframe tbody tr th:only-of-type {\n",
              "        vertical-align: middle;\n",
              "    }\n",
              "\n",
              "    .dataframe tbody tr th {\n",
              "        vertical-align: top;\n",
              "    }\n",
              "\n",
              "    .dataframe thead th {\n",
              "        text-align: right;\n",
              "    }\n",
              "</style>\n",
              "<table border=\"1\" class=\"dataframe\">\n",
              "  <thead>\n",
              "    <tr style=\"text-align: right;\">\n",
              "      <th></th>\n",
              "      <th>sn</th>\n",
              "      <th>proname</th>\n",
              "      <th>price</th>\n",
              "      <th>shipdate</th>\n",
              "      <th>info</th>\n",
              "    </tr>\n",
              "    <tr>\n",
              "      <th>id</th>\n",
              "      <th></th>\n",
              "      <th></th>\n",
              "      <th></th>\n",
              "      <th></th>\n",
              "      <th></th>\n",
              "    </tr>\n",
              "  </thead>\n",
              "  <tbody>\n",
              "    <tr>\n",
              "      <th>3</th>\n",
              "      <td>SKI_1101</td>\n",
              "      <td>SK 핸드폰</td>\n",
              "      <td>4,345</td>\n",
              "      <td>2010-10-10</td>\n",
              "      <td>성능 좋음</td>\n",
              "    </tr>\n",
              "    <tr>\n",
              "      <th>5</th>\n",
              "      <td>SKI_1103</td>\n",
              "      <td>SK TV</td>\n",
              "      <td>5,123</td>\n",
              "      <td>2010-06-10</td>\n",
              "      <td>-</td>\n",
              "    </tr>\n",
              "    <tr>\n",
              "      <th>7</th>\n",
              "      <td>SKI_1107</td>\n",
              "      <td>SK 자동차</td>\n",
              "      <td>6,876</td>\n",
              "      <td>2010-05-10</td>\n",
              "      <td>2021년제조</td>\n",
              "    </tr>\n",
              "    <tr>\n",
              "      <th>10</th>\n",
              "      <td>SKI_1191</td>\n",
              "      <td>SK DRAM</td>\n",
              "      <td>4,234</td>\n",
              "      <td>2010-04-10</td>\n",
              "      <td>16G</td>\n",
              "    </tr>\n",
              "    <tr>\n",
              "      <th>11</th>\n",
              "      <td>SKI_1243</td>\n",
              "      <td>SK 오일</td>\n",
              "      <td>2,876</td>\n",
              "      <td>2010-07-10</td>\n",
              "      <td>1000CC</td>\n",
              "    </tr>\n",
              "  </tbody>\n",
              "</table>\n",
              "</div>"
            ],
            "text/plain": [
              "          sn  proname  price    shipdate     info\n",
              "id                                               \n",
              "3   SKI_1101   SK 핸드폰  4,345  2010-10-10    성능 좋음\n",
              "5   SKI_1103    SK TV  5,123  2010-06-10        -\n",
              "7   SKI_1107   SK 자동차  6,876  2010-05-10  2021년제조\n",
              "10  SKI_1191  SK DRAM  4,234  2010-04-10      16G\n",
              "11  SKI_1243    SK 오일  2,876  2010-07-10   1000CC"
            ]
          },
          "metadata": {
            "tags": []
          },
          "execution_count": 140
        }
      ]
    },
    {
      "cell_type": "code",
      "metadata": {
        "colab": {
          "base_uri": "https://localhost:8080/"
        },
        "id": "NmeZl4XTjWDC",
        "outputId": "6489d3f3-fd34-4afa-b65a-850b814c9285"
      },
      "source": [
        "pro_df.dtypes"
      ],
      "execution_count": null,
      "outputs": [
        {
          "output_type": "execute_result",
          "data": {
            "text/plain": [
              "sn          object\n",
              "proname     object\n",
              "price       object\n",
              "shipdate    object\n",
              "info        object\n",
              "dtype: object"
            ]
          },
          "metadata": {
            "tags": []
          },
          "execution_count": 141
        }
      ]
    },
    {
      "cell_type": "code",
      "metadata": {
        "colab": {
          "base_uri": "https://localhost:8080/",
          "height": 204
        },
        "id": "De9Sw0HjjWBE",
        "outputId": "74c1d7c5-5509-47dd-8313-a2b4882e42a8"
      },
      "source": [
        "# change the index: df.reset_index()\n",
        "pro_df.reset_index(drop=True, inplace=True) #delete the unnecessary column\n",
        "pro_df"
      ],
      "execution_count": null,
      "outputs": [
        {
          "output_type": "execute_result",
          "data": {
            "text/html": [
              "<div>\n",
              "<style scoped>\n",
              "    .dataframe tbody tr th:only-of-type {\n",
              "        vertical-align: middle;\n",
              "    }\n",
              "\n",
              "    .dataframe tbody tr th {\n",
              "        vertical-align: top;\n",
              "    }\n",
              "\n",
              "    .dataframe thead th {\n",
              "        text-align: right;\n",
              "    }\n",
              "</style>\n",
              "<table border=\"1\" class=\"dataframe\">\n",
              "  <thead>\n",
              "    <tr style=\"text-align: right;\">\n",
              "      <th></th>\n",
              "      <th>sn</th>\n",
              "      <th>proname</th>\n",
              "      <th>price</th>\n",
              "      <th>shipdate</th>\n",
              "      <th>info</th>\n",
              "    </tr>\n",
              "  </thead>\n",
              "  <tbody>\n",
              "    <tr>\n",
              "      <th>0</th>\n",
              "      <td>SKI_1101</td>\n",
              "      <td>SK 핸드폰</td>\n",
              "      <td>4,345</td>\n",
              "      <td>2010-10-10</td>\n",
              "      <td>성능 좋음</td>\n",
              "    </tr>\n",
              "    <tr>\n",
              "      <th>1</th>\n",
              "      <td>SKI_1103</td>\n",
              "      <td>SK TV</td>\n",
              "      <td>5,123</td>\n",
              "      <td>2010-06-10</td>\n",
              "      <td>-</td>\n",
              "    </tr>\n",
              "    <tr>\n",
              "      <th>2</th>\n",
              "      <td>SKI_1107</td>\n",
              "      <td>SK 자동차</td>\n",
              "      <td>6,876</td>\n",
              "      <td>2010-05-10</td>\n",
              "      <td>2021년제조</td>\n",
              "    </tr>\n",
              "    <tr>\n",
              "      <th>3</th>\n",
              "      <td>SKI_1191</td>\n",
              "      <td>SK DRAM</td>\n",
              "      <td>4,234</td>\n",
              "      <td>2010-04-10</td>\n",
              "      <td>16G</td>\n",
              "    </tr>\n",
              "    <tr>\n",
              "      <th>4</th>\n",
              "      <td>SKI_1243</td>\n",
              "      <td>SK 오일</td>\n",
              "      <td>2,876</td>\n",
              "      <td>2010-07-10</td>\n",
              "      <td>1000CC</td>\n",
              "    </tr>\n",
              "  </tbody>\n",
              "</table>\n",
              "</div>"
            ],
            "text/plain": [
              "         sn  proname  price    shipdate     info\n",
              "0  SKI_1101   SK 핸드폰  4,345  2010-10-10    성능 좋음\n",
              "1  SKI_1103    SK TV  5,123  2010-06-10        -\n",
              "2  SKI_1107   SK 자동차  6,876  2010-05-10  2021년제조\n",
              "3  SKI_1191  SK DRAM  4,234  2010-04-10      16G\n",
              "4  SKI_1243    SK 오일  2,876  2010-07-10   1000CC"
            ]
          },
          "metadata": {
            "tags": []
          },
          "execution_count": 142
        }
      ]
    },
    {
      "cell_type": "code",
      "metadata": {
        "colab": {
          "base_uri": "https://localhost:8080/"
        },
        "id": "WfbSlOwKjV-3",
        "outputId": "5f027805-7044-4898-c10b-0a13575777e8"
      },
      "source": [
        "import datetime\n",
        "#shipdate --> datetime\n",
        "pro_df['shipdate']=pd.to_datetime(pro_df['shipdate'])\n",
        "#변경된 데이터 타입 조회\n",
        "pro_df.dtypes"
      ],
      "execution_count": null,
      "outputs": [
        {
          "output_type": "execute_result",
          "data": {
            "text/plain": [
              "sn                  object\n",
              "proname             object\n",
              "price               object\n",
              "shipdate    datetime64[ns]\n",
              "info                object\n",
              "dtype: object"
            ]
          },
          "metadata": {
            "tags": []
          },
          "execution_count": 143
        }
      ]
    },
    {
      "cell_type": "code",
      "metadata": {
        "colab": {
          "base_uri": "https://localhost:8080/",
          "height": 204
        },
        "id": "Py7vSQf0jV8k",
        "outputId": "c461c893-08af-4ed0-bce8-dcde746ced67"
      },
      "source": [
        "#shipdate's Year / Month 추출하여 create new columns\n",
        "pro_df['year'] = pro_df['shipdate'].dt.year #you can subset 'year' only from the datetime series\n",
        "pro_df\n",
        "pro_df['month']=pro_df['shipdate'].dt.month\n",
        "pro_df"
      ],
      "execution_count": null,
      "outputs": [
        {
          "output_type": "execute_result",
          "data": {
            "text/html": [
              "<div>\n",
              "<style scoped>\n",
              "    .dataframe tbody tr th:only-of-type {\n",
              "        vertical-align: middle;\n",
              "    }\n",
              "\n",
              "    .dataframe tbody tr th {\n",
              "        vertical-align: top;\n",
              "    }\n",
              "\n",
              "    .dataframe thead th {\n",
              "        text-align: right;\n",
              "    }\n",
              "</style>\n",
              "<table border=\"1\" class=\"dataframe\">\n",
              "  <thead>\n",
              "    <tr style=\"text-align: right;\">\n",
              "      <th></th>\n",
              "      <th>sn</th>\n",
              "      <th>proname</th>\n",
              "      <th>price</th>\n",
              "      <th>shipdate</th>\n",
              "      <th>info</th>\n",
              "      <th>year</th>\n",
              "      <th>month</th>\n",
              "    </tr>\n",
              "  </thead>\n",
              "  <tbody>\n",
              "    <tr>\n",
              "      <th>0</th>\n",
              "      <td>SKI_1101</td>\n",
              "      <td>SK 핸드폰</td>\n",
              "      <td>4,345</td>\n",
              "      <td>2010-10-10</td>\n",
              "      <td>성능 좋음</td>\n",
              "      <td>2010</td>\n",
              "      <td>10</td>\n",
              "    </tr>\n",
              "    <tr>\n",
              "      <th>1</th>\n",
              "      <td>SKI_1103</td>\n",
              "      <td>SK TV</td>\n",
              "      <td>5,123</td>\n",
              "      <td>2010-06-10</td>\n",
              "      <td>-</td>\n",
              "      <td>2010</td>\n",
              "      <td>6</td>\n",
              "    </tr>\n",
              "    <tr>\n",
              "      <th>2</th>\n",
              "      <td>SKI_1107</td>\n",
              "      <td>SK 자동차</td>\n",
              "      <td>6,876</td>\n",
              "      <td>2010-05-10</td>\n",
              "      <td>2021년제조</td>\n",
              "      <td>2010</td>\n",
              "      <td>5</td>\n",
              "    </tr>\n",
              "    <tr>\n",
              "      <th>3</th>\n",
              "      <td>SKI_1191</td>\n",
              "      <td>SK DRAM</td>\n",
              "      <td>4,234</td>\n",
              "      <td>2010-04-10</td>\n",
              "      <td>16G</td>\n",
              "      <td>2010</td>\n",
              "      <td>4</td>\n",
              "    </tr>\n",
              "    <tr>\n",
              "      <th>4</th>\n",
              "      <td>SKI_1243</td>\n",
              "      <td>SK 오일</td>\n",
              "      <td>2,876</td>\n",
              "      <td>2010-07-10</td>\n",
              "      <td>1000CC</td>\n",
              "      <td>2010</td>\n",
              "      <td>7</td>\n",
              "    </tr>\n",
              "  </tbody>\n",
              "</table>\n",
              "</div>"
            ],
            "text/plain": [
              "         sn  proname  price   shipdate     info  year  month\n",
              "0  SKI_1101   SK 핸드폰  4,345 2010-10-10    성능 좋음  2010     10\n",
              "1  SKI_1103    SK TV  5,123 2010-06-10        -  2010      6\n",
              "2  SKI_1107   SK 자동차  6,876 2010-05-10  2021년제조  2010      5\n",
              "3  SKI_1191  SK DRAM  4,234 2010-04-10      16G  2010      4\n",
              "4  SKI_1243    SK 오일  2,876 2010-07-10   1000CC  2010      7"
            ]
          },
          "metadata": {
            "tags": []
          },
          "execution_count": 144
        }
      ]
    },
    {
      "cell_type": "code",
      "metadata": {
        "colab": {
          "base_uri": "https://localhost:8080/"
        },
        "id": "U4mtZAbJjV6B",
        "outputId": "0b6c0037-c8f4-4fb0-d1c4-20b81ba2e4e7"
      },
      "source": [
        "pro_df.head()\n",
        "#price column date type change to integer type\n",
        "pro_df['price']=pro_df['price'].str.replace(\",\",\"\")\n",
        "#check the price series\n",
        "pro_df['price']\n",
        "\n",
        "#change to numeric type\n",
        "pro_df['price']=pd.to_numeric(pro_df['price'], errors='coerce')\n",
        "# check the data type\n",
        "pro_df.dtypes"
      ],
      "execution_count": null,
      "outputs": [
        {
          "output_type": "execute_result",
          "data": {
            "text/plain": [
              "sn                  object\n",
              "proname             object\n",
              "price                int64\n",
              "shipdate    datetime64[ns]\n",
              "info                object\n",
              "year                 int64\n",
              "month                int64\n",
              "dtype: object"
            ]
          },
          "metadata": {
            "tags": []
          },
          "execution_count": 145
        }
      ]
    },
    {
      "cell_type": "code",
      "metadata": {
        "colab": {
          "base_uri": "https://localhost:8080/",
          "height": 204
        },
        "id": "l4XVQqW8jV3K",
        "outputId": "5ffa7d59-1880-4322-972f-f29b978860e5"
      },
      "source": [
        "#데이터 프레임중에서 정수형 열 데이터만 추출\n",
        "pro_df_int = pro_df.select_dtypes('int')\n",
        "pro_df_int"
      ],
      "execution_count": null,
      "outputs": [
        {
          "output_type": "execute_result",
          "data": {
            "text/html": [
              "<div>\n",
              "<style scoped>\n",
              "    .dataframe tbody tr th:only-of-type {\n",
              "        vertical-align: middle;\n",
              "    }\n",
              "\n",
              "    .dataframe tbody tr th {\n",
              "        vertical-align: top;\n",
              "    }\n",
              "\n",
              "    .dataframe thead th {\n",
              "        text-align: right;\n",
              "    }\n",
              "</style>\n",
              "<table border=\"1\" class=\"dataframe\">\n",
              "  <thead>\n",
              "    <tr style=\"text-align: right;\">\n",
              "      <th></th>\n",
              "      <th>price</th>\n",
              "      <th>year</th>\n",
              "      <th>month</th>\n",
              "    </tr>\n",
              "  </thead>\n",
              "  <tbody>\n",
              "    <tr>\n",
              "      <th>0</th>\n",
              "      <td>4345</td>\n",
              "      <td>2010</td>\n",
              "      <td>10</td>\n",
              "    </tr>\n",
              "    <tr>\n",
              "      <th>1</th>\n",
              "      <td>5123</td>\n",
              "      <td>2010</td>\n",
              "      <td>6</td>\n",
              "    </tr>\n",
              "    <tr>\n",
              "      <th>2</th>\n",
              "      <td>6876</td>\n",
              "      <td>2010</td>\n",
              "      <td>5</td>\n",
              "    </tr>\n",
              "    <tr>\n",
              "      <th>3</th>\n",
              "      <td>4234</td>\n",
              "      <td>2010</td>\n",
              "      <td>4</td>\n",
              "    </tr>\n",
              "    <tr>\n",
              "      <th>4</th>\n",
              "      <td>2876</td>\n",
              "      <td>2010</td>\n",
              "      <td>7</td>\n",
              "    </tr>\n",
              "  </tbody>\n",
              "</table>\n",
              "</div>"
            ],
            "text/plain": [
              "   price  year  month\n",
              "0   4345  2010     10\n",
              "1   5123  2010      6\n",
              "2   6876  2010      5\n",
              "3   4234  2010      4\n",
              "4   2876  2010      7"
            ]
          },
          "metadata": {
            "tags": []
          },
          "execution_count": 154
        }
      ]
    },
    {
      "cell_type": "code",
      "metadata": {
        "colab": {
          "base_uri": "https://localhost:8080/",
          "height": 204
        },
        "id": "q8KRX7bOwDGZ",
        "outputId": "55ae7460-9821-4a29-cfef-ae983f0b2514"
      },
      "source": [
        "pro_df.head(2)\n",
        "# 가격 5000원 이상이면 high, 5000원 미만이면 low 라고 하고 새로운 level 컬럼에 추가\n",
        "pro_df.loc[pro_df['price']>5000, 'level']='high'\n",
        "pro_df.loc[pro_df['price']<5000, 'level']='low'\n",
        "pro_df.head()"
      ],
      "execution_count": null,
      "outputs": [
        {
          "output_type": "execute_result",
          "data": {
            "text/html": [
              "<div>\n",
              "<style scoped>\n",
              "    .dataframe tbody tr th:only-of-type {\n",
              "        vertical-align: middle;\n",
              "    }\n",
              "\n",
              "    .dataframe tbody tr th {\n",
              "        vertical-align: top;\n",
              "    }\n",
              "\n",
              "    .dataframe thead th {\n",
              "        text-align: right;\n",
              "    }\n",
              "</style>\n",
              "<table border=\"1\" class=\"dataframe\">\n",
              "  <thead>\n",
              "    <tr style=\"text-align: right;\">\n",
              "      <th></th>\n",
              "      <th>sn</th>\n",
              "      <th>proname</th>\n",
              "      <th>price</th>\n",
              "      <th>shipdate</th>\n",
              "      <th>info</th>\n",
              "      <th>year</th>\n",
              "      <th>month</th>\n",
              "      <th>level</th>\n",
              "    </tr>\n",
              "  </thead>\n",
              "  <tbody>\n",
              "    <tr>\n",
              "      <th>0</th>\n",
              "      <td>SKI_1101</td>\n",
              "      <td>SK 핸드폰</td>\n",
              "      <td>4345</td>\n",
              "      <td>2010-10-10</td>\n",
              "      <td>성능 좋음</td>\n",
              "      <td>2010</td>\n",
              "      <td>10</td>\n",
              "      <td>low</td>\n",
              "    </tr>\n",
              "    <tr>\n",
              "      <th>1</th>\n",
              "      <td>SKI_1103</td>\n",
              "      <td>SK TV</td>\n",
              "      <td>5123</td>\n",
              "      <td>2010-06-10</td>\n",
              "      <td>-</td>\n",
              "      <td>2010</td>\n",
              "      <td>6</td>\n",
              "      <td>high</td>\n",
              "    </tr>\n",
              "    <tr>\n",
              "      <th>2</th>\n",
              "      <td>SKI_1107</td>\n",
              "      <td>SK 자동차</td>\n",
              "      <td>6876</td>\n",
              "      <td>2010-05-10</td>\n",
              "      <td>2021년제조</td>\n",
              "      <td>2010</td>\n",
              "      <td>5</td>\n",
              "      <td>high</td>\n",
              "    </tr>\n",
              "    <tr>\n",
              "      <th>3</th>\n",
              "      <td>SKI_1191</td>\n",
              "      <td>SK DRAM</td>\n",
              "      <td>4234</td>\n",
              "      <td>2010-04-10</td>\n",
              "      <td>16G</td>\n",
              "      <td>2010</td>\n",
              "      <td>4</td>\n",
              "      <td>low</td>\n",
              "    </tr>\n",
              "    <tr>\n",
              "      <th>4</th>\n",
              "      <td>SKI_1243</td>\n",
              "      <td>SK 오일</td>\n",
              "      <td>2876</td>\n",
              "      <td>2010-07-10</td>\n",
              "      <td>1000CC</td>\n",
              "      <td>2010</td>\n",
              "      <td>7</td>\n",
              "      <td>low</td>\n",
              "    </tr>\n",
              "  </tbody>\n",
              "</table>\n",
              "</div>"
            ],
            "text/plain": [
              "         sn  proname  price   shipdate     info  year  month level\n",
              "0  SKI_1101   SK 핸드폰   4345 2010-10-10    성능 좋음  2010     10   low\n",
              "1  SKI_1103    SK TV   5123 2010-06-10        -  2010      6  high\n",
              "2  SKI_1107   SK 자동차   6876 2010-05-10  2021년제조  2010      5  high\n",
              "3  SKI_1191  SK DRAM   4234 2010-04-10      16G  2010      4   low\n",
              "4  SKI_1243    SK 오일   2876 2010-07-10   1000CC  2010      7   low"
            ]
          },
          "metadata": {
            "tags": []
          },
          "execution_count": 156
        }
      ]
    },
    {
      "cell_type": "code",
      "metadata": {
        "colab": {
          "base_uri": "https://localhost:8080/",
          "height": 204
        },
        "id": "UPCtzqZZwDEH",
        "outputId": "6b2e309c-b146-49f1-dfaa-6b93c51b2e32"
      },
      "source": [
        "# delete SK from the proname\n",
        "pro_df['proname']=pro_df['proname'].str.replace(\"SK\",\"\")\n",
        "pro_df"
      ],
      "execution_count": null,
      "outputs": [
        {
          "output_type": "execute_result",
          "data": {
            "text/html": [
              "<div>\n",
              "<style scoped>\n",
              "    .dataframe tbody tr th:only-of-type {\n",
              "        vertical-align: middle;\n",
              "    }\n",
              "\n",
              "    .dataframe tbody tr th {\n",
              "        vertical-align: top;\n",
              "    }\n",
              "\n",
              "    .dataframe thead th {\n",
              "        text-align: right;\n",
              "    }\n",
              "</style>\n",
              "<table border=\"1\" class=\"dataframe\">\n",
              "  <thead>\n",
              "    <tr style=\"text-align: right;\">\n",
              "      <th></th>\n",
              "      <th>sn</th>\n",
              "      <th>proname</th>\n",
              "      <th>price</th>\n",
              "      <th>shipdate</th>\n",
              "      <th>info</th>\n",
              "      <th>year</th>\n",
              "      <th>month</th>\n",
              "      <th>level</th>\n",
              "    </tr>\n",
              "  </thead>\n",
              "  <tbody>\n",
              "    <tr>\n",
              "      <th>0</th>\n",
              "      <td>SKI_1101</td>\n",
              "      <td>핸드폰</td>\n",
              "      <td>4345</td>\n",
              "      <td>2010-10-10</td>\n",
              "      <td>성능 좋음</td>\n",
              "      <td>2010</td>\n",
              "      <td>10</td>\n",
              "      <td>low</td>\n",
              "    </tr>\n",
              "    <tr>\n",
              "      <th>1</th>\n",
              "      <td>SKI_1103</td>\n",
              "      <td>TV</td>\n",
              "      <td>5123</td>\n",
              "      <td>2010-06-10</td>\n",
              "      <td>-</td>\n",
              "      <td>2010</td>\n",
              "      <td>6</td>\n",
              "      <td>high</td>\n",
              "    </tr>\n",
              "    <tr>\n",
              "      <th>2</th>\n",
              "      <td>SKI_1107</td>\n",
              "      <td>자동차</td>\n",
              "      <td>6876</td>\n",
              "      <td>2010-05-10</td>\n",
              "      <td>2021년제조</td>\n",
              "      <td>2010</td>\n",
              "      <td>5</td>\n",
              "      <td>high</td>\n",
              "    </tr>\n",
              "    <tr>\n",
              "      <th>3</th>\n",
              "      <td>SKI_1191</td>\n",
              "      <td>DRAM</td>\n",
              "      <td>4234</td>\n",
              "      <td>2010-04-10</td>\n",
              "      <td>16G</td>\n",
              "      <td>2010</td>\n",
              "      <td>4</td>\n",
              "      <td>low</td>\n",
              "    </tr>\n",
              "    <tr>\n",
              "      <th>4</th>\n",
              "      <td>SKI_1243</td>\n",
              "      <td>오일</td>\n",
              "      <td>2876</td>\n",
              "      <td>2010-07-10</td>\n",
              "      <td>1000CC</td>\n",
              "      <td>2010</td>\n",
              "      <td>7</td>\n",
              "      <td>low</td>\n",
              "    </tr>\n",
              "  </tbody>\n",
              "</table>\n",
              "</div>"
            ],
            "text/plain": [
              "         sn proname  price   shipdate     info  year  month level\n",
              "0  SKI_1101     핸드폰   4345 2010-10-10    성능 좋음  2010     10   low\n",
              "1  SKI_1103      TV   5123 2010-06-10        -  2010      6  high\n",
              "2  SKI_1107     자동차   6876 2010-05-10  2021년제조  2010      5  high\n",
              "3  SKI_1191    DRAM   4234 2010-04-10      16G  2010      4   low\n",
              "4  SKI_1243      오일   2876 2010-07-10   1000CC  2010      7   low"
            ]
          },
          "metadata": {
            "tags": []
          },
          "execution_count": 161
        }
      ]
    },
    {
      "cell_type": "code",
      "metadata": {
        "colab": {
          "base_uri": "https://localhost:8080/",
          "height": 204
        },
        "id": "JO2iaObjwDBb",
        "outputId": "7fb0fd39-d9e4-47ec-f8a6-1e55212e4e1d"
      },
      "source": [
        "#sn column 뒤 4자리 추출해서 sn_new 컬럼 추가\n",
        "\n",
        "pro_df['sn_new'] = pro_df['sn'].str[-4:]\n",
        "pro_df"
      ],
      "execution_count": null,
      "outputs": [
        {
          "output_type": "execute_result",
          "data": {
            "text/html": [
              "<div>\n",
              "<style scoped>\n",
              "    .dataframe tbody tr th:only-of-type {\n",
              "        vertical-align: middle;\n",
              "    }\n",
              "\n",
              "    .dataframe tbody tr th {\n",
              "        vertical-align: top;\n",
              "    }\n",
              "\n",
              "    .dataframe thead th {\n",
              "        text-align: right;\n",
              "    }\n",
              "</style>\n",
              "<table border=\"1\" class=\"dataframe\">\n",
              "  <thead>\n",
              "    <tr style=\"text-align: right;\">\n",
              "      <th></th>\n",
              "      <th>sn</th>\n",
              "      <th>proname</th>\n",
              "      <th>price</th>\n",
              "      <th>shipdate</th>\n",
              "      <th>info</th>\n",
              "      <th>year</th>\n",
              "      <th>month</th>\n",
              "      <th>level</th>\n",
              "      <th>sn_new</th>\n",
              "    </tr>\n",
              "  </thead>\n",
              "  <tbody>\n",
              "    <tr>\n",
              "      <th>0</th>\n",
              "      <td>SKI_1101</td>\n",
              "      <td>핸드폰</td>\n",
              "      <td>4345</td>\n",
              "      <td>2010-10-10</td>\n",
              "      <td>성능 좋음</td>\n",
              "      <td>2010</td>\n",
              "      <td>10</td>\n",
              "      <td>low</td>\n",
              "      <td>1101</td>\n",
              "    </tr>\n",
              "    <tr>\n",
              "      <th>1</th>\n",
              "      <td>SKI_1103</td>\n",
              "      <td>TV</td>\n",
              "      <td>5123</td>\n",
              "      <td>2010-06-10</td>\n",
              "      <td>-</td>\n",
              "      <td>2010</td>\n",
              "      <td>6</td>\n",
              "      <td>high</td>\n",
              "      <td>1103</td>\n",
              "    </tr>\n",
              "    <tr>\n",
              "      <th>2</th>\n",
              "      <td>SKI_1107</td>\n",
              "      <td>자동차</td>\n",
              "      <td>6876</td>\n",
              "      <td>2010-05-10</td>\n",
              "      <td>2021년제조</td>\n",
              "      <td>2010</td>\n",
              "      <td>5</td>\n",
              "      <td>high</td>\n",
              "      <td>1107</td>\n",
              "    </tr>\n",
              "    <tr>\n",
              "      <th>3</th>\n",
              "      <td>SKI_1191</td>\n",
              "      <td>DRAM</td>\n",
              "      <td>4234</td>\n",
              "      <td>2010-04-10</td>\n",
              "      <td>16G</td>\n",
              "      <td>2010</td>\n",
              "      <td>4</td>\n",
              "      <td>low</td>\n",
              "      <td>1191</td>\n",
              "    </tr>\n",
              "    <tr>\n",
              "      <th>4</th>\n",
              "      <td>SKI_1243</td>\n",
              "      <td>오일</td>\n",
              "      <td>2876</td>\n",
              "      <td>2010-07-10</td>\n",
              "      <td>1000CC</td>\n",
              "      <td>2010</td>\n",
              "      <td>7</td>\n",
              "      <td>low</td>\n",
              "      <td>1243</td>\n",
              "    </tr>\n",
              "  </tbody>\n",
              "</table>\n",
              "</div>"
            ],
            "text/plain": [
              "         sn proname  price   shipdate     info  year  month level sn_new\n",
              "0  SKI_1101     핸드폰   4345 2010-10-10    성능 좋음  2010     10   low   1101\n",
              "1  SKI_1103      TV   5123 2010-06-10        -  2010      6  high   1103\n",
              "2  SKI_1107     자동차   6876 2010-05-10  2021년제조  2010      5  high   1107\n",
              "3  SKI_1191    DRAM   4234 2010-04-10      16G  2010      4   low   1191\n",
              "4  SKI_1243      오일   2876 2010-07-10   1000CC  2010      7   low   1243"
            ]
          },
          "metadata": {
            "tags": []
          },
          "execution_count": 166
        }
      ]
    },
    {
      "cell_type": "code",
      "metadata": {
        "colab": {
          "base_uri": "https://localhost:8080/",
          "height": 305
        },
        "id": "Szc_cmorwC-m",
        "outputId": "bb29d7ff-946f-4788-80c2-937f63b3f03e"
      },
      "source": [
        "# 연속형 데이터를 pd.cut 이용하여 구간별 범주형 데이터로 변환\n",
        "datarange = [0,1000,2000,3000,4000,5000,6000,7000]\n",
        "label = ['1000원미만','1000원대','2000원대','3000원대','4000원대','5000원대','6000원대']\n",
        "pro_df['price_range'] = pd.cut(pro_df['price'], datarange, labels=label)\n",
        "pro_df\n",
        "\n"
      ],
      "execution_count": null,
      "outputs": [
        {
          "output_type": "execute_result",
          "data": {
            "text/html": [
              "<div>\n",
              "<style scoped>\n",
              "    .dataframe tbody tr th:only-of-type {\n",
              "        vertical-align: middle;\n",
              "    }\n",
              "\n",
              "    .dataframe tbody tr th {\n",
              "        vertical-align: top;\n",
              "    }\n",
              "\n",
              "    .dataframe thead th {\n",
              "        text-align: right;\n",
              "    }\n",
              "</style>\n",
              "<table border=\"1\" class=\"dataframe\">\n",
              "  <thead>\n",
              "    <tr style=\"text-align: right;\">\n",
              "      <th></th>\n",
              "      <th>sn</th>\n",
              "      <th>proname</th>\n",
              "      <th>price</th>\n",
              "      <th>shipdate</th>\n",
              "      <th>info</th>\n",
              "      <th>year</th>\n",
              "      <th>month</th>\n",
              "      <th>level</th>\n",
              "      <th>sn_new</th>\n",
              "      <th>price_range</th>\n",
              "    </tr>\n",
              "  </thead>\n",
              "  <tbody>\n",
              "    <tr>\n",
              "      <th>0</th>\n",
              "      <td>SKI_1101</td>\n",
              "      <td>핸드폰</td>\n",
              "      <td>4345</td>\n",
              "      <td>2010-10-10</td>\n",
              "      <td>성능 좋음</td>\n",
              "      <td>2010</td>\n",
              "      <td>10</td>\n",
              "      <td>low</td>\n",
              "      <td>1101</td>\n",
              "      <td>4000원대</td>\n",
              "    </tr>\n",
              "    <tr>\n",
              "      <th>1</th>\n",
              "      <td>SKI_1103</td>\n",
              "      <td>TV</td>\n",
              "      <td>5123</td>\n",
              "      <td>2010-06-10</td>\n",
              "      <td>-</td>\n",
              "      <td>2010</td>\n",
              "      <td>6</td>\n",
              "      <td>high</td>\n",
              "      <td>1103</td>\n",
              "      <td>5000원대</td>\n",
              "    </tr>\n",
              "    <tr>\n",
              "      <th>2</th>\n",
              "      <td>SKI_1107</td>\n",
              "      <td>자동차</td>\n",
              "      <td>6876</td>\n",
              "      <td>2010-05-10</td>\n",
              "      <td>2021년제조</td>\n",
              "      <td>2010</td>\n",
              "      <td>5</td>\n",
              "      <td>high</td>\n",
              "      <td>1107</td>\n",
              "      <td>6000원대</td>\n",
              "    </tr>\n",
              "    <tr>\n",
              "      <th>3</th>\n",
              "      <td>SKI_1191</td>\n",
              "      <td>DRAM</td>\n",
              "      <td>4234</td>\n",
              "      <td>2010-04-10</td>\n",
              "      <td>16G</td>\n",
              "      <td>2010</td>\n",
              "      <td>4</td>\n",
              "      <td>low</td>\n",
              "      <td>1191</td>\n",
              "      <td>4000원대</td>\n",
              "    </tr>\n",
              "    <tr>\n",
              "      <th>4</th>\n",
              "      <td>SKI_1243</td>\n",
              "      <td>오일</td>\n",
              "      <td>2876</td>\n",
              "      <td>2010-07-10</td>\n",
              "      <td>1000CC</td>\n",
              "      <td>2010</td>\n",
              "      <td>7</td>\n",
              "      <td>low</td>\n",
              "      <td>1243</td>\n",
              "      <td>2000원대</td>\n",
              "    </tr>\n",
              "  </tbody>\n",
              "</table>\n",
              "</div>"
            ],
            "text/plain": [
              "         sn proname  price   shipdate  ... month  level  sn_new price_range\n",
              "0  SKI_1101     핸드폰   4345 2010-10-10  ...    10    low    1101      4000원대\n",
              "1  SKI_1103      TV   5123 2010-06-10  ...     6   high    1103      5000원대\n",
              "2  SKI_1107     자동차   6876 2010-05-10  ...     5   high    1107      6000원대\n",
              "3  SKI_1191    DRAM   4234 2010-04-10  ...     4    low    1191      4000원대\n",
              "4  SKI_1243      오일   2876 2010-07-10  ...     7    low    1243      2000원대\n",
              "\n",
              "[5 rows x 10 columns]"
            ]
          },
          "metadata": {
            "tags": []
          },
          "execution_count": 171
        }
      ]
    },
    {
      "cell_type": "markdown",
      "metadata": {
        "id": "oKj1NrCDrZe0"
      },
      "source": [
        "## Data Visualization (Matplotlib, Seaborn)"
      ]
    },
    {
      "cell_type": "markdown",
      "metadata": {
        "id": "GNSLs-roxcLy"
      },
      "source": [
        "#### 한글 폰트 설치, 런타임 재시작, 시각화모듈 폰트 설정"
      ]
    },
    {
      "cell_type": "code",
      "metadata": {
        "id": "VtpiEA8uwW-E",
        "colab": {
          "base_uri": "https://localhost:8080/"
        },
        "outputId": "57ed4bab-2cbd-41b1-b15b-f1b9332ac13f"
      },
      "source": [
        "!sudo apt-get install -y fonts-nanum\n",
        "!sudo fc-cache -fv\n",
        "!rm ~/.cache/matplotlib -rf"
      ],
      "execution_count": null,
      "outputs": [
        {
          "output_type": "stream",
          "text": [
            "Reading package lists... Done\n",
            "Building dependency tree       \n",
            "Reading state information... Done\n",
            "The following NEW packages will be installed:\n",
            "  fonts-nanum\n",
            "0 upgraded, 1 newly installed, 0 to remove and 15 not upgraded.\n",
            "Need to get 9,604 kB of archives.\n",
            "After this operation, 29.5 MB of additional disk space will be used.\n",
            "Get:1 http://archive.ubuntu.com/ubuntu bionic/universe amd64 fonts-nanum all 20170925-1 [9,604 kB]\n",
            "Fetched 9,604 kB in 3s (3,049 kB/s)\n",
            "debconf: unable to initialize frontend: Dialog\n",
            "debconf: (No usable dialog-like program is installed, so the dialog based frontend cannot be used. at /usr/share/perl5/Debconf/FrontEnd/Dialog.pm line 76, <> line 1.)\n",
            "debconf: falling back to frontend: Readline\n",
            "debconf: unable to initialize frontend: Readline\n",
            "debconf: (This frontend requires a controlling tty.)\n",
            "debconf: falling back to frontend: Teletype\n",
            "dpkg-preconfigure: unable to re-open stdin: \n",
            "Selecting previously unselected package fonts-nanum.\n",
            "(Reading database ... 146456 files and directories currently installed.)\n",
            "Preparing to unpack .../fonts-nanum_20170925-1_all.deb ...\n",
            "Unpacking fonts-nanum (20170925-1) ...\n",
            "Setting up fonts-nanum (20170925-1) ...\n",
            "Processing triggers for fontconfig (2.12.6-0ubuntu2) ...\n",
            "/usr/share/fonts: caching, new cache contents: 0 fonts, 1 dirs\n",
            "/usr/share/fonts/truetype: caching, new cache contents: 0 fonts, 3 dirs\n",
            "/usr/share/fonts/truetype/humor-sans: caching, new cache contents: 1 fonts, 0 dirs\n",
            "/usr/share/fonts/truetype/liberation: caching, new cache contents: 16 fonts, 0 dirs\n",
            "/usr/share/fonts/truetype/nanum: caching, new cache contents: 10 fonts, 0 dirs\n",
            "/usr/local/share/fonts: caching, new cache contents: 0 fonts, 0 dirs\n",
            "/root/.local/share/fonts: skipping, no such directory\n",
            "/root/.fonts: skipping, no such directory\n",
            "/var/cache/fontconfig: cleaning cache directory\n",
            "/root/.cache/fontconfig: not cleaning non-existent cache directory\n",
            "/root/.fontconfig: not cleaning non-existent cache directory\n",
            "fc-cache: succeeded\n"
          ],
          "name": "stdout"
        }
      ]
    },
    {
      "cell_type": "code",
      "metadata": {
        "id": "3szKIY6Hweuj"
      },
      "source": [
        "import matplotlib.pyplot as plt\n",
        "plt.rc('font', family='NanumBarunGothic') "
      ],
      "execution_count": null,
      "outputs": []
    },
    {
      "cell_type": "code",
      "metadata": {
        "id": "MQ8y_dFc25wK"
      },
      "source": [
        "import matplotlib.pyplot as plt\n",
        "import seaborn as sns\n",
        "import numpy as np"
      ],
      "execution_count": null,
      "outputs": []
    },
    {
      "cell_type": "markdown",
      "metadata": {
        "id": "qO2keVF5z1oN"
      },
      "source": [
        "#### Graphs"
      ]
    },
    {
      "cell_type": "code",
      "metadata": {
        "colab": {
          "base_uri": "https://localhost:8080/",
          "height": 282
        },
        "id": "lTakWyxq25te",
        "outputId": "bd3e784a-7ac4-4d7d-a304-5e956bcd6094"
      },
      "source": [
        "# 직선 그래프\n",
        "plt.figure(figsize=(6,4))\n",
        "x = [1,2,3,4]\n",
        "y = [1,4,9,16]\n",
        "plt.plot(x,y)\n",
        "plt.show()"
      ],
      "execution_count": null,
      "outputs": [
        {
          "output_type": "stream",
          "text": [
            "findfont: Font family ['NanumBarunGothic'] not found. Falling back to DejaVu Sans.\n"
          ],
          "name": "stderr"
        },
        {
          "output_type": "display_data",
          "data": {
            "image/png": "[encoded data removed]",
            "text/plain": [
              "<Figure size 432x288 with 1 Axes>"
            ]
          },
          "metadata": {
            "tags": [],
            "needs_background": "light"
          }
        }
      ]
    },
    {
      "cell_type": "code",
      "metadata": {
        "colab": {
          "base_uri": "https://localhost:8080/",
          "height": 470
        },
        "id": "fWT7xy-2tPfU",
        "outputId": "cf6e7cc2-32af-4374-c2e0-e9648780038e"
      },
      "source": [
        "# 직선 그래프 2\n",
        "plt.figure(figsize=(6,4))\n",
        "t = np.arange(0,12,0.01)\n",
        "plt.plot(t, np.sin(t), label='sin')\n",
        "plt.plot(t, np.cos(t), label='cos')\n",
        "plt.legend()\n",
        "plt.xlabel('시간') \n",
        "plt.ylabel('data')\n",
        "plt.title('test Graph')\n",
        "plt.grid\n",
        "plt.show()"
      ],
      "execution_count": null,
      "outputs": [
        {
          "output_type": "stream",
          "text": [
            "findfont: Font family ['NanumBarunGothic'] not found. Falling back to DejaVu Sans.\n",
            "/usr/local/lib/python3.6/dist-packages/matplotlib/backends/backend_agg.py:214: RuntimeWarning: Glyph 49884 missing from current font.\n",
            "  font.set_text(s, 0.0, flags=flags)\n",
            "/usr/local/lib/python3.6/dist-packages/matplotlib/backends/backend_agg.py:214: RuntimeWarning: Glyph 44036 missing from current font.\n",
            "  font.set_text(s, 0.0, flags=flags)\n",
            "/usr/local/lib/python3.6/dist-packages/matplotlib/backends/backend_agg.py:183: RuntimeWarning: Glyph 49884 missing from current font.\n",
            "  font.set_text(s, 0, flags=flags)\n",
            "/usr/local/lib/python3.6/dist-packages/matplotlib/backends/backend_agg.py:183: RuntimeWarning: Glyph 44036 missing from current font.\n",
            "  font.set_text(s, 0, flags=flags)\n"
          ],
          "name": "stderr"
        },
        {
          "output_type": "display_data",
          "data": {
            "image/png": "[encoded data removed]",
            "text/plain": [
              "<Figure size 432x288 with 1 Axes>"
            ]
          },
          "metadata": {
            "tags": [],
            "needs_background": "light"
          }
        }
      ]
    },
    {
      "cell_type": "code",
      "metadata": {
        "colab": {
          "base_uri": "https://localhost:8080/",
          "height": 282
        },
        "id": "P6krO3lntPcC",
        "outputId": "9e489e0a-00dd-4ec8-8e0e-b21a72552ed9"
      },
      "source": [
        "# Scatterplot (산점도)\n",
        "plt.figure(figsize=(6,4))\n",
        "x = np.random.randint(1,10,20)\n",
        "y = np.random.randint(1,10,20)\n",
        "plt.scatter(x,y,60,'r',alpha=0.3)\n",
        "plt.show"
      ],
      "execution_count": null,
      "outputs": [
        {
          "output_type": "execute_result",
          "data": {
            "text/plain": [
              "<function matplotlib.pyplot.show>"
            ]
          },
          "metadata": {
            "tags": []
          },
          "execution_count": 151
        },
        {
          "output_type": "display_data",
          "data": {
            "image/png": "[encoded data removed]",
            "text/plain": [
              "<Figure size 432x288 with 1 Axes>"
            ]
          },
          "metadata": {
            "tags": [],
            "needs_background": "light"
          }
        }
      ]
    },
    {
      "cell_type": "code",
      "metadata": {
        "colab": {
          "base_uri": "https://localhost:8080/",
          "height": 131
        },
        "id": "zgoEpRXytPZu",
        "outputId": "ec8d1412-859f-468d-a1cb-11eb4b506788"
      },
      "source": [
        "# bar graph\n",
        "day_ser = tip_df.day.value_counts()\n",
        "day_ser\n",
        "\n",
        "plt.figure(figsize=(6,4))\n",
        "plt.bar(day_ser.index,day_ser.values)\n",
        "plt.show()\n",
        "\n",
        "  plt.barh(day_ser.index,day_ser.values)\n"
      ],
      "execution_count": null,
      "outputs": [
        {
          "output_type": "error",
          "ename": "IndentationError",
          "evalue": "ignored",
          "traceback": [
            "\u001b[0;36m  File \u001b[0;32m\"<ipython-input-152-57a82316de8b>\"\u001b[0;36m, line \u001b[0;32m9\u001b[0m\n\u001b[0;31m    plt.barh(day_ser.index,day_ser.values)\u001b[0m\n\u001b[0m    ^\u001b[0m\n\u001b[0;31mIndentationError\u001b[0m\u001b[0;31m:\u001b[0m unexpected indent\n"
          ]
        }
      ]
    },
    {
      "cell_type": "code",
      "metadata": {
        "id": "UjCPl5ACtPTv"
      },
      "source": [
        "# histogram\n",
        "plt.figure(figsize=(6,4))\n",
        "# plt.hist()\n",
        "plt.hist(tip_df['tips_pct'],bins=30)\n",
        "plt.show()"
      ],
      "execution_count": null,
      "outputs": []
    },
    {
      "cell_type": "code",
      "metadata": {
        "id": "Q9VHEtPgtPQy"
      },
      "source": [
        "#subplot\n",
        "plt.figure(1, figsize=(9,3))\n",
        "plt.subplot(131)\n",
        "plt.hist(np.random.randn(1000), bins=20, color='k', alpha=0.7)\n",
        "plt.subplot(132)\n",
        "plt.scatter(np.arange(30), np.arange(30)+3 * np.random.randn(30))\n",
        "plt.subplot(133)\n",
        "plt.plot(np.random.randn(40).cumsum(), linestyle='--', color='b', marker='^')\n",
        "plt.show()"
      ],
      "execution_count": null,
      "outputs": []
    },
    {
      "cell_type": "code",
      "metadata": {
        "colab": {
          "base_uri": "https://localhost:8080/",
          "height": 595
        },
        "id": "BY_dYafH-E_v",
        "outputId": "204041d5-c63e-4c27-e112-bcfa4454f9c0"
      },
      "source": [
        "#value_counts to \n",
        "pro_df['price_range'].value_counts()\n",
        "pro_df['price_range'].value_counts().plot(kind='bar')\n",
        "plt.show()"
      ],
      "execution_count": null,
      "outputs": [
        {
          "output_type": "stream",
          "text": [
            "/usr/local/lib/python3.6/dist-packages/matplotlib/backends/backend_agg.py:214: RuntimeWarning: Glyph 50896 missing from current font.\n",
            "  font.set_text(s, 0.0, flags=flags)\n",
            "/usr/local/lib/python3.6/dist-packages/matplotlib/backends/backend_agg.py:214: RuntimeWarning: Glyph 45824 missing from current font.\n",
            "  font.set_text(s, 0.0, flags=flags)\n",
            "/usr/local/lib/python3.6/dist-packages/matplotlib/backends/backend_agg.py:214: RuntimeWarning: Glyph 48120 missing from current font.\n",
            "  font.set_text(s, 0.0, flags=flags)\n",
            "/usr/local/lib/python3.6/dist-packages/matplotlib/backends/backend_agg.py:214: RuntimeWarning: Glyph 47564 missing from current font.\n",
            "  font.set_text(s, 0.0, flags=flags)\n",
            "/usr/local/lib/python3.6/dist-packages/matplotlib/backends/backend_agg.py:183: RuntimeWarning: Glyph 50896 missing from current font.\n",
            "  font.set_text(s, 0, flags=flags)\n",
            "/usr/local/lib/python3.6/dist-packages/matplotlib/backends/backend_agg.py:183: RuntimeWarning: Glyph 45824 missing from current font.\n",
            "  font.set_text(s, 0, flags=flags)\n",
            "/usr/local/lib/python3.6/dist-packages/matplotlib/backends/backend_agg.py:183: RuntimeWarning: Glyph 48120 missing from current font.\n",
            "  font.set_text(s, 0, flags=flags)\n",
            "/usr/local/lib/python3.6/dist-packages/matplotlib/backends/backend_agg.py:183: RuntimeWarning: Glyph 47564 missing from current font.\n",
            "  font.set_text(s, 0, flags=flags)\n"
          ],
          "name": "stderr"
        },
        {
          "output_type": "display_data",
          "data": {
            "image/png": "[encoded data removed]",
            "text/plain": [
              "<Figure size 432x288 with 1 Axes>"
            ]
          },
          "metadata": {
            "tags": [],
            "needs_background": "light"
          }
        }
      ]
    },
    {
      "cell_type": "markdown",
      "metadata": {
        "id": "pwUZRNbO8FR1"
      },
      "source": [
        "### Seaborn 연습"
      ]
    },
    {
      "cell_type": "code",
      "metadata": {
        "id": "Sq2pGcxt-VBx"
      },
      "source": [
        "### Na 값 처리\n",
        "print(tip_df.isna().sum())\n",
        "tip_df.dropna(inplace=True)\n",
        "print(tip_df.isna().sum())"
      ],
      "execution_count": null,
      "outputs": []
    },
    {
      "cell_type": "code",
      "metadata": {
        "id": "QWV6DroU25q5"
      },
      "source": [
        "#boxplot\n",
        "  # plt.boxplot(tipdf.tips_pct.)\n",
        "# plt.show()\n",
        "\n",
        "sns.boxplot(x='sex', y='tips_pct', data=tip_df, hue='smoker') #hue\n",
        "sns.swarmplot(x='sex', y='total_bill', data=tip_df, color='.25') #값 분포 다 보여줌  \n",
        "plt.show()"
      ],
      "execution_count": null,
      "outputs": []
    },
    {
      "cell_type": "code",
      "metadata": {
        "id": "8cGukVlkAsC5"
      },
      "source": [
        "#heatmap\n",
        "fill_df = sns.load_dataset('flights')\n",
        "fill_df"
      ],
      "execution_count": null,
      "outputs": []
    },
    {
      "cell_type": "code",
      "metadata": {
        "id": "G1skN7Q5Ar_6"
      },
      "source": [
        "fill_pv = fill_df.pivot_table(values='passengers', index='month', columns='year')\n",
        "fill_pv"
      ],
      "execution_count": null,
      "outputs": []
    },
    {
      "cell_type": "code",
      "metadata": {
        "id": "aJjQDAIPAr9S"
      },
      "source": [
        "sns.heatmap(fill_pv, annot=True, fmt='d')\n",
        "plt.show()"
      ],
      "execution_count": null,
      "outputs": []
    },
    {
      "cell_type": "code",
      "metadata": {
        "id": "9XZvbmZ1Ar6v"
      },
      "source": [
        ""
      ],
      "execution_count": null,
      "outputs": []
    },
    {
      "cell_type": "code",
      "metadata": {
        "id": "P31q30Z4Ar4K"
      },
      "source": [
        ""
      ],
      "execution_count": null,
      "outputs": []
    },
    {
      "cell_type": "code",
      "metadata": {
        "id": "TCXx-EooAr1a",
        "colab": {
          "base_uri": "https://localhost:8080/",
          "height": 164
        },
        "outputId": "1959fa49-0682-463e-90fe-21770422fb01"
      },
      "source": [
        "tip_df"
      ],
      "execution_count": null,
      "outputs": [
        {
          "output_type": "error",
          "ename": "NameError",
          "evalue": "ignored",
          "traceback": [
            "\u001b[0;31m---------------------------------------------------------------------------\u001b[0m",
            "\u001b[0;31mNameError\u001b[0m                                 Traceback (most recent call last)",
            "\u001b[0;32m<ipython-input-172-c7ad1f1d113a>\u001b[0m in \u001b[0;36m<module>\u001b[0;34m()\u001b[0m\n\u001b[0;32m----> 1\u001b[0;31m \u001b[0mtip_df\u001b[0m\u001b[0;34m\u001b[0m\u001b[0;34m\u001b[0m\u001b[0m\n\u001b[0m",
            "\u001b[0;31mNameError\u001b[0m: name 'tip_df' is not defined"
          ]
        }
      ]
    }
  ]
}