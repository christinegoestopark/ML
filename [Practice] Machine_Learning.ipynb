{
  "nbformat": 4,
  "nbformat_minor": 0,
  "metadata": {
    "colab": {
      "name": "Machine Learning Practice.ipynb",
      "provenance": [],
      "collapsed_sections": [
        "FTeE_KTrQrrT",
        "Jv4-aT9NaAlZ",
        "zSqY0bHKqLuM",
        "bpK97_-wO7aD",
        "OAIs7TMvcIQi",
        "rHMYBh89in4b",
        "YDJ5tyRVu8d1",
        "Qeo59-6VWJQl",
        "YDvxUYqbLe9N",
        "E5vhtz2FlZJi",
        "DjDXugDrai7m"
      ]
    },
    "kernelspec": {
      "name": "python3",
      "display_name": "Python 3"
    }
  },
  "cells": [
    {
      "cell_type": "markdown",
      "metadata": {
        "id": "a7rA403ZVCRY"
      },
      "source": [
        "### Machine Learning Sample Data 로딩"
      ]
    },
    {
      "cell_type": "code",
      "metadata": {
        "id": "rCzB8nc8VimR"
      },
      "source": [
        "# import packages\n",
        "import numpy as np\n",
        "import pandas as pd\n",
        "import matplotlib.pyplot as plt\n",
        "import seaborn as sns"
      ],
      "execution_count": null,
      "outputs": []
    },
    {
      "cell_type": "code",
      "metadata": {
        "colab": {
          "base_uri": "https://localhost:8080/"
        },
        "id": "rgGBHUBkXBdW",
        "outputId": "ca2cdad8-c795-4ab3-8f66-1adde0602f4e"
      },
      "source": [
        "!pip install mglearn"
      ],
      "execution_count": null,
      "outputs": [
        {
          "output_type": "stream",
          "text": [
            "Requirement already satisfied: mglearn in /usr/local/lib/python3.6/dist-packages (0.1.9)\n",
            "Requirement already satisfied: scikit-learn in /usr/local/lib/python3.6/dist-packages (from mglearn) (0.22.2.post1)\n",
            "Requirement already satisfied: cycler in /usr/local/lib/python3.6/dist-packages (from mglearn) (0.10.0)\n",
            "Requirement already satisfied: numpy in /usr/local/lib/python3.6/dist-packages (from mglearn) (1.19.5)\n",
            "Requirement already satisfied: imageio in /usr/local/lib/python3.6/dist-packages (from mglearn) (2.4.1)\n",
            "Requirement already satisfied: joblib in /usr/local/lib/python3.6/dist-packages (from mglearn) (1.0.0)\n",
            "Requirement already satisfied: pillow in /usr/local/lib/python3.6/dist-packages (from mglearn) (7.0.0)\n",
            "Requirement already satisfied: matplotlib in /usr/local/lib/python3.6/dist-packages (from mglearn) (3.2.2)\n",
            "Requirement already satisfied: pandas in /usr/local/lib/python3.6/dist-packages (from mglearn) (1.1.5)\n",
            "Requirement already satisfied: scipy>=0.17.0 in /usr/local/lib/python3.6/dist-packages (from scikit-learn->mglearn) (1.4.1)\n",
            "Requirement already satisfied: six in /usr/local/lib/python3.6/dist-packages (from cycler->mglearn) (1.15.0)\n",
            "Requirement already satisfied: python-dateutil>=2.1 in /usr/local/lib/python3.6/dist-packages (from matplotlib->mglearn) (2.8.1)\n",
            "Requirement already satisfied: pyparsing!=2.0.4,!=2.1.2,!=2.1.6,>=2.0.1 in /usr/local/lib/python3.6/dist-packages (from matplotlib->mglearn) (2.4.7)\n",
            "Requirement already satisfied: kiwisolver>=1.0.1 in /usr/local/lib/python3.6/dist-packages (from matplotlib->mglearn) (1.3.1)\n",
            "Requirement already satisfied: pytz>=2017.2 in /usr/local/lib/python3.6/dist-packages (from pandas->mglearn) (2018.9)\n"
          ],
          "name": "stdout"
        }
      ]
    },
    {
      "cell_type": "code",
      "metadata": {
        "id": "K-zFCftOU743"
      },
      "source": [
        "# load iris data \n",
        "from sklearn.datasets import load_iris"
      ],
      "execution_count": null,
      "outputs": []
    },
    {
      "cell_type": "code",
      "metadata": {
        "colab": {
          "base_uri": "https://localhost:8080/"
        },
        "id": "Z3_-RkmQVC6Y",
        "outputId": "21a30991-cba7-4663-ecf1-ef2b4bd2166d"
      },
      "source": [
        "iris = load_iris()\n",
        "iris.keys()  \n",
        "### data: X값\n",
        "### target: Y값\n",
        "###"
      ],
      "execution_count": null,
      "outputs": [
        {
          "output_type": "execute_result",
          "data": {
            "text/plain": [
              "dict_keys(['data', 'target', 'target_names', 'DESCR', 'feature_names', 'filename'])"
            ]
          },
          "metadata": {
            "tags": []
          },
          "execution_count": 51
        }
      ]
    },
    {
      "cell_type": "code",
      "metadata": {
        "colab": {
          "base_uri": "https://localhost:8080/"
        },
        "id": "WL96yas0VC4q",
        "outputId": "e469e1fc-1cdb-406c-c1b3-ebdbec0bf2df"
      },
      "source": [
        "print(type(iris.data))\n",
        "#  크기, 차원 조회\n",
        "print(\"크기:\", iris.data.shape) \n",
        "print(\"차원:\", iris.data.ndim)\n",
        "# 5행까지 데이터 조회\n",
        "print(iris.data[:5])"
      ],
      "execution_count": null,
      "outputs": [
        {
          "output_type": "stream",
          "text": [
            "<class 'numpy.ndarray'>\n",
            "크기: (150, 4)\n",
            "차원: 2\n",
            "[[5.1 3.5 1.4 0.2]\n",
            " [4.9 3.  1.4 0.2]\n",
            " [4.7 3.2 1.3 0.2]\n",
            " [4.6 3.1 1.5 0.2]\n",
            " [5.  3.6 1.4 0.2]]\n"
          ],
          "name": "stdout"
        }
      ]
    },
    {
      "cell_type": "code",
      "metadata": {
        "colab": {
          "base_uri": "https://localhost:8080/"
        },
        "id": "3XBai5pWVC16",
        "outputId": "b805452e-653a-44fe-80a0-5683dc17f1bd"
      },
      "source": [
        "# Target - Y값\n",
        "print(iris.target)\n",
        "print(iris.target_names)\n",
        "print(iris.feature_names)"
      ],
      "execution_count": null,
      "outputs": [
        {
          "output_type": "stream",
          "text": [
            "[0 0 0 0 0 0 0 0 0 0 0 0 0 0 0 0 0 0 0 0 0 0 0 0 0 0 0 0 0 0 0 0 0 0 0 0 0\n",
            " 0 0 0 0 0 0 0 0 0 0 0 0 0 1 1 1 1 1 1 1 1 1 1 1 1 1 1 1 1 1 1 1 1 1 1 1 1\n",
            " 1 1 1 1 1 1 1 1 1 1 1 1 1 1 1 1 1 1 1 1 1 1 1 1 1 1 2 2 2 2 2 2 2 2 2 2 2\n",
            " 2 2 2 2 2 2 2 2 2 2 2 2 2 2 2 2 2 2 2 2 2 2 2 2 2 2 2 2 2 2 2 2 2 2 2 2 2\n",
            " 2 2]\n",
            "['setosa' 'versicolor' 'virginica']\n",
            "['sepal length (cm)', 'sepal width (cm)', 'petal length (cm)', 'petal width (cm)']\n"
          ],
          "name": "stdout"
        }
      ]
    },
    {
      "cell_type": "code",
      "metadata": {
        "id": "PVW-AraWVCxg",
        "colab": {
          "base_uri": "https://localhost:8080/",
          "height": 348
        },
        "outputId": "6112502a-13e8-4b99-c942-9e3f6ae0285d"
      },
      "source": [
        "# change iris data to data-frame\n",
        "# column name: Feature Names, and Y column으로 Target Information 추가\n",
        "\n",
        "iris_df = pd.DataFrame(data=iris.data, columns = iris.feature_names)\n",
        "iris_df['Y']=iris.target\n",
        "iris_df.head(10)\n"
      ],
      "execution_count": null,
      "outputs": [
        {
          "output_type": "execute_result",
          "data": {
            "text/html": [
              "<div>\n",
              "<style scoped>\n",
              "    .dataframe tbody tr th:only-of-type {\n",
              "        vertical-align: middle;\n",
              "    }\n",
              "\n",
              "    .dataframe tbody tr th {\n",
              "        vertical-align: top;\n",
              "    }\n",
              "\n",
              "    .dataframe thead th {\n",
              "        text-align: right;\n",
              "    }\n",
              "</style>\n",
              "<table border=\"1\" class=\"dataframe\">\n",
              "  <thead>\n",
              "    <tr style=\"text-align: right;\">\n",
              "      <th></th>\n",
              "      <th>sepal length (cm)</th>\n",
              "      <th>sepal width (cm)</th>\n",
              "      <th>petal length (cm)</th>\n",
              "      <th>petal width (cm)</th>\n",
              "      <th>Y</th>\n",
              "    </tr>\n",
              "  </thead>\n",
              "  <tbody>\n",
              "    <tr>\n",
              "      <th>0</th>\n",
              "      <td>5.1</td>\n",
              "      <td>3.5</td>\n",
              "      <td>1.4</td>\n",
              "      <td>0.2</td>\n",
              "      <td>0</td>\n",
              "    </tr>\n",
              "    <tr>\n",
              "      <th>1</th>\n",
              "      <td>4.9</td>\n",
              "      <td>3.0</td>\n",
              "      <td>1.4</td>\n",
              "      <td>0.2</td>\n",
              "      <td>0</td>\n",
              "    </tr>\n",
              "    <tr>\n",
              "      <th>2</th>\n",
              "      <td>4.7</td>\n",
              "      <td>3.2</td>\n",
              "      <td>1.3</td>\n",
              "      <td>0.2</td>\n",
              "      <td>0</td>\n",
              "    </tr>\n",
              "    <tr>\n",
              "      <th>3</th>\n",
              "      <td>4.6</td>\n",
              "      <td>3.1</td>\n",
              "      <td>1.5</td>\n",
              "      <td>0.2</td>\n",
              "      <td>0</td>\n",
              "    </tr>\n",
              "    <tr>\n",
              "      <th>4</th>\n",
              "      <td>5.0</td>\n",
              "      <td>3.6</td>\n",
              "      <td>1.4</td>\n",
              "      <td>0.2</td>\n",
              "      <td>0</td>\n",
              "    </tr>\n",
              "    <tr>\n",
              "      <th>5</th>\n",
              "      <td>5.4</td>\n",
              "      <td>3.9</td>\n",
              "      <td>1.7</td>\n",
              "      <td>0.4</td>\n",
              "      <td>0</td>\n",
              "    </tr>\n",
              "    <tr>\n",
              "      <th>6</th>\n",
              "      <td>4.6</td>\n",
              "      <td>3.4</td>\n",
              "      <td>1.4</td>\n",
              "      <td>0.3</td>\n",
              "      <td>0</td>\n",
              "    </tr>\n",
              "    <tr>\n",
              "      <th>7</th>\n",
              "      <td>5.0</td>\n",
              "      <td>3.4</td>\n",
              "      <td>1.5</td>\n",
              "      <td>0.2</td>\n",
              "      <td>0</td>\n",
              "    </tr>\n",
              "    <tr>\n",
              "      <th>8</th>\n",
              "      <td>4.4</td>\n",
              "      <td>2.9</td>\n",
              "      <td>1.4</td>\n",
              "      <td>0.2</td>\n",
              "      <td>0</td>\n",
              "    </tr>\n",
              "    <tr>\n",
              "      <th>9</th>\n",
              "      <td>4.9</td>\n",
              "      <td>3.1</td>\n",
              "      <td>1.5</td>\n",
              "      <td>0.1</td>\n",
              "      <td>0</td>\n",
              "    </tr>\n",
              "  </tbody>\n",
              "</table>\n",
              "</div>"
            ],
            "text/plain": [
              "   sepal length (cm)  sepal width (cm)  petal length (cm)  petal width (cm)  Y\n",
              "0                5.1               3.5                1.4               0.2  0\n",
              "1                4.9               3.0                1.4               0.2  0\n",
              "2                4.7               3.2                1.3               0.2  0\n",
              "3                4.6               3.1                1.5               0.2  0\n",
              "4                5.0               3.6                1.4               0.2  0\n",
              "5                5.4               3.9                1.7               0.4  0\n",
              "6                4.6               3.4                1.4               0.3  0\n",
              "7                5.0               3.4                1.5               0.2  0\n",
              "8                4.4               2.9                1.4               0.2  0\n",
              "9                4.9               3.1                1.5               0.1  0"
            ]
          },
          "metadata": {
            "tags": []
          },
          "execution_count": 29
        }
      ]
    },
    {
      "cell_type": "code",
      "metadata": {
        "id": "ImnrnjYBVCvQ",
        "colab": {
          "base_uri": "https://localhost:8080/"
        },
        "outputId": "4bfc01fc-120f-41dc-ee49-45748b5d7394"
      },
      "source": [
        "# check frequency of Y\n",
        "iris_df['Y'].value_counts()"
      ],
      "execution_count": null,
      "outputs": [
        {
          "output_type": "execute_result",
          "data": {
            "text/plain": [
              "2    50\n",
              "1    50\n",
              "0    50\n",
              "Name: Y, dtype: int64"
            ]
          },
          "metadata": {
            "tags": []
          },
          "execution_count": 30
        }
      ]
    },
    {
      "cell_type": "code",
      "metadata": {
        "id": "ugylT2CAVCtJ"
      },
      "source": [
        "# data load\n",
        "from sklearn.datasets import load_iris\n",
        "iris=load_iris()\n",
        "\n",
        "# 2. 데이터 분할\n",
        "from sklearn.model_selection import train_test_split\n",
        "train_test_split?\n",
        "\n",
        "#train_test_split (X data, Y data, seed 값)\n",
        "X_train, X_test, y_train, y_test = train_test_split(iris.data, iris.target, random_state=0)\n",
        "\n",
        "#3. 모델 생성할 알고리즘 선택\n",
        "\n",
        "\n",
        "\n",
        "\n",
        "#4. 데이터 이용하여 학습\n",
        "\n",
        "#5. 만든 모델 성능 평가\n",
        "\n",
        "\n"
      ],
      "execution_count": null,
      "outputs": []
    },
    {
      "cell_type": "markdown",
      "metadata": {
        "id": "ByoLo4yWEo6i"
      },
      "source": [
        "### 지도학습"
      ]
    },
    {
      "cell_type": "markdown",
      "metadata": {
        "id": "ThYcJPPpErjf"
      },
      "source": [
        "#### KNN (분류)"
      ]
    },
    {
      "cell_type": "code",
      "metadata": {
        "colab": {
          "base_uri": "https://localhost:8080/"
        },
        "id": "Bsk8tFK6Etqa",
        "outputId": "75f71fe5-2779-46c4-9587-037fefca3575"
      },
      "source": [
        "# 데이터 로딩\n",
        "from sklearn.datasets import make_blobs\n",
        "X,y = make_blobs(centers=2, random_state=4, n_samples=30)\n",
        "X.shape"
      ],
      "execution_count": null,
      "outputs": [
        {
          "output_type": "execute_result",
          "data": {
            "text/plain": [
              "(30, 2)"
            ]
          },
          "metadata": {
            "tags": []
          },
          "execution_count": 35
        }
      ]
    },
    {
      "cell_type": "code",
      "metadata": {
        "colab": {
          "base_uri": "https://localhost:8080/",
          "height": 265
        },
        "id": "6HwvPqwBEtnq",
        "outputId": "77cc148d-45be-42d5-da47-823b771e185a"
      },
      "source": [
        "#x, y data 분포 확인\n",
        "plt.scatter(X[:,0], X[:,1], c=y)\n",
        "plt.show()"
      ],
      "execution_count": null,
      "outputs": [
        {
          "output_type": "display_data",
          "data": {
            "image/png": "[encoded data removed]",
            "text/plain": [
              "<Figure size 432x288 with 1 Axes>"
            ]
          },
          "metadata": {
            "tags": [],
            "needs_background": "light"
          }
        }
      ]
    },
    {
      "cell_type": "code",
      "metadata": {
        "id": "ug1OmCdVEtln"
      },
      "source": [
        "#2. 데이터 분할\n",
        "from sklearn.model_selection import train_test_split\n",
        "X_train, X_test, y_train, y_test = train_test_split(X, y, random_state=0)"
      ],
      "execution_count": null,
      "outputs": []
    },
    {
      "cell_type": "code",
      "metadata": {
        "colab": {
          "base_uri": "https://localhost:8080/"
        },
        "id": "ZuAt1NcZEtj3",
        "outputId": "058bca05-ccc0-43cb-84f6-1c590848df51"
      },
      "source": [
        "# X_train, X_test, y_train, y_test 크기 조회\n",
        "print(X_train.shape, X_test.shape, y_train.shape, y_test.shape)"
      ],
      "execution_count": null,
      "outputs": [
        {
          "output_type": "stream",
          "text": [
            "(22, 2) (8, 2) (22,) (8,)\n"
          ],
          "name": "stdout"
        }
      ]
    },
    {
      "cell_type": "code",
      "metadata": {
        "colab": {
          "base_uri": "https://localhost:8080/"
        },
        "id": "t1r4chrVEten",
        "outputId": "1b5c836f-94b2-43dc-9c52-a0d36278baa3"
      },
      "source": [
        "#3. 사용할 알고리즘 선택 및 모델 생성\n",
        "from sklearn.neighbors import KNeighborsClassifier\n",
        "\n",
        "# Model 생성\n",
        "knn=KNeighborsClassifier(n_neighbors=3)\n",
        "\n",
        "# 생성된 모델 이용해서 학습\n",
        "knn.fit(X_train, y_train)"
      ],
      "execution_count": null,
      "outputs": [
        {
          "output_type": "execute_result",
          "data": {
            "text/plain": [
              "KNeighborsClassifier(algorithm='auto', leaf_size=30, metric='minkowski',\n",
              "                     metric_params=None, n_jobs=None, n_neighbors=3, p=2,\n",
              "                     weights='uniform')"
            ]
          },
          "metadata": {
            "tags": []
          },
          "execution_count": 56
        }
      ]
    },
    {
      "cell_type": "code",
      "metadata": {
        "colab": {
          "base_uri": "https://localhost:8080/"
        },
        "id": "WVn1Y5YXJBFm",
        "outputId": "3c307a9f-ecf1-411e-97fb-8f026f3f91b7"
      },
      "source": [
        "#4. 평가: train_data, test_data\n",
        "print('훈련데이터 {:3f}'.format(knn.score(X_train, y_train)))\n",
        "print('테스트 데이터 {:3f}' .format(knn.score(X_test, y_test)))"
      ],
      "execution_count": null,
      "outputs": [
        {
          "output_type": "stream",
          "text": [
            "훈련데이터 0.954545\n",
            "테스트 데이터 0.875000\n"
          ],
          "name": "stdout"
        }
      ]
    },
    {
      "cell_type": "code",
      "metadata": {
        "colab": {
          "base_uri": "https://localhost:8080/"
        },
        "id": "qFr7OJYWJrMU",
        "outputId": "3de12e16-6547-4c89-ebdc-6285710f06f6"
      },
      "source": [
        "# 만든 모델 이용해 데이터 예측\n",
        "print(knn.predict(X_test))\n",
        "print(y_test)     "
      ],
      "execution_count": null,
      "outputs": [
        {
          "output_type": "stream",
          "text": [
            "[1 1 1 0 0 0 0 1]\n",
            "[1 1 1 0 0 0 1 1]\n"
          ],
          "name": "stdout"
        }
      ]
    },
    {
      "cell_type": "markdown",
      "metadata": {
        "id": "FTeE_KTrQrrT"
      },
      "source": [
        "#### KNN 실습 (암데이터이용 분류 실습)"
      ]
    },
    {
      "cell_type": "code",
      "metadata": {
        "colab": {
          "base_uri": "https://localhost:8080/"
        },
        "id": "OqBItGP3Qqvu",
        "outputId": "860c8506-55ee-4655-d2d4-7e34f7104e76"
      },
      "source": [
        "#1. load data\n",
        "from sklearn.datasets import load_breast_cancer\n",
        "cancer = load_breast_cancer()\n",
        "cancer.keys()"
      ],
      "execution_count": null,
      "outputs": [
        {
          "output_type": "execute_result",
          "data": {
            "text/plain": [
              "dict_keys(['data', 'target', 'target_names', 'DESCR', 'feature_names', 'filename'])"
            ]
          },
          "metadata": {
            "tags": []
          },
          "execution_count": 1
        }
      ]
    },
    {
      "cell_type": "code",
      "metadata": {
        "colab": {
          "base_uri": "https://localhost:8080/"
        },
        "id": "gGVrU8-xRjgQ",
        "outputId": "97b6c12a-51ea-4a37-addb-5a263057205f"
      },
      "source": [
        "print(type(cancer.data))\n",
        "# #  크기, 차원 조회\n",
        "print(\"크기:\", cancer.data.shape) \n",
        "print(\"차원:\", cancer.data.ndim)\n",
        "# # 5행까지 데이터 조회\n",
        "print(cancer.data[:5])"
      ],
      "execution_count": null,
      "outputs": [
        {
          "output_type": "stream",
          "text": [
            "<class 'numpy.ndarray'>\n",
            "크기: (569, 30)\n",
            "차원: 2\n",
            "[[1.799e+01 1.038e+01 1.228e+02 1.001e+03 1.184e-01 2.776e-01 3.001e-01\n",
            "  1.471e-01 2.419e-01 7.871e-02 1.095e+00 9.053e-01 8.589e+00 1.534e+02\n",
            "  6.399e-03 4.904e-02 5.373e-02 1.587e-02 3.003e-02 6.193e-03 2.538e+01\n",
            "  1.733e+01 1.846e+02 2.019e+03 1.622e-01 6.656e-01 7.119e-01 2.654e-01\n",
            "  4.601e-01 1.189e-01]\n",
            " [2.057e+01 1.777e+01 1.329e+02 1.326e+03 8.474e-02 7.864e-02 8.690e-02\n",
            "  7.017e-02 1.812e-01 5.667e-02 5.435e-01 7.339e-01 3.398e+00 7.408e+01\n",
            "  5.225e-03 1.308e-02 1.860e-02 1.340e-02 1.389e-02 3.532e-03 2.499e+01\n",
            "  2.341e+01 1.588e+02 1.956e+03 1.238e-01 1.866e-01 2.416e-01 1.860e-01\n",
            "  2.750e-01 8.902e-02]\n",
            " [1.969e+01 2.125e+01 1.300e+02 1.203e+03 1.096e-01 1.599e-01 1.974e-01\n",
            "  1.279e-01 2.069e-01 5.999e-02 7.456e-01 7.869e-01 4.585e+00 9.403e+01\n",
            "  6.150e-03 4.006e-02 3.832e-02 2.058e-02 2.250e-02 4.571e-03 2.357e+01\n",
            "  2.553e+01 1.525e+02 1.709e+03 1.444e-01 4.245e-01 4.504e-01 2.430e-01\n",
            "  3.613e-01 8.758e-02]\n",
            " [1.142e+01 2.038e+01 7.758e+01 3.861e+02 1.425e-01 2.839e-01 2.414e-01\n",
            "  1.052e-01 2.597e-01 9.744e-02 4.956e-01 1.156e+00 3.445e+00 2.723e+01\n",
            "  9.110e-03 7.458e-02 5.661e-02 1.867e-02 5.963e-02 9.208e-03 1.491e+01\n",
            "  2.650e+01 9.887e+01 5.677e+02 2.098e-01 8.663e-01 6.869e-01 2.575e-01\n",
            "  6.638e-01 1.730e-01]\n",
            " [2.029e+01 1.434e+01 1.351e+02 1.297e+03 1.003e-01 1.328e-01 1.980e-01\n",
            "  1.043e-01 1.809e-01 5.883e-02 7.572e-01 7.813e-01 5.438e+00 9.444e+01\n",
            "  1.149e-02 2.461e-02 5.688e-02 1.885e-02 1.756e-02 5.115e-03 2.254e+01\n",
            "  1.667e+01 1.522e+02 1.575e+03 1.374e-01 2.050e-01 4.000e-01 1.625e-01\n",
            "  2.364e-01 7.678e-02]]\n"
          ],
          "name": "stdout"
        }
      ]
    },
    {
      "cell_type": "code",
      "metadata": {
        "colab": {
          "base_uri": "https://localhost:8080/"
        },
        "id": "jmORQPPBR3WL",
        "outputId": "8bb58a48-bbe6-47de-8cfb-02d031ab8730"
      },
      "source": [
        "print(cancer.target)\n",
        "print(cancer.target_names)"
      ],
      "execution_count": null,
      "outputs": [
        {
          "output_type": "stream",
          "text": [
            "[0 0 0 0 0 0 0 0 0 0 0 0 0 0 0 0 0 0 0 1 1 1 0 0 0 0 0 0 0 0 0 0 0 0 0 0 0\n",
            " 1 0 0 0 0 0 0 0 0 1 0 1 1 1 1 1 0 0 1 0 0 1 1 1 1 0 1 0 0 1 1 1 1 0 1 0 0\n",
            " 1 0 1 0 0 1 1 1 0 0 1 0 0 0 1 1 1 0 1 1 0 0 1 1 1 0 0 1 1 1 1 0 1 1 0 1 1\n",
            " 1 1 1 1 1 1 0 0 0 1 0 0 1 1 1 0 0 1 0 1 0 0 1 0 0 1 1 0 1 1 0 1 1 1 1 0 1\n",
            " 1 1 1 1 1 1 1 1 0 1 1 1 1 0 0 1 0 1 1 0 0 1 1 0 0 1 1 1 1 0 1 1 0 0 0 1 0\n",
            " 1 0 1 1 1 0 1 1 0 0 1 0 0 0 0 1 0 0 0 1 0 1 0 1 1 0 1 0 0 0 0 1 1 0 0 1 1\n",
            " 1 0 1 1 1 1 1 0 0 1 1 0 1 1 0 0 1 0 1 1 1 1 0 1 1 1 1 1 0 1 0 0 0 0 0 0 0\n",
            " 0 0 0 0 0 0 0 1 1 1 1 1 1 0 1 0 1 1 0 1 1 0 1 0 0 1 1 1 1 1 1 1 1 1 1 1 1\n",
            " 1 0 1 1 0 1 0 1 1 1 1 1 1 1 1 1 1 1 1 1 1 0 1 1 1 0 1 0 1 1 1 1 0 0 0 1 1\n",
            " 1 1 0 1 0 1 0 1 1 1 0 1 1 1 1 1 1 1 0 0 0 1 1 1 1 1 1 1 1 1 1 1 0 0 1 0 0\n",
            " 0 1 0 0 1 1 1 1 1 0 1 1 1 1 1 0 1 1 1 0 1 1 0 0 1 1 1 1 1 1 0 1 1 1 1 1 1\n",
            " 1 0 1 1 1 1 1 0 1 1 0 1 1 1 1 1 1 1 1 1 1 1 1 0 1 0 0 1 0 1 1 1 1 1 0 1 1\n",
            " 0 1 0 1 1 0 1 0 1 1 1 1 1 1 1 1 0 0 1 1 1 1 1 1 0 1 1 1 1 1 1 1 1 1 1 0 1\n",
            " 1 1 1 1 1 1 0 1 0 1 1 0 1 1 1 1 1 0 0 1 0 1 0 1 1 1 1 1 0 1 1 0 1 0 1 0 0\n",
            " 1 1 1 0 1 1 1 1 1 1 1 1 1 1 1 0 1 0 0 1 1 1 1 1 1 1 1 1 1 1 1 1 1 1 1 1 1\n",
            " 1 1 1 1 1 1 1 0 0 0 0 0 0 1]\n",
            "['malignant' 'benign']\n"
          ],
          "name": "stdout"
        }
      ]
    },
    {
      "cell_type": "code",
      "metadata": {
        "colab": {
          "base_uri": "https://localhost:8080/"
        },
        "id": "VbBoXTOWQqtl",
        "outputId": "6ece497c-3975-45fe-c55b-2e5da30b5db9"
      },
      "source": [
        "#cancer data 이용하여 df 만들어보기\n",
        "# Y값 column names target\n",
        "cancer_df = pd.DataFrame(cancer.data, columns=cancer.feature_names)\n",
        "# info\n",
        "cancer_df.info()\n",
        "cancer_df['target']=cancer.target\n",
        "cancer_df.head(5)\n",
        "\n",
        "print(cancer_df['target'].value_counts())"
      ],
      "execution_count": null,
      "outputs": [
        {
          "output_type": "stream",
          "text": [
            "<class 'pandas.core.frame.DataFrame'>\n",
            "RangeIndex: 569 entries, 0 to 568\n",
            "Data columns (total 30 columns):\n",
            " #   Column                   Non-Null Count  Dtype  \n",
            "---  ------                   --------------  -----  \n",
            " 0   mean radius              569 non-null    float64\n",
            " 1   mean texture             569 non-null    float64\n",
            " 2   mean perimeter           569 non-null    float64\n",
            " 3   mean area                569 non-null    float64\n",
            " 4   mean smoothness          569 non-null    float64\n",
            " 5   mean compactness         569 non-null    float64\n",
            " 6   mean concavity           569 non-null    float64\n",
            " 7   mean concave points      569 non-null    float64\n",
            " 8   mean symmetry            569 non-null    float64\n",
            " 9   mean fractal dimension   569 non-null    float64\n",
            " 10  radius error             569 non-null    float64\n",
            " 11  texture error            569 non-null    float64\n",
            " 12  perimeter error          569 non-null    float64\n",
            " 13  area error               569 non-null    float64\n",
            " 14  smoothness error         569 non-null    float64\n",
            " 15  compactness error        569 non-null    float64\n",
            " 16  concavity error          569 non-null    float64\n",
            " 17  concave points error     569 non-null    float64\n",
            " 18  symmetry error           569 non-null    float64\n",
            " 19  fractal dimension error  569 non-null    float64\n",
            " 20  worst radius             569 non-null    float64\n",
            " 21  worst texture            569 non-null    float64\n",
            " 22  worst perimeter          569 non-null    float64\n",
            " 23  worst area               569 non-null    float64\n",
            " 24  worst smoothness         569 non-null    float64\n",
            " 25  worst compactness        569 non-null    float64\n",
            " 26  worst concavity          569 non-null    float64\n",
            " 27  worst concave points     569 non-null    float64\n",
            " 28  worst symmetry           569 non-null    float64\n",
            " 29  worst fractal dimension  569 non-null    float64\n",
            "dtypes: float64(30)\n",
            "memory usage: 133.5 KB\n",
            "1    357\n",
            "0    212\n",
            "Name: target, dtype: int64\n"
          ],
          "name": "stdout"
        }
      ]
    },
    {
      "cell_type": "code",
      "metadata": {
        "id": "rNrygG6Lb6QH"
      },
      "source": [
        "#2 데이터 분할\n",
        "from sklearn.model_selection import train_test_split\n",
        "\n",
        "X = cancer_df.iloc[:,:30]\n",
        "y = cancer_df.iloc[:,-1]\n",
        "#훈련, 테스트 데이터 분할 (stratify 옵션을 이용하여 계층적 데이터 추출)\n",
        "X_train, X_test, y_train, y_test = train_test_split(X, y, random_state=0, stratify=y)"
      ],
      "execution_count": null,
      "outputs": []
    },
    {
      "cell_type": "code",
      "metadata": {
        "colab": {
          "base_uri": "https://localhost:8080/"
        },
        "id": "VW_KES1FWsGr",
        "outputId": "f32e01b1-9f22-4791-e3c8-ae1cea8c43fc"
      },
      "source": [
        "print(X_train.shape, X_test.shape, y_train.shape, y_test.shape)"
      ],
      "execution_count": null,
      "outputs": [
        {
          "output_type": "stream",
          "text": [
            "(426, 30) (143, 30) (426,) (143,)\n"
          ],
          "name": "stdout"
        }
      ]
    },
    {
      "cell_type": "code",
      "metadata": {
        "colab": {
          "base_uri": "https://localhost:8080/"
        },
        "id": "OCuKwCFOQqpe",
        "outputId": "8bc3a841-3e00-4e59-c707-8800256582d7"
      },
      "source": [
        "#3. 모델 생성\n",
        "from sklearn.neighbors import KNeighborsClassifier\n",
        "\n",
        "#해당 패키지 : KNN\n",
        "#모델 생성 : K=3, K=5, K=7 비교\n",
        "knn1 = KNeighborsClassifier(n_neighbors=3).fit(X_train, y_train)\n",
        "\n",
        "# 모델 학습\n",
        "knn1.fit(X_train, y_train)"
      ],
      "execution_count": null,
      "outputs": [
        {
          "output_type": "execute_result",
          "data": {
            "text/plain": [
              "KNeighborsClassifier(algorithm='auto', leaf_size=30, metric='minkowski',\n",
              "                     metric_params=None, n_jobs=None, n_neighbors=3, p=2,\n",
              "                     weights='uniform')"
            ]
          },
          "metadata": {
            "tags": []
          },
          "execution_count": 38
        }
      ]
    },
    {
      "cell_type": "code",
      "metadata": {
        "colab": {
          "base_uri": "https://localhost:8080/"
        },
        "id": "qQzc0yIAWbsp",
        "outputId": "e30e99dd-a022-493f-9fee-483c26a11c7a"
      },
      "source": [
        "# 모델 성능 평가\n",
        "from sklearn.metrics import accuracy_score\n",
        "\n",
        "# 훈련데이터 성능 출력\n",
        "# test 데이터 성능 출력\n",
        "\n",
        "print('train : {:.3f}, test : {:.3f}'.format(knn1.score(X_train, y_train), knn1.score(X_test, y_test)))\n",
        "\n"
      ],
      "execution_count": null,
      "outputs": [
        {
          "output_type": "stream",
          "text": [
            "train : 0.958, test : 0.916\n"
          ],
          "name": "stdout"
        }
      ]
    },
    {
      "cell_type": "code",
      "metadata": {
        "id": "a3-FWp14ZwXB"
      },
      "source": [
        "#K값을 1~10 까지 변경하면서 최적의 K값을 구해보자...\n",
        "train_acc = []\n",
        "test_acc = []\n",
        "for k in range(1,11):\n",
        "    clf = KNeighborsClassifier(n_neighbors=k).fit(X_train, y_train)\n",
        "    train_acc.append(clf.score(X_train, y_train)) #train 성능\n",
        "    test_acc.append(clf.score(X_test, y_test)) # test 성능"
      ],
      "execution_count": null,
      "outputs": []
    },
    {
      "cell_type": "code",
      "metadata": {
        "colab": {
          "base_uri": "https://localhost:8080/",
          "height": 280
        },
        "id": "Gx-Bbmhnaubb",
        "outputId": "808aba7e-be13-42c3-9db9-209dff45489c"
      },
      "source": [
        "# data visualization to compare the two dataset\n",
        "n = range(1,11) # K값\n",
        "plt.plot(n, train_acc, label='train_accuracy')\n",
        "plt.plot(n, test_acc, label='test_accuracy')\n",
        "\n",
        "plt.xlabel('n_neighbors')\n",
        "plt.ylabel('Accuracy')\n",
        "plt.legend()\n",
        "plt.show()"
      ],
      "execution_count": null,
      "outputs": [
        {
          "output_type": "display_data",
          "data": {
            "image/png": "[encoded data removed]",
            "text/plain": [
              "<Figure size 432x288 with 1 Axes>"
            ]
          },
          "metadata": {
            "tags": [],
            "needs_background": "light"
          }
        }
      ]
    },
    {
      "cell_type": "markdown",
      "metadata": {
        "id": "jIaKqmAplCe9"
      },
      "source": [
        "# Linear Regression (선형회귀모델)"
      ]
    },
    {
      "cell_type": "code",
      "metadata": {
        "colab": {
          "base_uri": "https://localhost:8080/"
        },
        "id": "OE5GXNVtlYxh",
        "outputId": "027d4aca-679c-4cd4-84c5-9bd4de8b82b4"
      },
      "source": [
        "!pip install mglearn"
      ],
      "execution_count": null,
      "outputs": [
        {
          "output_type": "stream",
          "text": [
            "Requirement already satisfied: mglearn in /usr/local/lib/python3.6/dist-packages (0.1.9)\n",
            "Requirement already satisfied: joblib in /usr/local/lib/python3.6/dist-packages (from mglearn) (1.0.0)\n",
            "Requirement already satisfied: numpy in /usr/local/lib/python3.6/dist-packages (from mglearn) (1.19.5)\n",
            "Requirement already satisfied: cycler in /usr/local/lib/python3.6/dist-packages (from mglearn) (0.10.0)\n",
            "Requirement already satisfied: scikit-learn in /usr/local/lib/python3.6/dist-packages (from mglearn) (0.22.2.post1)\n",
            "Requirement already satisfied: matplotlib in /usr/local/lib/python3.6/dist-packages (from mglearn) (3.2.2)\n",
            "Requirement already satisfied: imageio in /usr/local/lib/python3.6/dist-packages (from mglearn) (2.4.1)\n",
            "Requirement already satisfied: pandas in /usr/local/lib/python3.6/dist-packages (from mglearn) (1.1.5)\n",
            "Requirement already satisfied: pillow in /usr/local/lib/python3.6/dist-packages (from mglearn) (7.0.0)\n",
            "Requirement already satisfied: six in /usr/local/lib/python3.6/dist-packages (from cycler->mglearn) (1.15.0)\n",
            "Requirement already satisfied: scipy>=0.17.0 in /usr/local/lib/python3.6/dist-packages (from scikit-learn->mglearn) (1.4.1)\n",
            "Requirement already satisfied: kiwisolver>=1.0.1 in /usr/local/lib/python3.6/dist-packages (from matplotlib->mglearn) (1.3.1)\n",
            "Requirement already satisfied: python-dateutil>=2.1 in /usr/local/lib/python3.6/dist-packages (from matplotlib->mglearn) (2.8.1)\n",
            "Requirement already satisfied: pyparsing!=2.0.4,!=2.1.2,!=2.1.6,>=2.0.1 in /usr/local/lib/python3.6/dist-packages (from matplotlib->mglearn) (2.4.7)\n",
            "Requirement already satisfied: pytz>=2017.2 in /usr/local/lib/python3.6/dist-packages (from pandas->mglearn) (2018.9)\n"
          ],
          "name": "stdout"
        }
      ]
    },
    {
      "cell_type": "code",
      "metadata": {
        "id": "JVjDvYo9lCwH"
      },
      "source": [
        "# import sample data \n",
        "import mglearn\n",
        "import numpy as np\n",
        "import pandas as pd\n",
        "import matplotlib.pyplot as plt "
      ],
      "execution_count": null,
      "outputs": []
    },
    {
      "cell_type": "code",
      "metadata": {
        "colab": {
          "base_uri": "https://localhost:8080/",
          "height": 265
        },
        "id": "LBqZCN6YlDZA",
        "outputId": "e3507ebf-16e4-4300-8582-aa6663ec8044"
      },
      "source": [
        "X, y = mglearn.datasets.make_wave(n_samples=60)\n",
        "plt.scatter(X, y) #plot a scatterplot\n",
        "plt.show()"
      ],
      "execution_count": null,
      "outputs": [
        {
          "output_type": "display_data",
          "data": {
            "image/png": "[encoded data removed]",
            "text/plain": [
              "<Figure size 432x288 with 1 Axes>"
            ]
          },
          "metadata": {
            "tags": [],
            "needs_background": "light"
          }
        }
      ]
    },
    {
      "cell_type": "code",
      "metadata": {
        "id": "AsTba4JklDT6"
      },
      "source": [
        "# Data 분할\n",
        "X_train, X_test, y_train, y_test = train_test_split(X, y, random_state=0)"
      ],
      "execution_count": null,
      "outputs": []
    },
    {
      "cell_type": "code",
      "metadata": {
        "id": "2TM0guzGlDLN"
      },
      "source": [
        "#모델 생성, 학습\n",
        "from sklearn.linear_model import LinearRegression\n",
        "\n",
        "lr = LinearRegression().fit(X_train, y_train)"
      ],
      "execution_count": null,
      "outputs": []
    },
    {
      "cell_type": "code",
      "metadata": {
        "colab": {
          "base_uri": "https://localhost:8080/"
        },
        "id": "l0WnYRsimle6",
        "outputId": "5d001dd8-4117-413c-af8a-1da372140a73"
      },
      "source": [
        "#기울기 ,절편 값 가져오기\n",
        "print('기울기 {}, 절편 {}' .format(lr.coef_, lr.intercept_))"
      ],
      "execution_count": null,
      "outputs": [
        {
          "output_type": "stream",
          "text": [
            "기울기 [0.44153666], 절편 -0.01711124414733381\n"
          ],
          "name": "stdout"
        }
      ]
    },
    {
      "cell_type": "code",
      "metadata": {
        "colab": {
          "base_uri": "https://localhost:8080/"
        },
        "id": "8NShC0UOmlZV",
        "outputId": "e7a63987-c425-42a7-c4b8-7f044a1ab7c2"
      },
      "source": [
        "#성능 평가\n",
        "print('train: {:.3f}, test: {:.3f}' .format(lr.score(X_train, y_train), lr.score(X_test, y_test)))"
      ],
      "execution_count": null,
      "outputs": [
        {
          "output_type": "stream",
          "text": [
            "train: 0.659, test: 0.693\n"
          ],
          "name": "stdout"
        }
      ]
    },
    {
      "cell_type": "code",
      "metadata": {
        "colab": {
          "base_uri": "https://localhost:8080/",
          "height": 265
        },
        "id": "0ymXZ8lMmlXg",
        "outputId": "6d23f663-da5b-409d-c736-72b561b85d02"
      },
      "source": [
        "#visualize \n",
        "plt.plot(X, y, 'o')\n",
        "plt.plot(X, lr.predict(X)) #y=0.44x - 0.017\n",
        "plt.show()"
      ],
      "execution_count": null,
      "outputs": [
        {
          "output_type": "display_data",
          "data": {
            "image/png": "[encoded data removed]",
            "text/plain": [
              "<Figure size 432x288 with 1 Axes>"
            ]
          },
          "metadata": {
            "tags": [],
            "needs_background": "light"
          }
        }
      ]
    },
    {
      "cell_type": "markdown",
      "metadata": {
        "id": "Jv4-aT9NaAlZ"
      },
      "source": [
        "### Boston 주택 가격 예측"
      ]
    },
    {
      "cell_type": "code",
      "metadata": {
        "id": "8SGE8RcimlU8"
      },
      "source": [
        "#data load\n",
        "from sklearn.datasets import load_boston\n",
        "boston = load_boston()"
      ],
      "execution_count": null,
      "outputs": []
    },
    {
      "cell_type": "code",
      "metadata": {
        "colab": {
          "base_uri": "https://localhost:8080/"
        },
        "id": "1ezyQe39mlSh",
        "outputId": "a2d9db7f-c504-4ea8-fcba-e675f8f2eccd"
      },
      "source": [
        "boston.keys\n",
        "print(boston.data.shape)\n",
        "print(boston.feature_names)\n",
        "X = boston.data\n",
        "y = boston.target"
      ],
      "execution_count": null,
      "outputs": [
        {
          "output_type": "stream",
          "text": [
            "(506, 13)\n",
            "['CRIM' 'ZN' 'INDUS' 'CHAS' 'NOX' 'RM' 'AGE' 'DIS' 'RAD' 'TAX' 'PTRATIO'\n",
            " 'B' 'LSTAT']\n"
          ],
          "name": "stdout"
        }
      ]
    },
    {
      "cell_type": "code",
      "metadata": {
        "id": "btO9eP12bTYv"
      },
      "source": [
        "# data 분할\n",
        "from sklearn.model_selection import train_test_split\n",
        "X_train, X_test, y_train, y_test =train_test_split (X,y,random_state=0)"
      ],
      "execution_count": null,
      "outputs": []
    },
    {
      "cell_type": "code",
      "metadata": {
        "id": "czHAmezEbTWh"
      },
      "source": [
        "# 모델 생성, 학습\n",
        "from sklearn.linear_model import LinearRegression\n",
        "lr = LinearRegression().fit(X_train, y_train)"
      ],
      "execution_count": null,
      "outputs": []
    },
    {
      "cell_type": "code",
      "metadata": {
        "colab": {
          "base_uri": "https://localhost:8080/"
        },
        "id": "SYfnUFWcbTUS",
        "outputId": "d8318200-e907-4bef-cc37-48eb6f649fb4"
      },
      "source": [
        "# 성능평가: train, test 출력\n",
        "print('train {:.3f}, test {:.3f}' .format(lr.score(X_train, y_train), lr.score(X_test, y_test)))"
      ],
      "execution_count": null,
      "outputs": [
        {
          "output_type": "stream",
          "text": [
            "train 0.770, test 0.635\n"
          ],
          "name": "stdout"
        }
      ]
    },
    {
      "cell_type": "code",
      "metadata": {
        "colab": {
          "base_uri": "https://localhost:8080/"
        },
        "id": "iUjK6uU1bTSe",
        "outputId": "c0093746-d6cb-4d9d-f59f-4b92cecdf9aa"
      },
      "source": [
        "# 회귀계수 출력하기\n",
        "print(lr.coef_)"
      ],
      "execution_count": null,
      "outputs": [
        {
          "output_type": "stream",
          "text": [
            "[-1.17735289e-01  4.40174969e-02 -5.76814314e-03  2.39341594e+00\n",
            " -1.55894211e+01  3.76896770e+00 -7.03517828e-03 -1.43495641e+00\n",
            "  2.40081086e-01 -1.12972810e-02 -9.85546732e-01  8.44443453e-03\n",
            " -4.99116797e-01]\n"
          ],
          "name": "stdout"
        }
      ]
    },
    {
      "cell_type": "code",
      "metadata": {
        "colab": {
          "base_uri": "https://localhost:8080/",
          "height": 403
        },
        "id": "1yKvcwQsbTQS",
        "outputId": "d020005d-4dd3-4945-a21c-967450861f32"
      },
      "source": [
        "#표준화, 정규화 적용 그래프\n",
        "import mglearn\n",
        "mglearn.plots.plot_scaling()"
      ],
      "execution_count": null,
      "outputs": [
        {
          "output_type": "display_data",
          "data": {
            "image/png": "[encoded data removed]",
            "text/plain": [
              "<Figure size 1080x576 with 5 Axes>"
            ]
          },
          "metadata": {
            "tags": [],
            "needs_background": "light"
          }
        }
      ]
    },
    {
      "cell_type": "code",
      "metadata": {
        "colab": {
          "base_uri": "https://localhost:8080/",
          "height": 138
        },
        "id": "PoTeTiELkvEb",
        "outputId": "c0824f51-0952-424e-ff8e-666bcef32b2e"
      },
      "source": [
        "from sklearn.datasets import load_iris\n",
        "iris=load_iris()\n",
        "iris_df=pd.DataFrame(iris.data, columns=iris.feature_names)\n",
        "iris_df.head(3)"
      ],
      "execution_count": null,
      "outputs": [
        {
          "output_type": "execute_result",
          "data": {
            "text/html": [
              "<div>\n",
              "<style scoped>\n",
              "    .dataframe tbody tr th:only-of-type {\n",
              "        vertical-align: middle;\n",
              "    }\n",
              "\n",
              "    .dataframe tbody tr th {\n",
              "        vertical-align: top;\n",
              "    }\n",
              "\n",
              "    .dataframe thead th {\n",
              "        text-align: right;\n",
              "    }\n",
              "</style>\n",
              "<table border=\"1\" class=\"dataframe\">\n",
              "  <thead>\n",
              "    <tr style=\"text-align: right;\">\n",
              "      <th></th>\n",
              "      <th>sepal length (cm)</th>\n",
              "      <th>sepal width (cm)</th>\n",
              "      <th>petal length (cm)</th>\n",
              "      <th>petal width (cm)</th>\n",
              "    </tr>\n",
              "  </thead>\n",
              "  <tbody>\n",
              "    <tr>\n",
              "      <th>0</th>\n",
              "      <td>5.1</td>\n",
              "      <td>3.5</td>\n",
              "      <td>1.4</td>\n",
              "      <td>0.2</td>\n",
              "    </tr>\n",
              "    <tr>\n",
              "      <th>1</th>\n",
              "      <td>4.9</td>\n",
              "      <td>3.0</td>\n",
              "      <td>1.4</td>\n",
              "      <td>0.2</td>\n",
              "    </tr>\n",
              "    <tr>\n",
              "      <th>2</th>\n",
              "      <td>4.7</td>\n",
              "      <td>3.2</td>\n",
              "      <td>1.3</td>\n",
              "      <td>0.2</td>\n",
              "    </tr>\n",
              "  </tbody>\n",
              "</table>\n",
              "</div>"
            ],
            "text/plain": [
              "   sepal length (cm)  sepal width (cm)  petal length (cm)  petal width (cm)\n",
              "0                5.1               3.5                1.4               0.2\n",
              "1                4.9               3.0                1.4               0.2\n",
              "2                4.7               3.2                1.3               0.2"
            ]
          },
          "metadata": {
            "tags": []
          },
          "execution_count": 52
        }
      ]
    },
    {
      "cell_type": "code",
      "metadata": {
        "colab": {
          "base_uri": "https://localhost:8080/"
        },
        "id": "_TlTqTfHkvAY",
        "outputId": "d83d2f16-a924-4396-fc33-2b559d8fceb1"
      },
      "source": [
        "#df 평균과 분산\u001f조회\n",
        "print('평균')\n",
        "print(iris_df.mean())\n",
        "print('분산')\n",
        "print(iris_df.var())"
      ],
      "execution_count": null,
      "outputs": [
        {
          "output_type": "stream",
          "text": [
            "평균\n",
            "sepal length (cm)    5.843333\n",
            "sepal width (cm)     3.057333\n",
            "petal length (cm)    3.758000\n",
            "petal width (cm)     1.199333\n",
            "dtype: float64\n",
            "분산\n",
            "sepal length (cm)    0.685694\n",
            "sepal width (cm)     0.189979\n",
            "petal length (cm)    3.116278\n",
            "petal width (cm)     0.581006\n",
            "dtype: float64\n"
          ],
          "name": "stdout"
        }
      ]
    },
    {
      "cell_type": "code",
      "metadata": {
        "colab": {
          "base_uri": "https://localhost:8080/",
          "height": 168
        },
        "id": "kSIlE1f5ku-T",
        "outputId": "c3ed0f39-b3ac-43ab-e5ea-0a2dc9f0380b"
      },
      "source": [
        "#표준화 적용\n",
        "from sklearn.preprocessing import StandardScaler\n",
        "#scaler 생성\n",
        "scaler = StandardScaler()\n",
        "#scaler 이용해서 값을 변환\n",
        "iris_scaled=scaler.fit_transform(iris_df)\n",
        "iris_scaled_df=pd.DataFrame(iris_scaled, columns=iris.feature_names)\n",
        "iris_scaled_df.head(4)"
      ],
      "execution_count": null,
      "outputs": [
        {
          "output_type": "execute_result",
          "data": {
            "text/html": [
              "<div>\n",
              "<style scoped>\n",
              "    .dataframe tbody tr th:only-of-type {\n",
              "        vertical-align: middle;\n",
              "    }\n",
              "\n",
              "    .dataframe tbody tr th {\n",
              "        vertical-align: top;\n",
              "    }\n",
              "\n",
              "    .dataframe thead th {\n",
              "        text-align: right;\n",
              "    }\n",
              "</style>\n",
              "<table border=\"1\" class=\"dataframe\">\n",
              "  <thead>\n",
              "    <tr style=\"text-align: right;\">\n",
              "      <th></th>\n",
              "      <th>sepal length (cm)</th>\n",
              "      <th>sepal width (cm)</th>\n",
              "      <th>petal length (cm)</th>\n",
              "      <th>petal width (cm)</th>\n",
              "    </tr>\n",
              "  </thead>\n",
              "  <tbody>\n",
              "    <tr>\n",
              "      <th>0</th>\n",
              "      <td>-0.900681</td>\n",
              "      <td>1.019004</td>\n",
              "      <td>-1.340227</td>\n",
              "      <td>-1.315444</td>\n",
              "    </tr>\n",
              "    <tr>\n",
              "      <th>1</th>\n",
              "      <td>-1.143017</td>\n",
              "      <td>-0.131979</td>\n",
              "      <td>-1.340227</td>\n",
              "      <td>-1.315444</td>\n",
              "    </tr>\n",
              "    <tr>\n",
              "      <th>2</th>\n",
              "      <td>-1.385353</td>\n",
              "      <td>0.328414</td>\n",
              "      <td>-1.397064</td>\n",
              "      <td>-1.315444</td>\n",
              "    </tr>\n",
              "    <tr>\n",
              "      <th>3</th>\n",
              "      <td>-1.506521</td>\n",
              "      <td>0.098217</td>\n",
              "      <td>-1.283389</td>\n",
              "      <td>-1.315444</td>\n",
              "    </tr>\n",
              "  </tbody>\n",
              "</table>\n",
              "</div>"
            ],
            "text/plain": [
              "   sepal length (cm)  sepal width (cm)  petal length (cm)  petal width (cm)\n",
              "0          -0.900681          1.019004          -1.340227         -1.315444\n",
              "1          -1.143017         -0.131979          -1.340227         -1.315444\n",
              "2          -1.385353          0.328414          -1.397064         -1.315444\n",
              "3          -1.506521          0.098217          -1.283389         -1.315444"
            ]
          },
          "metadata": {
            "tags": []
          },
          "execution_count": 54
        }
      ]
    },
    {
      "cell_type": "code",
      "metadata": {
        "colab": {
          "base_uri": "https://localhost:8080/"
        },
        "id": "rcXSU9Ecku7o",
        "outputId": "23a1abbf-9f22-485e-a946-98a11d2521a5"
      },
      "source": [
        "#표준하된 iris_scaled 평균과 분산\u001f조회\n",
        "print('평균')\n",
        "print(iris_scaled_df.mean())\n",
        "print('분산')\n",
        "print(iris_scaled_df.var())"
      ],
      "execution_count": null,
      "outputs": [
        {
          "output_type": "stream",
          "text": [
            "평균\n",
            "sepal length (cm)   -1.690315e-15\n",
            "sepal width (cm)    -1.842970e-15\n",
            "petal length (cm)   -1.698641e-15\n",
            "petal width (cm)    -1.409243e-15\n",
            "dtype: float64\n",
            "분산\n",
            "sepal length (cm)    1.006711\n",
            "sepal width (cm)     1.006711\n",
            "petal length (cm)    1.006711\n",
            "petal width (cm)     1.006711\n",
            "dtype: float64\n"
          ],
          "name": "stdout"
        }
      ]
    },
    {
      "cell_type": "code",
      "metadata": {
        "id": "YaWNXGVWku45",
        "colab": {
          "base_uri": "https://localhost:8080/",
          "height": 168
        },
        "outputId": "b7870f28-d200-4e6c-fd0e-5374baf1ae52"
      },
      "source": [
        "#정규화 적용\n",
        "from sklearn.preprocessing import MinMaxScaler\n",
        "#scaler 생성\n",
        "scaler1 = MinMaxScaler()\n",
        "#scaler 이용해서 값을 변환\n",
        "iris_scaled_2=scaler1.fit_transform(iris_df)\n",
        "iris_scaled_2_df=pd.DataFrame(iris_scaled, columns=iris.feature_names)\n",
        "iris_scaled_2_df.head(4)"
      ],
      "execution_count": null,
      "outputs": [
        {
          "output_type": "execute_result",
          "data": {
            "text/html": [
              "<div>\n",
              "<style scoped>\n",
              "    .dataframe tbody tr th:only-of-type {\n",
              "        vertical-align: middle;\n",
              "    }\n",
              "\n",
              "    .dataframe tbody tr th {\n",
              "        vertical-align: top;\n",
              "    }\n",
              "\n",
              "    .dataframe thead th {\n",
              "        text-align: right;\n",
              "    }\n",
              "</style>\n",
              "<table border=\"1\" class=\"dataframe\">\n",
              "  <thead>\n",
              "    <tr style=\"text-align: right;\">\n",
              "      <th></th>\n",
              "      <th>sepal length (cm)</th>\n",
              "      <th>sepal width (cm)</th>\n",
              "      <th>petal length (cm)</th>\n",
              "      <th>petal width (cm)</th>\n",
              "    </tr>\n",
              "  </thead>\n",
              "  <tbody>\n",
              "    <tr>\n",
              "      <th>0</th>\n",
              "      <td>-0.900681</td>\n",
              "      <td>1.019004</td>\n",
              "      <td>-1.340227</td>\n",
              "      <td>-1.315444</td>\n",
              "    </tr>\n",
              "    <tr>\n",
              "      <th>1</th>\n",
              "      <td>-1.143017</td>\n",
              "      <td>-0.131979</td>\n",
              "      <td>-1.340227</td>\n",
              "      <td>-1.315444</td>\n",
              "    </tr>\n",
              "    <tr>\n",
              "      <th>2</th>\n",
              "      <td>-1.385353</td>\n",
              "      <td>0.328414</td>\n",
              "      <td>-1.397064</td>\n",
              "      <td>-1.315444</td>\n",
              "    </tr>\n",
              "    <tr>\n",
              "      <th>3</th>\n",
              "      <td>-1.506521</td>\n",
              "      <td>0.098217</td>\n",
              "      <td>-1.283389</td>\n",
              "      <td>-1.315444</td>\n",
              "    </tr>\n",
              "  </tbody>\n",
              "</table>\n",
              "</div>"
            ],
            "text/plain": [
              "   sepal length (cm)  sepal width (cm)  petal length (cm)  petal width (cm)\n",
              "0          -0.900681          1.019004          -1.340227         -1.315444\n",
              "1          -1.143017         -0.131979          -1.340227         -1.315444\n",
              "2          -1.385353          0.328414          -1.397064         -1.315444\n",
              "3          -1.506521          0.098217          -1.283389         -1.315444"
            ]
          },
          "metadata": {
            "tags": []
          },
          "execution_count": 56
        }
      ]
    },
    {
      "cell_type": "code",
      "metadata": {
        "colab": {
          "base_uri": "https://localhost:8080/"
        },
        "id": "x-RVN5a1mkkl",
        "outputId": "24856f98-01fc-48b6-e919-8e6176b8d91e"
      },
      "source": [
        "#iris 최대 최소 값\n",
        "print('최대')\n",
        "print(iris_df.max())\n",
        "print('최소')\n",
        "print(iris_df.min())"
      ],
      "execution_count": null,
      "outputs": [
        {
          "output_type": "stream",
          "text": [
            "최대\n",
            "sepal length (cm)    7.9\n",
            "sepal width (cm)     4.4\n",
            "petal length (cm)    6.9\n",
            "petal width (cm)     2.5\n",
            "dtype: float64\n",
            "최소\n",
            "sepal length (cm)    4.3\n",
            "sepal width (cm)     2.0\n",
            "petal length (cm)    1.0\n",
            "petal width (cm)     0.1\n",
            "dtype: float64\n"
          ],
          "name": "stdout"
        }
      ]
    },
    {
      "cell_type": "code",
      "metadata": {
        "colab": {
          "base_uri": "https://localhost:8080/"
        },
        "id": "AsoVlpQcpK5o",
        "outputId": "9d7f3614-f970-4c5f-c18b-39f4f7e4850b"
      },
      "source": [
        "#iris_df_2 최대 최소 값\n",
        "print('최대')\n",
        "print(iris_scaled_2_df.max())\n",
        "print('최소')\n",
        "print(iris_scaled_2_df.min())"
      ],
      "execution_count": null,
      "outputs": [
        {
          "output_type": "stream",
          "text": [
            "최대\n",
            "sepal length (cm)    2.492019\n",
            "sepal width (cm)     3.090775\n",
            "petal length (cm)    1.785832\n",
            "petal width (cm)     1.712096\n",
            "dtype: float64\n",
            "최소\n",
            "sepal length (cm)   -1.870024\n",
            "sepal width (cm)    -2.433947\n",
            "petal length (cm)   -1.567576\n",
            "petal width (cm)    -1.447076\n",
            "dtype: float64\n"
          ],
          "name": "stdout"
        }
      ]
    },
    {
      "cell_type": "markdown",
      "metadata": {
        "id": "zSqY0bHKqLuM"
      },
      "source": [
        "#### 성능향상 위해 표준화, 정규화 적용"
      ]
    },
    {
      "cell_type": "code",
      "metadata": {
        "id": "xgG5Phd7pK3t"
      },
      "source": [
        "from sklearn.preprocessing import MinMaxScaler\n",
        "boston = load_boston()\n",
        "minSc=MinMaxScaler()\n",
        "X_scaled=minSc.fit_transform(boston.data)"
      ],
      "execution_count": null,
      "outputs": []
    },
    {
      "cell_type": "code",
      "metadata": {
        "id": "ZQhHa2wKpK1b"
      },
      "source": [
        "#정규화 적용된 데이터 이용하여 데이터 split\n",
        "X_train, X_test, y_train, y_test=train_test_split(X_scaled, boston.target, random_state=0)"
      ],
      "execution_count": null,
      "outputs": []
    },
    {
      "cell_type": "code",
      "metadata": {
        "id": "_g7JNv5BpKy3",
        "colab": {
          "base_uri": "https://localhost:8080/"
        },
        "outputId": "9fb8f30c-ca79-4657-93ea-a0fddb76e6b0"
      },
      "source": [
        "#모델 생성, 학습\n",
        "from sklearn.linear_model import LinearRegression\n",
        "lr_boston = LinearRegression().fit(X_train, y_train)\n",
        "\n",
        "# 성능 평가\n",
        "print('train {:.3f}, test {:.3f}' .format(lr_boston.score(X_train, y_train), lr_boston.score(X_test, y_test)))\n",
        "\n",
        "#성능 향상 없음!"
      ],
      "execution_count": null,
      "outputs": [
        {
          "output_type": "stream",
          "text": [
            "train 0.770, test 0.635\n"
          ],
          "name": "stdout"
        }
      ]
    },
    {
      "cell_type": "markdown",
      "metadata": {
        "id": "bpK97_-wO7aD"
      },
      "source": [
        "### Polynomial Features (다항회귀 분석) 성능 향상"
      ]
    },
    {
      "cell_type": "code",
      "metadata": {
        "colab": {
          "base_uri": "https://localhost:8080/"
        },
        "id": "LiT9NYngO_yD",
        "outputId": "727559d2-6d08-416b-c821-60aef0c1dd09"
      },
      "source": [
        "from sklearn.preprocessing import PolynomialFeatures\n",
        "x = np.arange(4).reshape(2,2)\n",
        "polyF = PolynomialFeatures(degree=2)\n",
        "x_poly = polyF.fit_transform(x)\n",
        "print(x_poly)"
      ],
      "execution_count": null,
      "outputs": [
        {
          "output_type": "stream",
          "text": [
            "[[ 1.  0.  1.  0.  0.  1.  0.  0.  0.  1.]\n",
            " [ 1.  2.  3.  4.  6.  9.  8. 12. 18. 27.]]\n"
          ],
          "name": "stdout"
        }
      ]
    },
    {
      "cell_type": "code",
      "metadata": {
        "colab": {
          "base_uri": "https://localhost:8080/"
        },
        "id": "JeWKVDj9O_wM",
        "outputId": "b1993ef2-3baf-4429-a3ab-0ec56e614f97"
      },
      "source": [
        "#보스턴주택가격의 피처에 다항회귀를 적용\n",
        "boston = load_boston()\n",
        "print(boston.data.shape)\n",
        "polyF2 = PolynomialFeatures(degree=2)\n",
        "X_poly = polyF2.fit_transform(boston.data)\n",
        "print(X_poly.shape)"
      ],
      "execution_count": null,
      "outputs": [
        {
          "output_type": "stream",
          "text": [
            "(506, 13)\n",
            "(506, 105)\n"
          ],
          "name": "stdout"
        }
      ]
    },
    {
      "cell_type": "code",
      "metadata": {
        "colab": {
          "base_uri": "https://localhost:8080/"
        },
        "id": "5TV2ETgMO_uX",
        "outputId": "eb43b912-c3c3-4b35-84a6-56e130c8a38b"
      },
      "source": [
        "polyF2.get_feature_names()"
      ],
      "execution_count": null,
      "outputs": [
        {
          "output_type": "execute_result",
          "data": {
            "text/plain": [
              "['1',\n",
              " 'x0',\n",
              " 'x1',\n",
              " 'x2',\n",
              " 'x3',\n",
              " 'x4',\n",
              " 'x5',\n",
              " 'x6',\n",
              " 'x7',\n",
              " 'x8',\n",
              " 'x9',\n",
              " 'x10',\n",
              " 'x11',\n",
              " 'x12',\n",
              " 'x0^2',\n",
              " 'x0 x1',\n",
              " 'x0 x2',\n",
              " 'x0 x3',\n",
              " 'x0 x4',\n",
              " 'x0 x5',\n",
              " 'x0 x6',\n",
              " 'x0 x7',\n",
              " 'x0 x8',\n",
              " 'x0 x9',\n",
              " 'x0 x10',\n",
              " 'x0 x11',\n",
              " 'x0 x12',\n",
              " 'x1^2',\n",
              " 'x1 x2',\n",
              " 'x1 x3',\n",
              " 'x1 x4',\n",
              " 'x1 x5',\n",
              " 'x1 x6',\n",
              " 'x1 x7',\n",
              " 'x1 x8',\n",
              " 'x1 x9',\n",
              " 'x1 x10',\n",
              " 'x1 x11',\n",
              " 'x1 x12',\n",
              " 'x2^2',\n",
              " 'x2 x3',\n",
              " 'x2 x4',\n",
              " 'x2 x5',\n",
              " 'x2 x6',\n",
              " 'x2 x7',\n",
              " 'x2 x8',\n",
              " 'x2 x9',\n",
              " 'x2 x10',\n",
              " 'x2 x11',\n",
              " 'x2 x12',\n",
              " 'x3^2',\n",
              " 'x3 x4',\n",
              " 'x3 x5',\n",
              " 'x3 x6',\n",
              " 'x3 x7',\n",
              " 'x3 x8',\n",
              " 'x3 x9',\n",
              " 'x3 x10',\n",
              " 'x3 x11',\n",
              " 'x3 x12',\n",
              " 'x4^2',\n",
              " 'x4 x5',\n",
              " 'x4 x6',\n",
              " 'x4 x7',\n",
              " 'x4 x8',\n",
              " 'x4 x9',\n",
              " 'x4 x10',\n",
              " 'x4 x11',\n",
              " 'x4 x12',\n",
              " 'x5^2',\n",
              " 'x5 x6',\n",
              " 'x5 x7',\n",
              " 'x5 x8',\n",
              " 'x5 x9',\n",
              " 'x5 x10',\n",
              " 'x5 x11',\n",
              " 'x5 x12',\n",
              " 'x6^2',\n",
              " 'x6 x7',\n",
              " 'x6 x8',\n",
              " 'x6 x9',\n",
              " 'x6 x10',\n",
              " 'x6 x11',\n",
              " 'x6 x12',\n",
              " 'x7^2',\n",
              " 'x7 x8',\n",
              " 'x7 x9',\n",
              " 'x7 x10',\n",
              " 'x7 x11',\n",
              " 'x7 x12',\n",
              " 'x8^2',\n",
              " 'x8 x9',\n",
              " 'x8 x10',\n",
              " 'x8 x11',\n",
              " 'x8 x12',\n",
              " 'x9^2',\n",
              " 'x9 x10',\n",
              " 'x9 x11',\n",
              " 'x9 x12',\n",
              " 'x10^2',\n",
              " 'x10 x11',\n",
              " 'x10 x12',\n",
              " 'x11^2',\n",
              " 'x11 x12',\n",
              " 'x12^2']"
            ]
          },
          "metadata": {
            "tags": []
          },
          "execution_count": 122
        }
      ]
    },
    {
      "cell_type": "code",
      "metadata": {
        "id": "xycNMH4YO_sR"
      },
      "source": [
        "#함수 정의 : 정규화 적용, 다항회귀를 적용한 데이터를 리턴\n",
        "def load_extended_boston():\n",
        "    boston = load_boston()\n",
        "    #정규화 적용\n",
        "    X = MinMaxScaler().fit_transform(boston.data)\n",
        "    #다항회귀 적용\n",
        "    X_poly = PolynomialFeatures(degree=2).fit_transform(X)\n",
        "    return X_poly, boston.target"
      ],
      "execution_count": null,
      "outputs": []
    },
    {
      "cell_type": "code",
      "metadata": {
        "id": "XQx6pj3YSLdP"
      },
      "source": [
        "#정규화, 표준화가 적용된 데이터를 X, y에 할당\n",
        "X, y = load_extended_boston()"
      ],
      "execution_count": null,
      "outputs": []
    },
    {
      "cell_type": "code",
      "metadata": {
        "colab": {
          "base_uri": "https://localhost:8080/"
        },
        "id": "DO_39nPgSLbP",
        "outputId": "ef72949f-c03e-4340-f441-eeeef47266ce"
      },
      "source": [
        "#테이터 분할 random_state = 0\n",
        "X_train, X_test, y_train, y_test = train_test_split(X, y, random_state=0)\n",
        "#모델생성, 학습\n",
        "lr3 = LinearRegression().fit(X_train, y_train)\n",
        "\n",
        "#모델의 성능 평가\n",
        "print('train {:.3f}, test {:.3f}'.format(lr3.score(X_train, y_train), lr3.score(X_test, y_test)))\n"
      ],
      "execution_count": null,
      "outputs": [
        {
          "output_type": "stream",
          "text": [
            "train 0.952, test 0.607\n"
          ],
          "name": "stdout"
        }
      ]
    },
    {
      "cell_type": "markdown",
      "metadata": {
        "id": "OAIs7TMvcIQi"
      },
      "source": [
        "#### Ridge 적용한 선형회귀"
      ]
    },
    {
      "cell_type": "code",
      "metadata": {
        "id": "-mnvvSEYSLZT"
      },
      "source": [
        "#x, y data \n",
        "X,y = load_extended_boston()\n",
        "X_train, X_test, y_train, y_test = train_test_split(X, y, random_state=0)"
      ],
      "execution_count": null,
      "outputs": []
    },
    {
      "cell_type": "code",
      "metadata": {
        "colab": {
          "base_uri": "https://localhost:8080/"
        },
        "id": "xMJVr59XSLXN",
        "outputId": "dfb23c05-cc7f-42b9-c1b6-0d23bc946f9f"
      },
      "source": [
        "#모델 생성, 학습\n",
        "from sklearn.linear_model import Ridge\n",
        "ridge=Ridge(alpha=1).fit(X_train, y_train)  \n",
        "\n",
        "#모델의 성능 평가\n",
        "print('train {:.3f}, test {:.3f}'.format(ridge.score(X_train, y_train), ridge.score(X_test, y_test)))\n"
      ],
      "execution_count": null,
      "outputs": [
        {
          "output_type": "stream",
          "text": [
            "train 0.886, test 0.753\n"
          ],
          "name": "stdout"
        }
      ]
    },
    {
      "cell_type": "code",
      "metadata": {
        "colab": {
          "base_uri": "https://localhost:8080/"
        },
        "id": "607cvP2dO_ps",
        "outputId": "d5354643-efa6-41ea-81f4-036c019f288a"
      },
      "source": [
        "# when alpha = 10\n",
        "#모델 생성, 학습\n",
        "from sklearn.linear_model import Ridge\n",
        "ridge10=Ridge(alpha=10).fit(X_train, y_train)  \n",
        "\n",
        "#모델의 성능 평가\n",
        "print('train {:.3f}, test {:.3f}'.format(ridge10.score(X_train, y_train), ridge10.score(X_test, y_test)))\n"
      ],
      "execution_count": null,
      "outputs": [
        {
          "output_type": "stream",
          "text": [
            "train 0.788, test 0.636\n"
          ],
          "name": "stdout"
        }
      ]
    },
    {
      "cell_type": "code",
      "metadata": {
        "colab": {
          "base_uri": "https://localhost:8080/"
        },
        "id": "0X6TmxWbO_ne",
        "outputId": "8476f980-4f1b-486e-9296-b3f961644b25"
      },
      "source": [
        "# when alpha = 0.1\n",
        "#모델 생성, 학습\n",
        "from sklearn.linear_model import Ridge\n",
        "ridge_point1=Ridge(alpha=0.1).fit(X_train, y_train)  \n",
        "\n",
        "#모델의 성능 평가\n",
        "print('train {:.3f}, test {:.3f}'.format(ridge_point1.score(X_train, y_train), ridge_point1.score(X_test, y_test)))\n"
      ],
      "execution_count": null,
      "outputs": [
        {
          "output_type": "stream",
          "text": [
            "train 0.928, test 0.772\n"
          ],
          "name": "stdout"
        }
      ]
    },
    {
      "cell_type": "code",
      "metadata": {
        "colab": {
          "base_uri": "https://localhost:8080/",
          "height": 265
        },
        "id": "7TWWz832fSsY",
        "outputId": "50a4355a-87e9-4b7c-c6b7-c49c1e12463d"
      },
      "source": [
        "## Visualization\n",
        "# alpha값에 따른 회귀계수 시각화\n",
        "import matplotlib.pyplot as plt \n",
        "\n",
        "plt.plot(ridge10.coef_, '^', label=\"Ridge alpha=10\")\n",
        "plt.plot(ridge.coef_, 's', label=\"Ridge alpha=1\")\n",
        "plt.plot(ridge_point1.coef_, 'v', label=\"Ridge alpha=0.1\")\n",
        "plt.plot(lr3.coef_, 'o', label=\"Linear Regreesion\")\n",
        "xlims = plt.xlim()\n",
        "plt.hlines(0, xlims[0],xlims[1])\n",
        "plt.xlim(xlims)\n",
        "plt.ylim(-25,25)\n",
        "plt.legend()\n",
        "plt.show()"
      ],
      "execution_count": null,
      "outputs": [
        {
          "output_type": "display_data",
          "data": {
            "image/png": "[encoded data removed]",
            "text/plain": [
              "<Figure size 432x288 with 1 Axes>"
            ]
          },
          "metadata": {
            "tags": [],
            "needs_background": "light"
          }
        }
      ]
    },
    {
      "cell_type": "markdown",
      "metadata": {
        "id": "rHMYBh89in4b"
      },
      "source": [
        "#### Lasso 적용한 선형회귀 (L1 규제 적용)"
      ]
    },
    {
      "cell_type": "code",
      "metadata": {
        "id": "Y8nZJr7sivf4"
      },
      "source": [
        "from sklearn.linear_model import Lasso\n",
        "\n",
        "X,y = load_extended_boston()\n",
        "X_train, X_test, y_train, y_test = train_test_split(X,y, random_state=0)"
      ],
      "execution_count": null,
      "outputs": []
    },
    {
      "cell_type": "code",
      "metadata": {
        "colab": {
          "base_uri": "https://localhost:8080/"
        },
        "id": "lG4b971FivdQ",
        "outputId": "3279a229-dc88-4e5b-c267-d72ab416ab0c"
      },
      "source": [
        "# lasso 모델 생성, 학습\n",
        "lasso = Lasso(alpha=1.0).fit(X_train, y_train)\n",
        "print('train:{:.3f}, test:{:.3f}' .format(lasso.score(X_train, y_train), lasso.score(X_test, y_test)))"
      ],
      "execution_count": null,
      "outputs": [
        {
          "output_type": "stream",
          "text": [
            "train:0.293, test:0.209\n"
          ],
          "name": "stdout"
        }
      ]
    },
    {
      "cell_type": "code",
      "metadata": {
        "colab": {
          "base_uri": "https://localhost:8080/"
        },
        "id": "ncikPoCCiva6",
        "outputId": "b1c787c7-a97e-4037-88e2-3fd74a1c1951"
      },
      "source": [
        "lasso.coef_\n",
        "np.sum(lasso.coef_!=0)"
      ],
      "execution_count": null,
      "outputs": [
        {
          "output_type": "execute_result",
          "data": {
            "text/plain": [
              "4"
            ]
          },
          "metadata": {
            "tags": []
          },
          "execution_count": 140
        }
      ]
    },
    {
      "cell_type": "code",
      "metadata": {
        "colab": {
          "base_uri": "https://localhost:8080/"
        },
        "id": "vvbI0vNeivYQ",
        "outputId": "4302ed8b-0d31-4ed6-e6d3-e565f0fbacb7"
      },
      "source": [
        "#alpha = 0.01\n",
        "from sklearn.linear_model import Lasso\n",
        "lasso001=Lasso(alpha=0.01).fit(X_train, y_train)  \n",
        "\n",
        "#모델의 성능 평가\n",
        "print('train {:.3f}, test {:.3f}'.format(lasso001.score(X_train, y_train), lasso001.score(X_test, y_test)))\n"
      ],
      "execution_count": null,
      "outputs": [
        {
          "output_type": "stream",
          "text": [
            "train 0.896, test 0.768\n"
          ],
          "name": "stdout"
        },
        {
          "output_type": "stream",
          "text": [
            "/usr/local/lib/python3.6/dist-packages/sklearn/linear_model/_coordinate_descent.py:476: ConvergenceWarning: Objective did not converge. You might want to increase the number of iterations. Duality gap: 46.90245800318007, tolerance: 3.233182126649076\n",
            "  positive)\n"
          ],
          "name": "stderr"
        }
      ]
    },
    {
      "cell_type": "code",
      "metadata": {
        "colab": {
          "base_uri": "https://localhost:8080/"
        },
        "id": "IDTG3pg7ivPj",
        "outputId": "780e438d-a94e-4395-9b06-73009fba11c6"
      },
      "source": [
        "#alpha = 0.01\n",
        "from sklearn.linear_model import Lasso\n",
        "lasso001=Lasso(alpha=0.01, max_iter=100000).fit(X_train, y_train)  \n",
        "\n",
        "#모델의 성능 평가\n",
        "print('train {:.3f}, test {:.3f}'.format(lasso001.score(X_train, y_train), lasso001.score(X_test, y_test)))\n"
      ],
      "execution_count": null,
      "outputs": [
        {
          "output_type": "stream",
          "text": [
            "train 0.896, test 0.766\n"
          ],
          "name": "stdout"
        }
      ]
    },
    {
      "cell_type": "code",
      "metadata": {
        "colab": {
          "base_uri": "https://localhost:8080/"
        },
        "id": "77y8JrRWuxZW",
        "outputId": "e1b806d4-67ff-4f2a-b9af-6da0f733418f"
      },
      "source": [
        "np.sum(lasso001.coef_!=0)"
      ],
      "execution_count": null,
      "outputs": [
        {
          "output_type": "execute_result",
          "data": {
            "text/plain": [
              "33"
            ]
          },
          "metadata": {
            "tags": []
          },
          "execution_count": 145
        }
      ]
    },
    {
      "cell_type": "markdown",
      "metadata": {
        "id": "YDJ5tyRVu8d1"
      },
      "source": [
        "#### Logistic Regression (분류)"
      ]
    },
    {
      "cell_type": "code",
      "metadata": {
        "id": "NNV3HGNCu-_k"
      },
      "source": [
        "# data load\n",
        "from sklearn.datasets import load_breast_cancer\n",
        "cancer = load_breast_cancer()\n",
        "\n",
        "# 데이터 분할\n",
        "X_train, X_test, y_train, y_test = train_test_split(cancer.data, cancer.target, random_state=0, test_size=0.3)"
      ],
      "execution_count": null,
      "outputs": []
    },
    {
      "cell_type": "code",
      "metadata": {
        "colab": {
          "base_uri": "https://localhost:8080/"
        },
        "id": "OcjlENmNu-8_",
        "outputId": "666cbded-b728-4273-8bc9-cd2d66bb89c7"
      },
      "source": [
        "# 모델 생성, 학습\n",
        "from sklearn.linear_model import LogisticRegression\n",
        "\n",
        "loR = LogisticRegression(max_iter=10000).fit(X_train, y_train)\n",
        "\n",
        "#성능 출력\n",
        "print('train:{:.3f}, test:{:.3f}' .format(loR.score(X_train, y_train), loR.score(X_test, y_test)))\n",
        "\n",
        "\n"
      ],
      "execution_count": null,
      "outputs": [
        {
          "output_type": "stream",
          "text": [
            "train:0.960, test:0.959\n"
          ],
          "name": "stdout"
        }
      ]
    },
    {
      "cell_type": "code",
      "metadata": {
        "id": "go9Fzk4du-6F"
      },
      "source": [
        "# 데이터 표준화 적용해 성능 평가\n",
        "from sklearn.preprocessing import StandardScaler\n",
        "\n",
        "#scaler 생성\n",
        "scaler = StandardScaler()\n",
        "\n",
        "# X 데이터 표준화\n",
        "X_scaled = scaler.fit_transform(cancer.data)\n",
        "\n",
        "X_train, X_test, y_train, y_test = train_test_split(X_scaled, cancer.target, random_state=0, test_size=0.3)"
      ],
      "execution_count": null,
      "outputs": []
    },
    {
      "cell_type": "code",
      "metadata": {
        "colab": {
          "base_uri": "https://localhost:8080/"
        },
        "id": "sgc0MMwWu-3Q",
        "outputId": "fd70f0aa-29f9-4335-c021-6831ab289a83"
      },
      "source": [
        "loR2 = LogisticRegression(max_iter=10000).fit(X_train, y_train)\n",
        "\n",
        "#성능 출력\n",
        "print('train:{:.3f}, test:{:.3f}' .format(loR2.score(X_train, y_train), loR2.score(X_test, y_test)))\n",
        "\n",
        "\n"
      ],
      "execution_count": null,
      "outputs": [
        {
          "output_type": "stream",
          "text": [
            "train:0.990, test:0.977\n"
          ],
          "name": "stdout"
        }
      ]
    },
    {
      "cell_type": "markdown",
      "metadata": {
        "id": "OAImSjrJWJTy"
      },
      "source": [
        "# 특성공학"
      ]
    },
    {
      "cell_type": "markdown",
      "metadata": {
        "id": "Qeo59-6VWJQl"
      },
      "source": [
        "## One-Hot-Encoding"
      ]
    },
    {
      "cell_type": "code",
      "metadata": {
        "id": "wyW35EYFu-0M",
        "colab": {
          "base_uri": "https://localhost:8080/",
          "height": 168
        },
        "outputId": "4a249f7c-276f-49df-e935-19fc858a8ad4"
      },
      "source": [
        "items = ['TV', '컴퓨터', 'TV', '청소기']\n",
        "df=pd.DataFrame({'item':items})\n",
        "df"
      ],
      "execution_count": null,
      "outputs": [
        {
          "output_type": "execute_result",
          "data": {
            "text/html": [
              "<div>\n",
              "<style scoped>\n",
              "    .dataframe tbody tr th:only-of-type {\n",
              "        vertical-align: middle;\n",
              "    }\n",
              "\n",
              "    .dataframe tbody tr th {\n",
              "        vertical-align: top;\n",
              "    }\n",
              "\n",
              "    .dataframe thead th {\n",
              "        text-align: right;\n",
              "    }\n",
              "</style>\n",
              "<table border=\"1\" class=\"dataframe\">\n",
              "  <thead>\n",
              "    <tr style=\"text-align: right;\">\n",
              "      <th></th>\n",
              "      <th>item</th>\n",
              "    </tr>\n",
              "  </thead>\n",
              "  <tbody>\n",
              "    <tr>\n",
              "      <th>0</th>\n",
              "      <td>TV</td>\n",
              "    </tr>\n",
              "    <tr>\n",
              "      <th>1</th>\n",
              "      <td>컴퓨터</td>\n",
              "    </tr>\n",
              "    <tr>\n",
              "      <th>2</th>\n",
              "      <td>TV</td>\n",
              "    </tr>\n",
              "    <tr>\n",
              "      <th>3</th>\n",
              "      <td>청소기</td>\n",
              "    </tr>\n",
              "  </tbody>\n",
              "</table>\n",
              "</div>"
            ],
            "text/plain": [
              "  item\n",
              "0   TV\n",
              "1  컴퓨터\n",
              "2   TV\n",
              "3  청소기"
            ]
          },
          "metadata": {
            "tags": []
          },
          "execution_count": 3
        }
      ]
    },
    {
      "cell_type": "code",
      "metadata": {
        "colab": {
          "base_uri": "https://localhost:8080/",
          "height": 168
        },
        "id": "h5-V39zfWS1g",
        "outputId": "0bb32766-3467-4b23-aa57-81bb8fb9e23d"
      },
      "source": [
        "#One-Hot 지원하는 함수: pd.get_dummies()\n",
        "df_dummy=pd.get_dummies(df)\n",
        "df_dummy"
      ],
      "execution_count": null,
      "outputs": [
        {
          "output_type": "execute_result",
          "data": {
            "text/html": [
              "<div>\n",
              "<style scoped>\n",
              "    .dataframe tbody tr th:only-of-type {\n",
              "        vertical-align: middle;\n",
              "    }\n",
              "\n",
              "    .dataframe tbody tr th {\n",
              "        vertical-align: top;\n",
              "    }\n",
              "\n",
              "    .dataframe thead th {\n",
              "        text-align: right;\n",
              "    }\n",
              "</style>\n",
              "<table border=\"1\" class=\"dataframe\">\n",
              "  <thead>\n",
              "    <tr style=\"text-align: right;\">\n",
              "      <th></th>\n",
              "      <th>item_TV</th>\n",
              "      <th>item_청소기</th>\n",
              "      <th>item_컴퓨터</th>\n",
              "    </tr>\n",
              "  </thead>\n",
              "  <tbody>\n",
              "    <tr>\n",
              "      <th>0</th>\n",
              "      <td>1</td>\n",
              "      <td>0</td>\n",
              "      <td>0</td>\n",
              "    </tr>\n",
              "    <tr>\n",
              "      <th>1</th>\n",
              "      <td>0</td>\n",
              "      <td>0</td>\n",
              "      <td>1</td>\n",
              "    </tr>\n",
              "    <tr>\n",
              "      <th>2</th>\n",
              "      <td>1</td>\n",
              "      <td>0</td>\n",
              "      <td>0</td>\n",
              "    </tr>\n",
              "    <tr>\n",
              "      <th>3</th>\n",
              "      <td>0</td>\n",
              "      <td>1</td>\n",
              "      <td>0</td>\n",
              "    </tr>\n",
              "  </tbody>\n",
              "</table>\n",
              "</div>"
            ],
            "text/plain": [
              "   item_TV  item_청소기  item_컴퓨터\n",
              "0        1         0         0\n",
              "1        0         0         1\n",
              "2        1         0         0\n",
              "3        0         1         0"
            ]
          },
          "metadata": {
            "tags": []
          },
          "execution_count": 5
        }
      ]
    },
    {
      "cell_type": "markdown",
      "metadata": {
        "id": "hlVLVphnjoQW"
      },
      "source": [
        "# 지도학습 (분류) Decision Tree 연습"
      ]
    },
    {
      "cell_type": "code",
      "metadata": {
        "id": "VtHQa_20WSwA"
      },
      "source": [
        "#데이터 로딩\n",
        "from sklearn.datasets import load_iris\n",
        "#전처리: 정규화, 표준화\n",
        "#데이터 분할\n",
        "from sklearn.model_selection import train_test_split\n",
        "#모델생성, 학습\n",
        "from sklearn.tree import DecisionTreeClassifier"
      ],
      "execution_count": null,
      "outputs": []
    },
    {
      "cell_type": "code",
      "metadata": {
        "id": "pfl1ieerWStS"
      },
      "source": [
        "iris = load_iris()\n",
        "X_train, X_test, y_train, y_test = train_test_split(iris.data, iris.target, test_size=0.2, random_state=11)"
      ],
      "execution_count": null,
      "outputs": []
    },
    {
      "cell_type": "code",
      "metadata": {
        "colab": {
          "base_uri": "https://localhost:8080/"
        },
        "id": "bKsUoTaqWSyz",
        "outputId": "ff0f5eca-1b50-4f6b-e602-12ee46733d36"
      },
      "source": [
        "dcT = DecisionTreeClassifier().fit(X_train, y_train)\n",
        "print('train : {:.3f}, test : {:.3f}'.format(dcT.score(X_train, y_train), dcT.score(X_test, y_test)))"
      ],
      "execution_count": null,
      "outputs": [
        {
          "output_type": "stream",
          "text": [
            "train : 1.000, test : 0.933\n"
          ],
          "name": "stdout"
        }
      ]
    },
    {
      "cell_type": "code",
      "metadata": {
        "id": "dxj5XIrcu-xP",
        "colab": {
          "base_uri": "https://localhost:8080/"
        },
        "outputId": "160de28c-c70e-476f-ebfc-55d6a661dc66"
      },
      "source": [
        "#max_depth : 3으로 변경해서 모델 만들어서 결과 출력\n",
        "dcT2 = DecisionTreeClassifier(max_depth=3).fit(X_train, y_train)\n",
        "print('train : {:.3f}, test : {:.3f}'.format(dcT2.score(X_train, y_train), dcT2.score(X_test, y_test)))"
      ],
      "execution_count": null,
      "outputs": [
        {
          "output_type": "stream",
          "text": [
            "train : 0.975, test : 0.933\n"
          ],
          "name": "stdout"
        }
      ]
    },
    {
      "cell_type": "code",
      "metadata": {
        "id": "9btF14ULGou_"
      },
      "source": [
        "# 트리 시각화\n",
        "from sklearn.tree import export_graphviz\n",
        "export_graphviz(dcT, out_file='tree.dot', class_names=iris.target_names,\n",
        "                feature_names=iris.feature_names, impurity=True, filled=True)"
      ],
      "execution_count": null,
      "outputs": []
    },
    {
      "cell_type": "code",
      "metadata": {
        "id": "Ah83hEWlIWWH"
      },
      "source": [
        "#트리 시각화\n",
        "from sklearn.tree import export_graphviz\n",
        "export_graphviz(dcT2, out_file='tree2.dot', class_names=iris.target_names,\n",
        "                feature_names=iris.feature_names, impurity=True, filled=True)"
      ],
      "execution_count": null,
      "outputs": []
    },
    {
      "cell_type": "code",
      "metadata": {
        "colab": {
          "base_uri": "https://localhost:8080/"
        },
        "id": "xIdU6A4ZKkdj",
        "outputId": "d63f4c50-9bfa-44f9-90a0-c456eabd4b8a"
      },
      "source": [
        "### 트리 모델의 feature 중요도 측정\n",
        "feat_imp = np.round(dcT.feature_importances_, 3)\n",
        "feat_imp"
      ],
      "execution_count": null,
      "outputs": [
        {
          "output_type": "execute_result",
          "data": {
            "text/plain": [
              "array([0.   , 0.025, 0.049, 0.926])"
            ]
          },
          "metadata": {
            "tags": []
          },
          "execution_count": 49
        }
      ]
    },
    {
      "cell_type": "code",
      "metadata": {
        "colab": {
          "base_uri": "https://localhost:8080/",
          "height": 265
        },
        "id": "pMySAuIwKkbd",
        "outputId": "0f9b3b2b-8fcb-42f9-caad-0aa978583618"
      },
      "source": [
        "#feature 중요도 visualize\n",
        "sns.barplot(x=feat_imp, y=iris.feature_names)\n",
        "plt.show()"
      ],
      "execution_count": null,
      "outputs": [
        {
          "output_type": "display_data",
          "data": {
            "image/png": "[encoded data removed]",
            "text/plain": [
              "<Figure size 432x288 with 1 Axes>"
            ]
          },
          "metadata": {
            "tags": [],
            "needs_background": "light"
          }
        }
      ]
    },
    {
      "cell_type": "markdown",
      "metadata": {
        "id": "YDvxUYqbLe9N"
      },
      "source": [
        "## DT 활용한 암 데이터 예측 연습"
      ]
    },
    {
      "cell_type": "code",
      "metadata": {
        "id": "_QoUEztAMKQ8"
      },
      "source": [
        "import numpy as np\n",
        "import pandas as pd\n",
        "import matplotlib.pyplot as plt\n",
        "import seaborn as sns"
      ],
      "execution_count": null,
      "outputs": []
    },
    {
      "cell_type": "code",
      "metadata": {
        "id": "NafT8K5hKkWl"
      },
      "source": [
        "#실습할 데이터 로딩 : 암데이터\n",
        "from sklearn.datasets import load_breast_cancer\n",
        "\n",
        "#함수 호출해서 변수에 데이터를 저장 : load_~~\n",
        "cancer = load_breast_cancer()"
      ],
      "execution_count": null,
      "outputs": []
    },
    {
      "cell_type": "code",
      "metadata": {
        "colab": {
          "base_uri": "https://localhost:8080/",
          "height": 222
        },
        "id": "ocWjbakJL8KL",
        "outputId": "0c7a66c3-ec78-480d-e30b-16f2ff5ce297"
      },
      "source": [
        "#데이터 분할 : random_state = 0\n",
        "from sklearn.model_selection import train_test_split\n",
        "X_train, X_test, y_train, y_test = train_test_split(cancer.data, cancer.target, random_state=0)\n",
        "\n",
        "#학습, 성능평가\n",
        "tree = DecisionTreeClassifier(random_state=0).fit(X_train, y_train)\n",
        "print('train: {:.3f}, test:{:.3f}'.format(tree.score(X_train, y_train), tree.score(X_test, y_test)))"
      ],
      "execution_count": null,
      "outputs": [
        {
          "output_type": "error",
          "ename": "NameError",
          "evalue": "ignored",
          "traceback": [
            "\u001b[0;31m---------------------------------------------------------------------------\u001b[0m",
            "\u001b[0;31mNameError\u001b[0m                                 Traceback (most recent call last)",
            "\u001b[0;32m<ipython-input-3-e913d3517d89>\u001b[0m in \u001b[0;36m<module>\u001b[0;34m\u001b[0m\n\u001b[1;32m      4\u001b[0m \u001b[0;34m\u001b[0m\u001b[0m\n\u001b[1;32m      5\u001b[0m \u001b[0;31m#학습, 성능평가\u001b[0m\u001b[0;34m\u001b[0m\u001b[0;34m\u001b[0m\u001b[0;34m\u001b[0m\u001b[0m\n\u001b[0;32m----> 6\u001b[0;31m \u001b[0mtree\u001b[0m \u001b[0;34m=\u001b[0m \u001b[0mDecisionTreeClassifier\u001b[0m\u001b[0;34m(\u001b[0m\u001b[0mrandom_state\u001b[0m\u001b[0;34m=\u001b[0m\u001b[0;36m0\u001b[0m\u001b[0;34m)\u001b[0m\u001b[0;34m.\u001b[0m\u001b[0mfit\u001b[0m\u001b[0;34m(\u001b[0m\u001b[0mX_train\u001b[0m\u001b[0;34m,\u001b[0m \u001b[0my_train\u001b[0m\u001b[0;34m)\u001b[0m\u001b[0;34m\u001b[0m\u001b[0;34m\u001b[0m\u001b[0m\n\u001b[0m\u001b[1;32m      7\u001b[0m \u001b[0mprint\u001b[0m\u001b[0;34m(\u001b[0m\u001b[0;34m'train: {:.3f}, test:{:.3f}'\u001b[0m\u001b[0;34m.\u001b[0m\u001b[0mformat\u001b[0m\u001b[0;34m(\u001b[0m\u001b[0mtree\u001b[0m\u001b[0;34m.\u001b[0m\u001b[0mscore\u001b[0m\u001b[0;34m(\u001b[0m\u001b[0mX_train\u001b[0m\u001b[0;34m,\u001b[0m \u001b[0my_train\u001b[0m\u001b[0;34m)\u001b[0m\u001b[0;34m,\u001b[0m \u001b[0mtree\u001b[0m\u001b[0;34m.\u001b[0m\u001b[0mscore\u001b[0m\u001b[0;34m(\u001b[0m\u001b[0mX_test\u001b[0m\u001b[0;34m,\u001b[0m \u001b[0my_test\u001b[0m\u001b[0;34m)\u001b[0m\u001b[0;34m)\u001b[0m\u001b[0;34m)\u001b[0m\u001b[0;34m\u001b[0m\u001b[0;34m\u001b[0m\u001b[0m\n",
            "\u001b[0;31mNameError\u001b[0m: name 'DecisionTreeClassifier' is not defined"
          ]
        }
      ]
    },
    {
      "cell_type": "code",
      "metadata": {
        "id": "Pb5oOqzIUX3L"
      },
      "source": [
        "#학습, 성능평가\n",
        "tree1 = DecisionTreeClassifier(random_state=0, max_depth=3).fit(X_train, y_train)\n",
        "print('train: {:.3f}, test:{:.3f}'.format(tree1.score(X_train, y_train), tree.score(X_test, y_test)))"
      ],
      "execution_count": null,
      "outputs": []
    },
    {
      "cell_type": "code",
      "metadata": {
        "id": "cAALmszNVEvH"
      },
      "source": [
        "#결과값 예측\n",
        "tree1.predict(X_test)"
      ],
      "execution_count": null,
      "outputs": []
    },
    {
      "cell_type": "code",
      "metadata": {
        "id": "9ny3525uVHlH"
      },
      "source": [
        "tree1.predict_proba(X_test)"
      ],
      "execution_count": null,
      "outputs": []
    },
    {
      "cell_type": "code",
      "metadata": {
        "id": "V_9eTq5EL87H"
      },
      "source": [
        "#피처 중요도 check \n",
        "#피처 중요도 정보 조회(0이 아닌 피처만 조회)\n",
        "feature_name = cancer.feature_names[tree.feature_importances_!=0]\n",
        "feature_values = tree.feature_importances_[tree.feature_importances_!=0]\n",
        "#피처 시각화\n",
        "sns.barplot(x=feature_values, y=feature_name)\n",
        "plt.show()"
      ],
      "execution_count": null,
      "outputs": []
    },
    {
      "cell_type": "code",
      "metadata": {
        "id": "Oht51CXzPx0m"
      },
      "source": [
        "#트리 시각화 시켜보기: tree.dot 이용\n",
        "from sklearn.tree import export_graphviz\n",
        "export_graphviz(tree, out_file='tree3.dot', class_names=cancer.target_names,\n",
        "                feature_names=cancer.feature_names, impurity=True, filled=True)"
      ],
      "execution_count": null,
      "outputs": []
    },
    {
      "cell_type": "markdown",
      "metadata": {
        "id": "E5vhtz2FlZJi"
      },
      "source": [
        "## GridSearchCV 연습"
      ]
    },
    {
      "cell_type": "code",
      "metadata": {
        "id": "2GZOLrxMld5u"
      },
      "source": [
        "#max_depth = [1,2,3] min_samples_split=[2,3]\n",
        "#최적의 parameter 도출\n",
        "from sklearn.model_selection import GridSearchCV\n",
        "gridS = GridSearchCV"
      ],
      "execution_count": null,
      "outputs": []
    },
    {
      "cell_type": "code",
      "metadata": {
        "colab": {
          "base_uri": "https://localhost:8080/"
        },
        "id": "MD8Wa97PlbNH",
        "outputId": "06e7c04f-d10e-485d-f50c-23e8321d7d28"
      },
      "source": [
        "params = {'max_depth':[1,2,3], 'min_samples_split':[2,3]}\n",
        "from sklearn.model_selection import GridSearchCV\n",
        "gridS = GridSearchCV(tree, param_grid=params, cv=3)\n",
        "gridS.fit(X_train, y_train)"
      ],
      "execution_count": null,
      "outputs": [
        {
          "output_type": "execute_result",
          "data": {
            "text/plain": [
              "GridSearchCV(cv=3, error_score=nan,\n",
              "             estimator=RandomForestClassifier(bootstrap=True, ccp_alpha=0.0,\n",
              "                                              class_weight=None,\n",
              "                                              criterion='gini', max_depth=None,\n",
              "                                              max_features='auto',\n",
              "                                              max_leaf_nodes=None,\n",
              "                                              max_samples=None,\n",
              "                                              min_impurity_decrease=0.0,\n",
              "                                              min_impurity_split=None,\n",
              "                                              min_samples_leaf=1,\n",
              "                                              min_samples_split=2,\n",
              "                                              min_weight_fraction_leaf=0.0,\n",
              "                                              n_estimators=100, n_jobs=None,\n",
              "                                              oob_score=False, random_state=0,\n",
              "                                              verbose=0, warm_start=False),\n",
              "             iid='deprecated', n_jobs=None,\n",
              "             param_grid={'max_depth': [1, 2, 3], 'min_samples_split': [2, 3]},\n",
              "             pre_dispatch='2*n_jobs', refit=True, return_train_score=False,\n",
              "             scoring=None, verbose=0)"
            ]
          },
          "metadata": {
            "tags": []
          },
          "execution_count": 99
        }
      ]
    },
    {
      "cell_type": "code",
      "metadata": {
        "colab": {
          "base_uri": "https://localhost:8080/",
          "height": 262
        },
        "id": "YY7wkP9albKy",
        "outputId": "82eb13ff-57de-480b-a393-d1dfe2aa6c7c"
      },
      "source": [
        "grid_df=pd.DataFrame(gridS.cv_results_)\n",
        "grid_df.head(3)"
      ],
      "execution_count": null,
      "outputs": [
        {
          "output_type": "execute_result",
          "data": {
            "text/html": [
              "<div>\n",
              "<style scoped>\n",
              "    .dataframe tbody tr th:only-of-type {\n",
              "        vertical-align: middle;\n",
              "    }\n",
              "\n",
              "    .dataframe tbody tr th {\n",
              "        vertical-align: top;\n",
              "    }\n",
              "\n",
              "    .dataframe thead th {\n",
              "        text-align: right;\n",
              "    }\n",
              "</style>\n",
              "<table border=\"1\" class=\"dataframe\">\n",
              "  <thead>\n",
              "    <tr style=\"text-align: right;\">\n",
              "      <th></th>\n",
              "      <th>mean_fit_time</th>\n",
              "      <th>std_fit_time</th>\n",
              "      <th>mean_score_time</th>\n",
              "      <th>std_score_time</th>\n",
              "      <th>param_max_depth</th>\n",
              "      <th>param_min_samples_split</th>\n",
              "      <th>params</th>\n",
              "      <th>split0_test_score</th>\n",
              "      <th>split1_test_score</th>\n",
              "      <th>split2_test_score</th>\n",
              "      <th>mean_test_score</th>\n",
              "      <th>std_test_score</th>\n",
              "      <th>rank_test_score</th>\n",
              "    </tr>\n",
              "  </thead>\n",
              "  <tbody>\n",
              "    <tr>\n",
              "      <th>0</th>\n",
              "      <td>0.133678</td>\n",
              "      <td>0.005307</td>\n",
              "      <td>0.007977</td>\n",
              "      <td>0.000149</td>\n",
              "      <td>1</td>\n",
              "      <td>2</td>\n",
              "      <td>{'max_depth': 1, 'min_samples_split': 2}</td>\n",
              "      <td>0.908451</td>\n",
              "      <td>0.915493</td>\n",
              "      <td>0.901408</td>\n",
              "      <td>0.908451</td>\n",
              "      <td>0.00575</td>\n",
              "      <td>5</td>\n",
              "    </tr>\n",
              "    <tr>\n",
              "      <th>1</th>\n",
              "      <td>0.133384</td>\n",
              "      <td>0.002361</td>\n",
              "      <td>0.008019</td>\n",
              "      <td>0.000249</td>\n",
              "      <td>1</td>\n",
              "      <td>3</td>\n",
              "      <td>{'max_depth': 1, 'min_samples_split': 3}</td>\n",
              "      <td>0.908451</td>\n",
              "      <td>0.915493</td>\n",
              "      <td>0.901408</td>\n",
              "      <td>0.908451</td>\n",
              "      <td>0.00575</td>\n",
              "      <td>5</td>\n",
              "    </tr>\n",
              "    <tr>\n",
              "      <th>2</th>\n",
              "      <td>0.140875</td>\n",
              "      <td>0.005503</td>\n",
              "      <td>0.008269</td>\n",
              "      <td>0.000233</td>\n",
              "      <td>2</td>\n",
              "      <td>2</td>\n",
              "      <td>{'max_depth': 2, 'min_samples_split': 2}</td>\n",
              "      <td>0.943662</td>\n",
              "      <td>0.936620</td>\n",
              "      <td>0.950704</td>\n",
              "      <td>0.943662</td>\n",
              "      <td>0.00575</td>\n",
              "      <td>3</td>\n",
              "    </tr>\n",
              "  </tbody>\n",
              "</table>\n",
              "</div>"
            ],
            "text/plain": [
              "   mean_fit_time  std_fit_time  ...  std_test_score  rank_test_score\n",
              "0       0.133678      0.005307  ...         0.00575                5\n",
              "1       0.133384      0.002361  ...         0.00575                5\n",
              "2       0.140875      0.005503  ...         0.00575                3\n",
              "\n",
              "[3 rows x 13 columns]"
            ]
          },
          "metadata": {
            "tags": []
          },
          "execution_count": 97
        }
      ]
    },
    {
      "cell_type": "code",
      "metadata": {
        "colab": {
          "base_uri": "https://localhost:8080/"
        },
        "id": "ruBIzbStlbIj",
        "outputId": "62c6d6ee-e287-4c50-c2ea-a76b6b8a1a3e"
      },
      "source": [
        "print(gridS.best_score_)\n",
        "print(gridS.best_estimator_)"
      ],
      "execution_count": null,
      "outputs": [
        {
          "output_type": "stream",
          "text": [
            "0.948356807511737\n",
            "RandomForestClassifier(bootstrap=True, ccp_alpha=0.0, class_weight=None,\n",
            "                       criterion='gini', max_depth=3, max_features='auto',\n",
            "                       max_leaf_nodes=None, max_samples=None,\n",
            "                       min_impurity_decrease=0.0, min_impurity_split=None,\n",
            "                       min_samples_leaf=1, min_samples_split=2,\n",
            "                       min_weight_fraction_leaf=0.0, n_estimators=100,\n",
            "                       n_jobs=None, oob_score=False, random_state=0, verbose=0,\n",
            "                       warm_start=False)\n"
          ],
          "name": "stdout"
        }
      ]
    },
    {
      "cell_type": "code",
      "metadata": {
        "id": "PKuRRp11lbGx"
      },
      "source": [
        ""
      ],
      "execution_count": null,
      "outputs": []
    },
    {
      "cell_type": "code",
      "metadata": {
        "id": "R4F2JyFvlbEe"
      },
      "source": [
        ""
      ],
      "execution_count": null,
      "outputs": []
    },
    {
      "cell_type": "markdown",
      "metadata": {
        "id": "DjDXugDrai7m"
      },
      "source": [
        "## Ensemble 실습 (Randomforest)"
      ]
    },
    {
      "cell_type": "code",
      "metadata": {
        "id": "re5pOrF5alk4"
      },
      "source": [
        "#앙상블 사용 모델 import\n",
        "from sklearn.ensemble import RandomForestClassifier\n",
        "\n",
        "cancer = load_breast_cancer()\n",
        "X_train, X_test, y_train, y_test = train_test_split(cancer.data, cancer.target, random_state=0)"
      ],
      "execution_count": null,
      "outputs": []
    },
    {
      "cell_type": "code",
      "metadata": {
        "colab": {
          "base_uri": "https://localhost:8080/"
        },
        "id": "GhxwZBu9alii",
        "outputId": "548528d8-79b7-44a2-cca7-1ff04dd7efcf"
      },
      "source": [
        "forest = RandomForestClassifier(n_estimators=100,random_state=0).fit(X_train, y_train)\n",
        "print('train: {:.3f}, test:{:.3f}'.format(forest.score(X_train, y_train), forest.score(X_test, y_test)))"
      ],
      "execution_count": null,
      "outputs": [
        {
          "output_type": "stream",
          "text": [
            "train: 1.000, test:0.972\n"
          ],
          "name": "stdout"
        }
      ]
    },
    {
      "cell_type": "code",
      "metadata": {
        "colab": {
          "base_uri": "https://localhost:8080/"
        },
        "id": "AM37OQKbalgQ",
        "outputId": "53293542-c784-4527-e643-d77b9be64797"
      },
      "source": [
        "# max depth = 3 \n",
        "forest2 = RandomForestClassifier(n_estimators=100, random_state=0, max_depth=3).fit(X_train, y_train)\n",
        "print('train: {:.3f}, test:{:.3f}'.format(forest2.score(X_train, y_train), forest2.score(X_test, y_test)))"
      ],
      "execution_count": null,
      "outputs": [
        {
          "output_type": "stream",
          "text": [
            "train: 0.981, test:0.958\n"
          ],
          "name": "stdout"
        }
      ]
    },
    {
      "cell_type": "code",
      "metadata": {
        "colab": {
          "base_uri": "https://localhost:8080/"
        },
        "id": "6-LJ_zHcald1",
        "outputId": "476babf8-8c98-4220-b392-46714a329ed8"
      },
      "source": [
        "#Gradient Boosting\n",
        "from sklearn.ensemble import GradientBoostingClassifier\n",
        "grad = GradientBoostingClassifier().fit(X_train, y_train)\n",
        "print('train:{:.3f}, test:{:.3f}'. format(grad.score(X_train, y_train), grad.score(X_test, y_test)))"
      ],
      "execution_count": null,
      "outputs": [
        {
          "output_type": "stream",
          "text": [
            "train:1.000, test:0.972\n"
          ],
          "name": "stdout"
        }
      ]
    },
    {
      "cell_type": "code",
      "metadata": {
        "id": "0L9Firfralbe"
      },
      "source": [
        ""
      ],
      "execution_count": null,
      "outputs": []
    },
    {
      "cell_type": "code",
      "metadata": {
        "id": "10SXAkiAlXId"
      },
      "source": [
        ""
      ],
      "execution_count": null,
      "outputs": []
    },
    {
      "cell_type": "code",
      "metadata": {
        "id": "BcsrebRHalZC"
      },
      "source": [
        ""
      ],
      "execution_count": null,
      "outputs": []
    }
  ]
}