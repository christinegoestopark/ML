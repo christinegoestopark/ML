{
  "nbformat": 4,
  "nbformat_minor": 0,
  "metadata": {
    "colab": {
      "name": "개념 정리.ipynb",
      "provenance": [],
      "toc_visible": true,
      "collapsed_sections": [
        "zqvbMRRU2JHG",
        "pFFM_iNA_Koy",
        "GKi-rZT-ANW0",
        "BucLtliuODQQ",
        "_I8KDfb3cjBg",
        "48kD952yTKJ9"
      ]
    },
    "kernelspec": {
      "name": "python3",
      "display_name": "Python 3"
    }
  },
  "cells": [
    {
      "cell_type": "markdown",
      "metadata": {
        "id": "vUTu3PMR-NlB"
      },
      "source": [
        "## 변수 선언, 연산"
      ]
    },
    {
      "cell_type": "code",
      "metadata": {
        "colab": {
          "base_uri": "https://localhost:8080/"
        },
        "id": "wJNYUamO-Ms3",
        "outputId": "5d8200cc-3689-47ac-8c16-fd108d1c5cb0"
      },
      "source": [
        "a = 3\n",
        "b = 3.5\n",
        "c = 'Hello'\n",
        "d= \"SKI\"\n",
        "# how to use print\n",
        "print(a,b,c,d)"
      ],
      "execution_count": null,
      "outputs": [
        {
          "output_type": "stream",
          "text": [
            "3 3.5 Hello SKI\n"
          ],
          "name": "stdout"
        }
      ]
    },
    {
      "cell_type": "code",
      "metadata": {
        "colab": {
          "base_uri": "https://localhost:8080/"
        },
        "id": "Eaaeo3mu-oej",
        "outputId": "c5c8e88a-461e-4780-cee0-50018a32dc13"
      },
      "source": [
        "# a=3, b=3.5, c=Hello ~출력\n",
        "print('a=',a,', b=',b,',c=',c,',d=',d)"
      ],
      "execution_count": null,
      "outputs": [
        {
          "output_type": "stream",
          "text": [
            "a= 3 , b= 3.5 ,c= Hello ,d= SKI\n"
          ],
          "name": "stdout"
        }
      ]
    },
    {
      "cell_type": "code",
      "metadata": {
        "colab": {
          "base_uri": "https://localhost:8080/"
        },
        "id": "Din4FHQ6_L3M",
        "outputId": "df9edf00-f7fb-4e49-ed84-64510aec5092"
      },
      "source": [
        "# 변수명을 이름은 name, 나이는 age, 평점은 grade 선언하고 값을 grade 9.9\n",
        "# 출력 이름은 = '홍길동', 나이 = 25, 평점=9.9 \n",
        "name = \"태은\"\n",
        "age = 28\n",
        "grade = 1009.123455\n",
        "print('이름은=',name,' 나이=',age, ' 평점=',grade)"
      ],
      "execution_count": null,
      "outputs": [
        {
          "output_type": "stream",
          "text": [
            "이름은= 태은  나이= 28  평점= 1009.123455\n"
          ],
          "name": "stdout"
        }
      ]
    },
    {
      "cell_type": "code",
      "metadata": {
        "colab": {
          "base_uri": "https://localhost:8080/"
        },
        "id": "CYdbwIaAwNd0",
        "outputId": "5214494c-63e7-4684-c81f-10cee32ce686"
      },
      "source": [
        "#format 함수 이용하여 문자열 \n",
        "print('이름은 {}, 나이는 {}, 평점은 {:,.2f}' .format(name,age,grade))"
      ],
      "execution_count": null,
      "outputs": [
        {
          "output_type": "stream",
          "text": [
            "이름은 태은, 나이는 28, 평점은 1,009.12\n"
          ],
          "name": "stdout"
        }
      ]
    },
    {
      "cell_type": "code",
      "metadata": {
        "colab": {
          "base_uri": "https://localhost:8080/"
        },
        "id": "HTI-7-JQ_8Ny",
        "outputId": "ec8fb4cf-1dba-4620-c1e6-3d11497a36ce"
      },
      "source": [
        "# 변수에 10,20을 할당하고 더하기, 빼기, 나누기, 곱하기, 몫, 나머지 결과 출력하기\n",
        "a = 10\n",
        "b = 20\n",
        "# addition\n",
        "add = a+b\n",
        "# subtraction\n",
        "subt = a-b\n",
        "# division\n",
        "div = a/b\n",
        "# multiplication\n",
        "mult = a * b\n",
        "# 몫\n",
        "m = a//b\n",
        "# leftover\n",
        "left = a%b\n",
        "print(add,subt,div,mult,m,left)"
      ],
      "execution_count": null,
      "outputs": [
        {
          "output_type": "stream",
          "text": [
            "30 -10 0.5 200 0 10\n"
          ],
          "name": "stdout"
        }
      ]
    },
    {
      "cell_type": "markdown",
      "metadata": {
        "id": "dcXPp_IaDZ-v"
      },
      "source": [
        "# 문자열 선언, 사용"
      ]
    },
    {
      "cell_type": "code",
      "metadata": {
        "id": "B3VPf0U5Djjs"
      },
      "source": [
        "data = \"HelloSKI\"\n",
        "print(data)\n",
        "\n",
        "data1= \"\"\"\n",
        "    Hi\n",
        "    there\n",
        "\"\"\"\n",
        "print(data1)"
      ],
      "execution_count": null,
      "outputs": []
    },
    {
      "cell_type": "code",
      "metadata": {
        "id": "nkdfXejemoro"
      },
      "source": [
        "a = 3\n",
        "#checking the type\n",
        "a = 3.45\n",
        "type(a)\n",
        "a='3.45'\n",
        "type(a)\n",
        "# change the type (function) \n",
        "b = '3'\n",
        "c= '3.45'\n",
        "# if you add two strings, it just appends to the end\n",
        "print(b+c)\n",
        "\n",
        "# change each string to int and float, and then add the two\n",
        "b1 = int(b)\n",
        "c1 = float(c)\n",
        "print(b1+c1)"
      ],
      "execution_count": null,
      "outputs": []
    },
    {
      "cell_type": "code",
      "metadata": {
        "id": "4tWyV31BoENj"
      },
      "source": [
        "#키보드로부터 값을 입력받아 실습\n",
        "data = input('값을 넣어주세요')\n",
        "print(data)\n",
        "# whatever value you put it in the input, the type is always \"STRING\"\n",
        "print(type(data))"
      ],
      "execution_count": null,
      "outputs": []
    },
    {
      "cell_type": "code",
      "metadata": {
        "id": "JtPhqcVWos_2"
      },
      "source": [
        "test = 'Hello-SKI'\n",
        "# indexing 이용하여 I 출력\n",
        "a = test[-1]\n",
        "# slicing 이용하여 SKI 출력\n",
        "b = test[6:]\n",
        "print(b)\n",
        "# slicing 이용하여 IKS 출력\n",
        "c = test[::-1]\n",
        "c1 = c[:3]\n",
        "#or\n",
        "c = test[-1:-4:-1]\n",
        "# slicing 이용하여 Hello 출력\n",
        "d=test[:5]\n",
        "print(a,b,c                                                                                                                                                                                               ,d)"
      ],
      "execution_count": null,
      "outputs": []
    },
    {
      "cell_type": "code",
      "metadata": {
        "id": "YVk26z8HtDwh"
      },
      "source": [
        "# str formating \n",
        "'my name is {}, {} years old'.format('Park','28')"
      ],
      "execution_count": null,
      "outputs": []
    },
    {
      "cell_type": "markdown",
      "metadata": {
        "id": "D3efje6tybqs"
      },
      "source": [
        "# 문자열 관련 함수 연습"
      ]
    },
    {
      "cell_type": "code",
      "metadata": {
        "colab": {
          "base_uri": "https://localhost:8080/"
        },
        "id": "c_UuyJpmxx5Z",
        "outputId": "c86e8450-b8fa-4db1-e574-0cae3c5e9518"
      },
      "source": [
        "info='SKI,10,SK,100000'\n",
        "# 하나의 문자열을 , 로 구분하여 나누어보기\n",
        "result=info.split(',')\n",
        "print(result)\n",
        "# use slicing from the list\n",
        "result[2:]"
      ],
      "execution_count": null,
      "outputs": [
        {
          "output_type": "stream",
          "text": [
            "['SKI', '10', 'SK', '100000']\n"
          ],
          "name": "stdout"
        },
        {
          "output_type": "execute_result",
          "data": {
            "text/plain": [
              "['SK', '100000']"
            ]
          },
          "metadata": {
            "tags": []
          },
          "execution_count": 83
        }
      ]
    },
    {
      "cell_type": "code",
      "metadata": {
        "colab": {
          "base_uri": "https://localhost:8080/"
        },
        "id": "l1Vb40GkzQB1",
        "outputId": "eddb9bab-14e1-4a56-e35b-029921e41db4"
      },
      "source": [
        "#result 값을 구분자 : 로 묶어 하나의 문자열로 만들어 출력해보자\n",
        "sep = \":\"\n",
        "sep.join(result)\n",
        "# or\n",
        "newresult = \":\".join(result)\n",
        "print(newresult)"
      ],
      "execution_count": null,
      "outputs": [
        {
          "output_type": "stream",
          "text": [
            "SKI:10:SK:100000\n"
          ],
          "name": "stdout"
        }
      ]
    },
    {
      "cell_type": "code",
      "metadata": {
        "colab": {
          "base_uri": "https://localhost:8080/"
        },
        "id": "-WSZCMVF05r3",
        "outputId": "8659a029-3d9b-46a2-abfb-015b9774a5e6"
      },
      "source": [
        "# change : to - in the dataset\n",
        "newnew=newresult.replace(\":\",\"-\")\n",
        "print(newnew)"
      ],
      "execution_count": null,
      "outputs": [
        {
          "output_type": "stream",
          "text": [
            "SKI-10-SK-100000\n"
          ],
          "name": "stdout"
        }
      ]
    },
    {
      "cell_type": "markdown",
      "metadata": {
        "id": "zqvbMRRU2JHG"
      },
      "source": [
        "# Python 자료구조 (List)\n",
        "### List 생성, 조회, 수정, 삭제"
      ]
    },
    {
      "cell_type": "code",
      "metadata": {
        "colab": {
          "base_uri": "https://localhost:8080/"
        },
        "id": "5efK3iBI2N1Y",
        "outputId": "f5e989a6-676d-4e2b-b36b-41f51aa73d63"
      },
      "source": [
        "# make a list\n",
        "testL = [4,3,1,2,7]\n",
        "print(testL)"
      ],
      "execution_count": null,
      "outputs": [
        {
          "output_type": "stream",
          "text": [
            "[4, 3, 1, 2, 7]\n"
          ],
          "name": "stdout"
        }
      ]
    },
    {
      "cell_type": "code",
      "metadata": {
        "colab": {
          "base_uri": "https://localhost:8080/"
        },
        "id": "yK6zBJoi36YQ",
        "outputId": "c673eefa-9234-468b-c479-b2196c8caf7b"
      },
      "source": [
        "# data 조회\n",
        "# indexing 이용하여 2 출력하기\n",
        "print(testL[3])\n",
        "# 3,1,2 slicing 이용하여 출력\n",
        "print(testL[1:4])"
      ],
      "execution_count": null,
      "outputs": [
        {
          "output_type": "stream",
          "text": [
            "2\n",
            "[3, 1, 2]\n"
          ],
          "name": "stdout"
        }
      ]
    },
    {
      "cell_type": "code",
      "metadata": {
        "colab": {
          "base_uri": "https://localhost:8080/"
        },
        "id": "t7gWX9JI4bVN",
        "outputId": "8e95ec0d-db90-4e7e-e984-109f93856dee"
      },
      "source": [
        "# data 추가\n",
        "# append, insert 함수 \n",
        "## append function adds the value at the end\n",
        "## insert function adds the value at the certain index\n",
        "# testL.append(10)\n",
        "# print(testL)\n",
        "testL.insert(-1,30)\n",
        "print(testL)"
      ],
      "execution_count": null,
      "outputs": [
        {
          "output_type": "stream",
          "text": [
            "[4, 3, 1, 2, 30, 7]\n"
          ],
          "name": "stdout"
        }
      ]
    },
    {
      "cell_type": "code",
      "metadata": {
        "colab": {
          "base_uri": "https://localhost:8080/"
        },
        "id": "L_sCCsc65T_u",
        "outputId": "78bfdac7-0723-4bb2-ad6f-736aeff29388"
      },
      "source": [
        "# data value 수정\n",
        "print(testL)\n",
        "testL[-2]=-30\n",
        "print(testL)"
      ],
      "execution_count": null,
      "outputs": [
        {
          "output_type": "stream",
          "text": [
            "[4, 3, 1, 2, 30, 7]\n",
            "[4, 3, 1, 2, -30, 7]\n"
          ],
          "name": "stdout"
        }
      ]
    },
    {
      "cell_type": "code",
      "metadata": {
        "colab": {
          "base_uri": "https://localhost:8080/"
        },
        "id": "oGkZ3aO15_sM",
        "outputId": "3e4d0fbb-5e2f-4107-8bf0-ddd4ef577afa"
      },
      "source": [
        "#data 삭제: del(keyword). remove, pop\n",
        "# del uses INDEX\n",
        "del testL[2]\n",
        "print(testL)\n",
        "# remove uses value - 맨 처음 나오는 값으로 삭제\n",
        "testL.remove(2)\n",
        "print(testL)\n",
        "# pop uses index\n",
        "testL.pop(1)\n",
        "print(testL)"
      ],
      "execution_count": null,
      "outputs": [
        {
          "output_type": "stream",
          "text": [
            "[4, 3, 2, -30, 7]\n",
            "[4, 3, -30, 7]\n",
            "[4, -30, 7]\n"
          ],
          "name": "stdout"
        }
      ]
    },
    {
      "cell_type": "markdown",
      "metadata": {
        "id": "pFFM_iNA_Koy"
      },
      "source": [
        "# Python 자료구조 (Dictionary)\n"
      ]
    },
    {
      "cell_type": "code",
      "metadata": {
        "colab": {
          "base_uri": "https://localhost:8080/"
        },
        "id": "nokUkcvwI-1O",
        "outputId": "686f2dff-6238-4bc5-b750-dd1c253ebab0"
      },
      "source": [
        "myDict = {'name':'zic', 'price':500000, 'maker':'SKI', 'info':'넘좋아~'}\n",
        "print(myDict)"
      ],
      "execution_count": null,
      "outputs": [
        {
          "output_type": "stream",
          "text": [
            "{'name': 'zic', 'price': 500000, 'maker': 'SKI', 'info': '넘좋아~'}\n"
          ],
          "name": "stdout"
        }
      ]
    },
    {
      "cell_type": "code",
      "metadata": {
        "colab": {
          "base_uri": "https://localhost:8080/"
        },
        "id": "3QDDK-xTI-zG",
        "outputId": "edcd9a6d-b012-4710-b210-f791c311859a"
      },
      "source": [
        "# 데이터 조회\n",
        "print(myDict['name'])\n",
        "\n",
        "# 데이터 수정\n",
        "myDict['name1']='불스원샷'\n",
        "print(myDict)\n",
        "\n",
        "# 데이터 삭제\n",
        "del myDict['name1']\n",
        "print(myDict)"
      ],
      "execution_count": null,
      "outputs": [
        {
          "output_type": "stream",
          "text": [
            "bulls\n",
            "{'name': 'bulls', 'price': 500000, 'maker': 'SKI', 'info': '넘좋아~', 'name1': '불스원샷'}\n",
            "{'name': 'bulls', 'price': 500000, 'maker': 'SKI', 'info': '넘좋아~'}\n"
          ],
          "name": "stdout"
        }
      ]
    },
    {
      "cell_type": "code",
      "metadata": {
        "colab": {
          "base_uri": "https://localhost:8080/"
        },
        "id": "l1B6TfIrL5R6",
        "outputId": "0c4383ce-485d-420a-de18-b692b3dd70cd"
      },
      "source": [
        "# keys() 함수 통해 딕셔너리 전체 키 값을 가져올 수 있다\n",
        "print(myDict.keys())\n",
        "for k in myDict.keys():\n",
        "  print(k)\n",
        "\n",
        "for k in myDict.keys():\n",
        "  print(k,':', myDict[k])"
      ],
      "execution_count": null,
      "outputs": [
        {
          "output_type": "stream",
          "text": [
            "dict_keys(['name', 'price', 'maker', 'info'])\n",
            "name\n",
            "price\n",
            "maker\n",
            "info\n",
            "name : zic\n",
            "price : 500000\n",
            "maker : SKI\n",
            "info : 넘좋아~\n"
          ],
          "name": "stdout"
        }
      ]
    },
    {
      "cell_type": "markdown",
      "metadata": {
        "id": "GKi-rZT-ANW0"
      },
      "source": [
        "  # If Statement"
      ]
    },
    {
      "cell_type": "code",
      "metadata": {
        "colab": {
          "base_uri": "https://localhost:8080/"
        },
        "id": "HzqM5eIWAPjC",
        "outputId": "57c76cdc-bfde-41d7-9947-bfdfe857275f"
      },
      "source": [
        "# even / odd \n",
        "# a = 3 \n",
        "# 키보드로부터 입력받은 값 짝수, 홀수로 출력하기\n",
        "a=int(input(\"값을 넣어주세요\")) \n",
        "\n",
        "\n",
        "# if statement\n",
        "if a%2 == 0 :\n",
        "  print(\"it is an even number\")\n",
        "else:\n",
        "  print(\"it is an odd number\")"
      ],
      "execution_count": null,
      "outputs": [
        {
          "output_type": "stream",
          "text": [
            "값을 넣어주세요4\n",
            "it is an even number\n"
          ],
          "name": "stdout"
        }
      ]
    },
    {
      "cell_type": "code",
      "metadata": {
        "colab": {
          "base_uri": "https://localhost:8080/"
        },
        "id": "3HhpfQ4LAPWV",
        "outputId": "77ee3fd0-0902-44e3-eb3d-b235810d639b"
      },
      "source": [
        "# input any value between 0~100\n",
        "# if value > 90: A, value > 80:B, value > 70:C, value < 70: 열심히 하세요.\n",
        "a = int(input(\"점수를 넣어주세요..\"))\n",
        "\n",
        "if a >= 90:\n",
        "  print(\"A\")\n",
        "elif a >= 80:\n",
        "  print(\"B\")\n",
        "elif a >= 70:\n",
        "  print(\"C\")\n",
        "else:\n",
        "  print(\"열심히 하세요\")"
      ],
      "execution_count": null,
      "outputs": [
        {
          "output_type": "stream",
          "text": [
            "점수를 넣어주세요..88\n",
            "B\n"
          ],
          "name": "stdout"
        }
      ]
    },
    {
      "cell_type": "markdown",
      "metadata": {
        "id": "BucLtliuODQQ"
      },
      "source": [
        "# For Statement"
      ]
    },
    {
      "cell_type": "code",
      "metadata": {
        "colab": {
          "base_uri": "https://localhost:8080/"
        },
        "id": "P0KyllpqOFOT",
        "outputId": "f8a22ca2-d0e8-4f49-f646-e6f8cc81aaf1"
      },
      "source": [
        "data = \"helloski\"\n",
        "for i in data[5:]:\n",
        "  print(i) #returns each letter one by one\n",
        "\n",
        "foodL = ['떡볶이', '부대찌개', '김치', '닭발']\n",
        "for i in foodL:\n",
        "  print (i) #print each value one by one\n",
        "\n",
        "for i in range(4):\n",
        "  print (i) # print 0,1,2,3\n",
        "\n",
        "for i in range(3):\n",
        "  print (foodL) # print in a list version\n",
        "\n",
        "for i in range(4):   #this gives the index, four\n",
        "  print ('{}번 {}'.format(i+1, foodL[i])) # print each value one by one by using index\n",
        "\n",
        "# better version using 'len' function\n",
        "for i in range(len(foodL)):\n",
        "  print ('{}번 {}'.format(i+1, foodL[i]))"
      ],
      "execution_count": null,
      "outputs": [
        {
          "output_type": "stream",
          "text": [
            "s\n",
            "k\n",
            "i\n",
            "떡볶이\n",
            "부대찌개\n",
            "김치\n",
            "닭발\n",
            "0\n",
            "1\n",
            "2\n",
            "3\n",
            "['떡볶이', '부대찌개', '김치', '닭발']\n",
            "['떡볶이', '부대찌개', '김치', '닭발']\n",
            "['떡볶이', '부대찌개', '김치', '닭발']\n",
            "1번 떡볶이\n",
            "2번 부대찌개\n",
            "3번 김치\n",
            "4번 닭발\n",
            "1번 떡볶이\n",
            "2번 부대찌개\n",
            "3번 김치\n",
            "4번 닭발\n"
          ],
          "name": "stdout"
        }
      ]
    },
    {
      "cell_type": "code",
      "metadata": {
        "colab": {
          "base_uri": "https://localhost:8080/"
        },
        "id": "yQassDa9OF16",
        "outputId": "3c10d745-28b8-4595-f756-f06f64afa507"
      },
      "source": [
        "result = [90,35,68,44,81]\n",
        "\n",
        "for i in range(len(result)):\n",
        "  if result[i] >= 60:\n",
        "    print ('{}번 학생은 합격입니다' .format(i+1))\n",
        "  else:\n",
        "    print ('{}번 학생은 불합격입니다' .format(i+1))"
      ],
      "execution_count": null,
      "outputs": [
        {
          "output_type": "stream",
          "text": [
            "1번 학생은 합격입니다\n",
            "2번 학생은 불합격입니다\n",
            "3번 학생은 합격입니다\n",
            "4번 학생은 불합격입니다\n",
            "5번 학생은 합격입니다\n"
          ],
          "name": "stdout"
        }
      ]
    },
    {
      "cell_type": "code",
      "metadata": {
        "colab": {
          "base_uri": "https://localhost:8080/"
        },
        "id": "C3nRt8OoX6Er",
        "outputId": "7877aa3b-c84c-4894-951e-724c75256b58"
      },
      "source": [
        "# 아래 리스트를 다음과 같이 출력하세요 -> ['짝', '짝', '홀', '짝', '홀']\n",
        "dataL = [4,2,1,10,3]\n",
        "\n",
        "#create an empty list\n",
        "result = list()\n",
        "\n",
        "#create a for loop\n",
        "for i in range(len(dataL)):\n",
        "  if dataL[i] % 2 == 0:\n",
        "    result.append ('짝')\n",
        "  else:\n",
        "    result.append ('홀')\n",
        "\n",
        "print(result) "
      ],
      "execution_count": null,
      "outputs": [
        {
          "output_type": "stream",
          "text": [
            "['짝', '짝', '홀', '짝', '홀']\n"
          ],
          "name": "stdout"
        }
      ]
    },
    {
      "cell_type": "markdown",
      "metadata": {
        "id": "_I8KDfb3cjBg"
      },
      "source": [
        "# Function"
      ]
    },
    {
      "cell_type": "code",
      "metadata": {
        "colab": {
          "base_uri": "https://localhost:8080/"
        },
        "id": "fZo5U9jbOFw1",
        "outputId": "09858325-ec23-4bed-dc17-fafc5742b77a"
      },
      "source": [
        "# how to declare a function\n",
        "def calc(a,b):\n",
        "  c = a + b\n",
        "  return c\n",
        "\n",
        "# how to use a function\n",
        "\n",
        "result = calc(2,4) \n",
        "print(result)"
      ],
      "execution_count": null,
      "outputs": [
        {
          "output_type": "stream",
          "text": [
            "6\n"
          ],
          "name": "stdout"
        }
      ]
    },
    {
      "cell_type": "code",
      "metadata": {
        "colab": {
          "base_uri": "https://localhost:8080/"
        },
        "id": "9IcZMmBcOFuw",
        "outputId": "fb1dda12-3d2e-4874-f038-1e2ca7651e0d"
      },
      "source": [
        "data = input('데이터를 입력하세요') \n",
        "print(data)"
      ],
      "execution_count": null,
      "outputs": [
        {
          "output_type": "stream",
          "text": [
            "데이터를 입력하세요88\n",
            "88\n"
          ],
          "name": "stdout"
        }
      ]
    },
    {
      "cell_type": "code",
      "metadata": {
        "colab": {
          "base_uri": "https://localhost:8080/"
        },
        "id": "4KZynB8YOFp0",
        "outputId": "cc42c836-d395-4aa6-b419-022f825f6017"
      },
      "source": [
        "# How to use SORTING\n",
        "myL = [3,4,1,10]\n",
        "#sort 함수 이용해서 오름차순으로 sorting 하고 print\n",
        "print(myL.sort()) # gives none bc sort() function does not have 'returning' function \n",
        "print(myL) "
      ],
      "execution_count": null,
      "outputs": [
        {
          "output_type": "stream",
          "text": [
            "None\n",
            "[1, 3, 4, 10]\n"
          ],
          "name": "stdout"
        }
      ]
    },
    {
      "cell_type": "code",
      "metadata": {
        "colab": {
          "base_uri": "https://localhost:8080/"
        },
        "id": "MmhdMbDUHS0y",
        "outputId": "c122c8c1-77ba-44c9-8a1a-8ae1e5570a7a"
      },
      "source": [
        "print(sorted(myL)) # this includes returning the value"
      ],
      "execution_count": null,
      "outputs": [
        {
          "output_type": "stream",
          "text": [
            "[1, 3, 4, 10]\n"
          ],
          "name": "stdout"
        }
      ]
    },
    {
      "cell_type": "code",
      "metadata": {
        "colab": {
          "base_uri": "https://localhost:8080/"
        },
        "id": "cawKt19BHSyy",
        "outputId": "43e09f97-c9b6-4cc8-dab7-216fa8000453"
      },
      "source": [
        "#2 default 매개변수 \n",
        "def calc1(end, start=0):\n",
        "  print('start : {}, end {}' .format(start, end))\n",
        "\n",
        "calc1(4)"
      ],
      "execution_count": null,
      "outputs": [
        {
          "output_type": "stream",
          "text": [
            "start : 0, end 4\n"
          ],
          "name": "stdout"
        }
      ]
    },
    {
      "cell_type": "code",
      "metadata": {
        "id": "XaRynlZqHSw2"
      },
      "source": [
        "import pandas as pd\n",
        "pd.read_csv?"
      ],
      "execution_count": null,
      "outputs": []
    },
    {
      "cell_type": "code",
      "metadata": {
        "colab": {
          "base_uri": "https://localhost:8080/"
        },
        "id": "pesbsr6nHSug",
        "outputId": "ea6b651c-1b06-4b44-f20a-da0155040d3c"
      },
      "source": [
        "#3. keyword 매개변수\n",
        "def showinfo(name,age):\n",
        "  print('이름은', name, '나이는', age)\n",
        "\n",
        "showinfo(\"박태은\", 28)\n",
        "showinfo(age=28, name='박태은') # assign the value correctly"
      ],
      "execution_count": null,
      "outputs": [
        {
          "output_type": "stream",
          "text": [
            "이름은 박태은 나이는 28\n",
            "이름은 박태은 나이는 28\n"
          ],
          "name": "stdout"
        }
      ]
    },
    {
      "cell_type": "code",
      "metadata": {
        "colab": {
          "base_uri": "https://localhost:8080/"
        },
        "id": "KbSBTftLWlwP",
        "outputId": "92badd3e-7258-473c-b174-768d85e1c922"
      },
      "source": [
        "#4. 가변 매개변수 -> *args: tuple, **args: dictionary\n",
        "def calc3(*args):\n",
        "  print(args[1])\n",
        "\n",
        "calc3(3,4,5)\n",
        "calc3(1,2,3,4,5)"
      ],
      "execution_count": null,
      "outputs": [
        {
          "output_type": "stream",
          "text": [
            "4\n",
            "2\n"
          ],
          "name": "stdout"
        }
      ]
    },
    {
      "cell_type": "code",
      "metadata": {
        "colab": {
          "base_uri": "https://localhost:8080/"
        },
        "id": "El2-7pyFV5Et",
        "outputId": "9a097775-226e-443a-cc4d-4e7bb0cb968a"
      },
      "source": [
        "# function 구현\n",
        "# 함수명: getMean(data) -> 전달받은 list mean value\n",
        "\n",
        "import math\n",
        "    \n",
        "def getMean(data):\n",
        "  sum_data = 0\n",
        "  # find the sum of the list\n",
        "  for i in data:\n",
        "    sum_data = sum_data + i\n",
        "  print ('total_sum:', sum_data)\n",
        "  # round it to two decimal places\n",
        "  avg = round(sum_data / len(data), 2)\n",
        "  return avg\n",
        "\n",
        "getMean([3,2,1,5])"
      ],
      "execution_count": null,
      "outputs": [
        {
          "output_type": "stream",
          "text": [
            "total_sum: 11\n"
          ],
          "name": "stdout"
        },
        {
          "output_type": "execute_result",
          "data": {
            "text/plain": [
              "2.75"
            ]
          },
          "metadata": {
            "tags": []
          },
          "execution_count": 201
        }
      ]
    },
    {
      "cell_type": "code",
      "metadata": {
        "id": "JQKy17HBWjz_"
      },
      "source": [
        ""
      ],
      "execution_count": null,
      "outputs": []
    },
    {
      "cell_type": "markdown",
      "metadata": {
        "id": "48kD952yTKJ9"
      },
      "source": [
        "# 모듈 사용법"
      ]
    },
    {
      "cell_type": "code",
      "metadata": {
        "id": "wZC2OYFjO1wO"
      },
      "source": [
        "# Math related Module\n",
        "#1. import \"module name\" \n",
        "import math"
      ],
      "execution_count": null,
      "outputs": []
    },
    {
      "cell_type": "code",
      "metadata": {
        "id": "LgZVNU3bO1t-",
        "colab": {
          "base_uri": "https://localhost:8080/"
        },
        "outputId": "eb62a9d1-e6fd-4cb7-a66c-dc49a54192f9"
      },
      "source": [
        "# what this module provides - 조회\n",
        "dir(math)\n",
        "print(math.sqrt(25)) "
      ],
      "execution_count": null,
      "outputs": [
        {
          "output_type": "stream",
          "text": [
            "5.0\n"
          ],
          "name": "stdout"
        }
      ]
    },
    {
      "cell_type": "code",
      "metadata": {
        "id": "wIoli-boO1r-",
        "colab": {
          "base_uri": "https://localhost:8080/"
        },
        "outputId": "f13a94bd-4c2a-45f8-a85a-232eba3ffac8"
      },
      "source": [
        "# import Module Name as Acronym (ex. import pandas ad pd)\n",
        "import math as mt\n",
        "print(mt.sqrt(25)) "
      ],
      "execution_count": null,
      "outputs": [
        {
          "output_type": "stream",
          "text": [
            "5.0\n"
          ],
          "name": "stdout"
        }
      ]
    },
    {
      "cell_type": "code",
      "metadata": {
        "id": "Hhk4jf4PO1pn"
      },
      "source": [
        "# from Module Name import variable name / function name ...\n",
        "from math import sqrt\n",
        "sqrt(42)"
      ],
      "execution_count": null,
      "outputs": []
    },
    {
      "cell_type": "markdown",
      "metadata": {
        "id": "8IoyYlGuTISX"
      },
      "source": [
        ""
      ]
    },
    {
      "cell_type": "code",
      "metadata": {
        "colab": {
          "base_uri": "https://localhost:8080/"
        },
        "id": "lXfwk9XCEwam",
        "outputId": "b3e62d50-676b-442d-98b8-172cbc60001e"
      },
      "source": [
        "test='13579'\n",
        "test[::-2]"
      ],
      "execution_count": null,
      "outputs": [
        {
          "output_type": "execute_result",
          "data": {
            "application/vnd.google.colaboratory.intrinsic+json": {
              "type": "string"
            },
            "text/plain": [
              "'951'"
            ]
          },
          "metadata": {
            "tags": []
          },
          "execution_count": 26
        }
      ]
    }
  ]
}